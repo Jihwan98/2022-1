{
 "cells": [
  {
   "cell_type": "code",
   "execution_count": 3,
   "metadata": {},
   "outputs": [
    {
     "name": "stdout",
     "output_type": "stream",
     "text": [
      "data/Sample1\\4625.38405.33988.17340.36372.43091.37138.15103.100.279.dcm\n",
      "data/Sample2\\2916.57736.31797.19482.39484.40487.59978.50158.100.328.dcm\n",
      "data/Sample3\\10011293.55972.53729.16560.35413.4818.11036.29849.100.201.dcm\n",
      "data/Sample4\\1.2.276.0.55.1.290.435759729.27088.dcm\n"
     ]
    }
   ],
   "source": [
    "import os\n",
    "data_list = os.listdir('data/Sample1')\n",
    "dicom_path = os.path.join('data/Sample1',data_list[200])\n",
    "print(dicom_path)\n",
    "\n",
    "data_list = os.listdir('data/Sample2')\n",
    "dicom_path = os.path.join('data/Sample2',data_list[255])\n",
    "print(dicom_path)\n",
    "\n",
    "data_list = os.listdir('data/Sample3')\n",
    "dicom_path = os.path.join('data/Sample3',data_list[115])\n",
    "print(dicom_path)\n",
    "\n",
    "data_list = os.listdir('data/Sample4')\n",
    "dicom_path = os.path.join('data/Sample4',data_list[211])\n",
    "print(dicom_path)"
   ]
  },
  {
   "cell_type": "code",
   "execution_count": null,
   "metadata": {},
   "outputs": [],
   "source": []
  }
 ],
 "metadata": {
  "interpreter": {
   "hash": "88bd2e5fa4fd7387bccdf8178a88b6fb38174a4dc7856e8ea66f0bd24e8d1ea3"
  },
  "kernelspec": {
   "display_name": "Python 3.8.12 ('dicom')",
   "language": "python",
   "name": "python3"
  },
  "language_info": {
   "codemirror_mode": {
    "name": "ipython",
    "version": 3
   },
   "file_extension": ".py",
   "mimetype": "text/x-python",
   "name": "python",
   "nbconvert_exporter": "python",
   "pygments_lexer": "ipython3",
   "version": "3.8.12"
  },
  "orig_nbformat": 4
 },
 "nbformat": 4,
 "nbformat_minor": 2
}
