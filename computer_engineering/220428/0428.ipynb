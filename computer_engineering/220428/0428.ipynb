{
 "cells": [
  {
   "cell_type": "code",
   "execution_count": 1,
   "metadata": {},
   "outputs": [
    {
     "name": "stdout",
     "output_type": "stream",
     "text": [
      "a= [1, 3, 2, 3, 5, 3, 6, 3, 4, 4]\n",
      "b= [3, 2, 3, 1, 2, 2, 6, 3, 2, 2]\n",
      "-------------------------------------\n",
      "A의 주사위 합 : 34, B의 주사위 합 : 26, Result = A winner\n"
     ]
    }
   ],
   "source": [
    "import random\n",
    "\n",
    "a, b = [], []\n",
    "for i in range(10):\n",
    "    a.append(random.randrange(1, 7))\n",
    "    b.append(random.randrange(1, 7))\n",
    "\n",
    "num_a = sum(a)\n",
    "num_b = sum(b)\n",
    "\n",
    "print(\"a=\",a)\n",
    "print(\"b=\",b)\n",
    "print(\"-\"*37)\n",
    "\n",
    "if num_a > num_b:\n",
    "    result = \"A winner\"\n",
    "elif num_a < num_b:\n",
    "    result = \"B winner\"\n",
    "else:\n",
    "    result = \"A = B\"\n",
    "\n",
    "print(f\"A의 주사위 합 : {num_a:2d}, B의 주사위 합 : {num_b:2d}, Result = {result}\")"
   ]
  },
  {
   "cell_type": "code",
   "execution_count": 2,
   "metadata": {},
   "outputs": [
    {
     "name": "stdout",
     "output_type": "stream",
     "text": [
      "생성된 리스트 [3, 8, 3, 1, 8, 1, 0, 6, 9, 8]\n",
      "합계 : 47, 평균 :  4.70\n",
      "합계 : 47\n"
     ]
    }
   ],
   "source": [
    "aa = []\n",
    "hap = 0\n",
    "for i in range(0, 10) :\n",
    "    aa.append(random.randrange(0,10))\n",
    "\n",
    "print(\"생성된 리스트\", aa)\n",
    "\n",
    "for i in range(len(aa)):\n",
    "    hap += aa[i]\n",
    "\n",
    "mean = hap / len(aa)\n",
    "print(\"합계 : %d, 평균 : %5.2f\" % (hap, mean))\n",
    "print(\"합계 : %d\"%(sum(aa)))"
   ]
  },
  {
   "cell_type": "code",
   "execution_count": 4,
   "metadata": {},
   "outputs": [
    {
     "name": "stdout",
     "output_type": "stream",
     "text": [
      "합계 : 36, 평균 :  4.00\n"
     ]
    }
   ],
   "source": [
    "aa = []\n",
    "mean, hap = 0, 0\n",
    "\n",
    "num = int(input(\"주사위를 몇 번 던질까요?\"))\n",
    "\n",
    "for i in range(num):\n",
    "    aa.append(random.randrange(1, 7))\n",
    "\n",
    "hap = sum(aa)\n",
    "mean = hap / num\n",
    "print(\"합계 : %d, 평균 : %5.2f\" % (hap, mean))"
   ]
  },
  {
   "cell_type": "code",
   "execution_count": 5,
   "metadata": {},
   "outputs": [
    {
     "name": "stdout",
     "output_type": "stream",
     "text": [
      "aa = [0, 2, 4, 6, 8, 10, 12, 14, 16, 18, 20, 22, 24, 26, 28, 30, 32, 34, 36, 38, 40, 42, 44, 46, 48, 50, 52, 54, 56, 58, 60, 62, 64, 66, 68, 70, 72, 74, 76, 78, 80, 82, 84, 86, 88, 90, 92, 94, 96, 98, 100, 102, 104, 106, 108, 110, 112, 114, 116, 118, 120, 122, 124, 126, 128, 130, 132, 134, 136, 138, 140, 142, 144, 146, 148, 150, 152, 154, 156, 158, 160, 162, 164, 166, 168, 170, 172, 174, 176, 178, 180, 182, 184, 186, 188, 190, 192, 194, 196, 198]\n",
      "bb = [198, 196, 194, 192, 190, 188, 186, 184, 182, 180, 178, 176, 174, 172, 170, 168, 166, 164, 162, 160, 158, 156, 154, 152, 150, 148, 146, 144, 142, 140, 138, 136, 134, 132, 130, 128, 126, 124, 122, 120, 118, 116, 114, 112, 110, 108, 106, 104, 102, 100, 98, 96, 94, 92, 90, 88, 86, 84, 82, 80, 78, 76, 74, 72, 70, 68, 66, 64, 62, 60, 58, 56, 54, 52, 50, 48, 46, 44, 42, 40, 38, 36, 34, 32, 30, 28, 26, 24, 22, 20, 18, 16, 14, 12, 10, 8, 6, 4, 2, 0]\n"
     ]
    }
   ],
   "source": [
    "aa = []\n",
    "bb = []\n",
    "value = 0\n",
    "\n",
    "for i in range(100):\n",
    "    aa.append(value)\n",
    "    value += 2\n",
    "for i in range(100):\n",
    "    bb.append(aa[99-i])\n",
    "\n",
    "print(f\"aa = {aa}\")\n",
    "print(f\"bb = {bb}\")"
   ]
  },
  {
   "cell_type": "code",
   "execution_count": null,
   "metadata": {},
   "outputs": [],
   "source": []
  }
 ],
 "metadata": {
  "interpreter": {
   "hash": "573638ae49551fcfe7f6e4028d99ee66259e02ec18060ba3ce06fdbb0c98767d"
  },
  "kernelspec": {
   "display_name": "Python 3.8.12 ('dicom')",
   "language": "python",
   "name": "python3"
  },
  "language_info": {
   "codemirror_mode": {
    "name": "ipython",
    "version": 3
   },
   "file_extension": ".py",
   "mimetype": "text/x-python",
   "name": "python",
   "nbconvert_exporter": "python",
   "pygments_lexer": "ipython3",
   "version": "3.8.12"
  },
  "orig_nbformat": 4
 },
 "nbformat": 4,
 "nbformat_minor": 2
}
