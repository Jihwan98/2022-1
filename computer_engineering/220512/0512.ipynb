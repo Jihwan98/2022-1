{
 "cells": [
  {
   "cell_type": "code",
   "execution_count": 1,
   "metadata": {},
   "outputs": [
    {
     "data": {
      "text/plain": [
       "['자동차-A', '자동차-B', '자동차-C']"
      ]
     },
     "execution_count": 1,
     "metadata": {},
     "output_type": "execute_result"
    }
   ],
   "source": [
    "parking = []\n",
    "parking.append('자동차-A')\n",
    "parking.append('자동차-B')\n",
    "parking.append('자동차-C')\n",
    "parking"
   ]
  },
  {
   "cell_type": "code",
   "execution_count": 2,
   "metadata": {},
   "outputs": [
    {
     "data": {
      "text/plain": [
       "[]"
      ]
     },
     "execution_count": 2,
     "metadata": {},
     "output_type": "execute_result"
    }
   ],
   "source": [
    "parking.pop()\n",
    "parking.pop()\n",
    "parking.pop()\n",
    "parking"
   ]
  },
  {
   "cell_type": "code",
   "execution_count": 3,
   "metadata": {},
   "outputs": [
    {
     "name": "stdout",
     "output_type": "stream",
     "text": [
      "정렬 전 데이터 : 91 75 88 85 40 19 71 32 72 20 \n",
      "정렬 후 데이터 : 19 20 32 40 71 72 75 85 88 91 \n"
     ]
    }
   ],
   "source": [
    "import random\n",
    "\n",
    "data = []\n",
    "i, k = 0, 0\n",
    "\n",
    "for i in range(10):\n",
    "    tmp = random.randrange(0, 100)\n",
    "    data.append(tmp)\n",
    "\n",
    "print('정렬 전 데이터 : ', end='')\n",
    "[print(num, end=' ') for num in data]\n",
    "\n",
    "for i in range(0, len(data)-1):\n",
    "    for k in range(i+1, len(data)):\n",
    "        if int(data[i]) > int(data[k]): # 오름차순\n",
    "            tmp = data[i]\n",
    "            data[i] = data[k]\n",
    "            data[k] = tmp\n",
    "print()\n",
    "print('정렬 후 데이터 : ', end='')\n",
    "[print(num, end=' ') for num in data]\n",
    "print()"
   ]
  },
  {
   "cell_type": "code",
   "execution_count": 4,
   "metadata": {},
   "outputs": [
    {
     "name": "stdout",
     "output_type": "stream",
     "text": [
      "정렬 전 데이터 : 0x3d 0x39 0x57 0x35 0x53 0x26 0x5f 0x3a 0x17 0x22 \n",
      "정렬 후 데이터 : 0x5f 0x57 0x53 0x3d 0x3a 0x39 0x35 0x26 0x22 0x17 \n"
     ]
    }
   ],
   "source": [
    "import random\n",
    "\n",
    "data = []\n",
    "i, k = 0, 0\n",
    "\n",
    "for i in range(10):\n",
    "    tmp = hex(random.randrange(0, 100))\n",
    "    data.append(tmp)\n",
    "\n",
    "print('정렬 전 데이터 : ', end='')\n",
    "[print(num, end=' ') for num in data]\n",
    "\n",
    "for i in range(0, len(data)-1):\n",
    "    for k in range(i+1, len(data)):\n",
    "        if int(data[i], 16) < int(data[k], 16): # 내림차순\n",
    "            tmp = data[i]\n",
    "            data[i] = data[k]\n",
    "            data[k] = tmp\n",
    "print()\n",
    "print('정렬 후 데이터 : ', end='')\n",
    "[print(num, end=' ') for num in data]\n",
    "print()"
   ]
  },
  {
   "cell_type": "code",
   "execution_count": 7,
   "metadata": {},
   "outputs": [
    {
     "name": "stdout",
     "output_type": "stream",
     "text": [
      "정렬 전 데이터 : 0x61 0x35 0x4e 0x10 0x34 0x10 0x60 0x21 0xa 0x1a \n",
      "정렬 후 데이터 : 0xa 0x10 0x10 0x1a 0x21 0x34 0x35 0x4e 0x60 0x61 \n",
      "정렬 후 데이터 : ['0xa', '0x10', '0x10', '0x1a', '0x21', '0x34', '0x35', '0x4e', '0x60', '0x61']\n"
     ]
    }
   ],
   "source": [
    "# ex07-01-new01.py  - 16진수 정렬하기 계산 \n",
    "import random\n",
    "## 전역 변수 선언 부분 ##\n",
    "data = []\n",
    "i, k = 0, 0\n",
    "## 메인 코드 부분 ##\n",
    "for i in range (0, 10) :  # 임의의 데이터 10개 생성\n",
    "    tmp = hex( random.randrange(0, 101)) # 16 진수로 만들어 준다.\n",
    "    data.append(tmp)\n",
    "print('정렬 전 데이터 : ', end = '')\n",
    "[print(num, end = ' ') for num in data] \n",
    "for i in range(0, len(data)-1) :\n",
    "    for k in range(i+1, len(data)) :\n",
    "        if int(data[i], 16) > int(data[k], 16) : # 오름차순 \n",
    "            tmp = data[i]\n",
    "            data[i]  = data[k]\n",
    "            data[k] = tmp\n",
    "print('\\n정렬 후 데이터 : ', end = '')\n",
    "[print(num, end = ' ') for num in data] \n",
    "print('\\n정렬 후 데이터 :', data)"
   ]
  },
  {
   "cell_type": "code",
   "execution_count": 9,
   "metadata": {},
   "outputs": [
    {
     "name": "stdout",
     "output_type": "stream",
     "text": [
      "파#썬#완#재#있#요"
     ]
    }
   ],
   "source": [
    "ss = '파이썬은완전재미있어요'\n",
    "sslen = len(ss)\n",
    "for i in range(0 , sslen) :\n",
    "    if i%2 ==0 :\n",
    "        print(ss[i], end='')\n",
    "    else :\n",
    "        print('#', end='')"
   ]
  },
  {
   "cell_type": "code",
   "execution_count": 10,
   "metadata": {},
   "outputs": [
    {
     "name": "stdout",
     "output_type": "stream",
     "text": [
      "내용을 거꾸로 출력 --> 요세앟녀안\n"
     ]
    }
   ],
   "source": [
    "# code08-02.py, 변수 선언 부분 ##\n",
    "inStr, outStr = \"\", \"\"\n",
    "count, i = 0, 0\n",
    "## 메인 코드 부분 ##\n",
    "inStr = input(\"문자열을 입력하세요 : \")\n",
    "count = len(inStr)\n",
    "for i in range(0, count) :\n",
    "     outStr += inStr[count - (i + 1)]\n",
    "print(\"내용을 거꾸로 출력 --> %s\" % outStr)"
   ]
  },
  {
   "cell_type": "code",
   "execution_count": 11,
   "metadata": {},
   "outputs": [
    {
     "name": "stdout",
     "output_type": "stream",
     "text": [
      "i ==>  count - (i + 1) \n",
      "Count = 5\n",
      "0  ==> 4\n",
      "1  ==> 3\n",
      "2  ==> 2\n",
      "3  ==> 1\n",
      "4  ==> 0\n",
      "내용을 거꾸로 출력 --> 밍래그로프\n"
     ]
    }
   ],
   "source": [
    "## 변수 선언 부분 ##\n",
    "inStr, outStr = \"\", \"\"\n",
    "count, i = 0, 0\n",
    "## 메인 코드 부분 ##\n",
    "inStr = input(\"문자열을 입력하세요 : \")\n",
    "count = len(inStr)\n",
    "print(\"i ==>  count - (i + 1) \")\n",
    "print(\"Count =\", count)\n",
    "for i in range(0, count) :\n",
    "     outStr += inStr[count - (i + 1)]\n",
    "     print(i ,\" ==>\",  count - (i + 1))\n",
    "print(\"내용을 거꾸로 출력 --> %s\" % outStr)"
   ]
  },
  {
   "cell_type": "code",
   "execution_count": 12,
   "metadata": {},
   "outputs": [
    {
     "name": "stdout",
     "output_type": "stream",
     "text": [
      "Count = 5\n",
      "0  ==> 4 ,   밍\n",
      "1  ==> 3 ,   래\n",
      "2  ==> 2 ,   그\n",
      "3  ==> 1 ,   로\n",
      "4  ==> 0 ,   프\n",
      "내용을 거꾸로 출력 --> 밍래그로프\n"
     ]
    }
   ],
   "source": [
    "## 변수 선언 부분 ##\n",
    "inStr, outStr = \"\", \"\"\n",
    "count, i = 0, 0\n",
    "## 메인 코드 부분 ##\n",
    "inStr = input(\"문자열을 입력하세요 : \")\n",
    "count = len(inStr)\n",
    "print(\"Count =\", count)\n",
    "for i in range(0, count) :\n",
    "     outStr += inStr[count - (i + 1)]\n",
    "     print(i ,\" ==>\", count - (i + 1), ',  ',  inStr[count - (i + 1)])\n",
    "print(\"내용을 거꾸로 출력 --> %s\" % outStr)"
   ]
  },
  {
   "cell_type": "code",
   "execution_count": 13,
   "metadata": {},
   "outputs": [
    {
     "data": {
      "text/plain": [
       "'PYTHON IS EASY'"
      ]
     },
     "execution_count": 13,
     "metadata": {},
     "output_type": "execute_result"
    }
   ],
   "source": [
    "ss = 'Python is Easy'\n",
    "ss.upper()"
   ]
  },
  {
   "cell_type": "code",
   "execution_count": 14,
   "metadata": {},
   "outputs": [
    {
     "data": {
      "text/plain": [
       "'Python Is Easy'"
      ]
     },
     "execution_count": 14,
     "metadata": {},
     "output_type": "execute_result"
    }
   ],
   "source": [
    "ss.title()"
   ]
  },
  {
   "cell_type": "code",
   "execution_count": 15,
   "metadata": {},
   "outputs": [
    {
     "name": "stdout",
     "output_type": "stream",
     "text": [
      "입력한 날짜의 10년 후 ==> 2032년05월12일\n"
     ]
    }
   ],
   "source": [
    "ss = input(\"날짜(연/월/일) 입력 ==> \")\n",
    "ssList = ss.split('/')\n",
    "print(\"입력한 날짜의 10년 후 ==> \", end = '')\n",
    "print( str(int(ssList[0]) + 10) + \"년\", end = '')\n",
    "print(ssList[1] + \"월\", end = '')\n",
    "print(ssList[2] + \"일\")"
   ]
  },
  {
   "cell_type": "code",
   "execution_count": null,
   "metadata": {},
   "outputs": [],
   "source": [
    "# zfill rjust"
   ]
  },
  {
   "cell_type": "code",
   "execution_count": null,
   "metadata": {},
   "outputs": [],
   "source": []
  }
 ],
 "metadata": {
  "interpreter": {
   "hash": "88bd2e5fa4fd7387bccdf8178a88b6fb38174a4dc7856e8ea66f0bd24e8d1ea3"
  },
  "kernelspec": {
   "display_name": "Python 3.8.12 ('dicom')",
   "language": "python",
   "name": "python3"
  },
  "language_info": {
   "codemirror_mode": {
    "name": "ipython",
    "version": 3
   },
   "file_extension": ".py",
   "mimetype": "text/x-python",
   "name": "python",
   "nbconvert_exporter": "python",
   "pygments_lexer": "ipython3",
   "version": "3.8.12"
  },
  "orig_nbformat": 4
 },
 "nbformat": 4,
 "nbformat_minor": 2
}
