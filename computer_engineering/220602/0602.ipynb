{
 "cells": [
  {
   "cell_type": "code",
   "execution_count": 1,
   "metadata": {},
   "outputs": [
    {
     "name": "stdout",
     "output_type": "stream",
     "text": [
      "Cookbook 파이썬을 공부합니다.\n",
      "완전 재미있어요.^^\n",
      "파이썬을 공부하길 잘 했네요~~"
     ]
    }
   ],
   "source": [
    "inFp = None    # 입력 파일\n",
    "inStr = \"\"        # 읽어온 문자열\n",
    "\n",
    "inFp = open(\"data1.txt\", \"r\")\n",
    "# inFp = open(\"data1.txt\", \"r\", encoding='cp949')\n",
    "# inFp = open(\"data1.txt\", \"r\", encoding='utf-8')\n",
    "\n",
    "inStr = inFp.readline()\n",
    "print(inStr, end = \"\")\n",
    "\n",
    "inStr = inFp.readline()\n",
    "print(inStr, end = \"\")\n",
    "\n",
    "inStr = inFp.readline()\n",
    "print(inStr, end = \"\")\n",
    "\n",
    "inFp.close()"
   ]
  },
  {
   "cell_type": "code",
   "execution_count": 2,
   "metadata": {},
   "outputs": [
    {
     "name": "stdout",
     "output_type": "stream",
     "text": [
      "Cookbook 파이썬을 공부합니다.\n",
      "완전 재미있어요.^^\n",
      "파이썬을 공부하길 잘 했네요~~"
     ]
    }
   ],
   "source": [
    "inFp = None\n",
    "inStr = \"\"\n",
    "\n",
    "inFp = open('data1.txt', 'r')\n",
    "\n",
    "while True:\n",
    "    inStr = inFp.readline()\n",
    "    if inStr == '':\n",
    "        break;\n",
    "    print(inStr, end='')\n",
    "\n",
    "inFp.close()"
   ]
  },
  {
   "cell_type": "code",
   "execution_count": 3,
   "metadata": {},
   "outputs": [
    {
     "name": "stdout",
     "output_type": "stream",
     "text": [
      "1 : Cookbook 파이썬을 공부합니다.\n",
      "2 : 완전 재미있어요.^^\n",
      "3 : 파이썬을 공부하길 잘 했네요~~"
     ]
    }
   ],
   "source": [
    "inFp = None\n",
    "inStr = \"\"\n",
    "\n",
    "inFp = open('data1.txt', 'r')\n",
    "line = 1\n",
    "while True:\n",
    "    inStr = inFp.readline()\n",
    "    if inStr == '':\n",
    "        break;\n",
    "    print(f\"{line} : {inStr}\", end='')\n",
    "    line += 1\n",
    "\n",
    "inFp.close()"
   ]
  },
  {
   "cell_type": "code",
   "execution_count": 4,
   "metadata": {},
   "outputs": [
    {
     "name": "stdout",
     "output_type": "stream",
     "text": [
      "0 1 2 3 4 5 6 7 8 9 "
     ]
    }
   ],
   "source": [
    "outfile = open('text06.txt', 'w')\n",
    "for i in range(10):\n",
    "    outfile.write(str(i) + ' ')\n",
    "    print(i, end=' ')\n",
    "outfile.close()"
   ]
  },
  {
   "cell_type": "code",
   "execution_count": 5,
   "metadata": {},
   "outputs": [
    {
     "name": "stdout",
     "output_type": "stream",
     "text": [
      "0\n",
      "1\n",
      "2\n",
      "3\n",
      "4\n",
      "5\n",
      "6\n",
      "7\n",
      "8\n",
      "9\n"
     ]
    }
   ],
   "source": [
    "outfile = open('text07.txt', 'w')\n",
    "for i in range(10):\n",
    "    outfile.write(str(i) + '\\n')\n",
    "    print(i)\n",
    "outfile.close()"
   ]
  },
  {
   "cell_type": "code",
   "execution_count": 6,
   "metadata": {},
   "outputs": [
    {
     "name": "stdout",
     "output_type": "stream",
     "text": [
      " 1번째 줄입니다.\n",
      " 2번째 줄입니다.\n",
      " 3번째 줄입니다.\n",
      " 4번째 줄입니다.\n",
      " 5번째 줄입니다.\n",
      " 6번째 줄입니다.\n",
      " 7번째 줄입니다.\n",
      " 8번째 줄입니다.\n",
      " 9번째 줄입니다.\n",
      "10번째 줄입니다.\n"
     ]
    }
   ],
   "source": [
    "f = open('foo3.txt', 'w')\n",
    "for i in range(1, 11):\n",
    "    data = \"%2d번째 줄입니다.\\n\" % i\n",
    "    f.write(data)\n",
    "    print(data, end='')\n",
    "f.close()"
   ]
  },
  {
   "cell_type": "code",
   "execution_count": 7,
   "metadata": {},
   "outputs": [
    {
     "name": "stdout",
     "output_type": "stream",
     "text": [
      "11번째 줄입니다.\n",
      "12번째 줄입니다.\n",
      "13번째 줄입니다.\n",
      "14번째 줄입니다.\n",
      "15번째 줄입니다.\n",
      "16번째 줄입니다.\n",
      "17번째 줄입니다.\n",
      "18번째 줄입니다.\n",
      "19번째 줄입니다.\n"
     ]
    }
   ],
   "source": [
    "f = open('foo3.txt','a') # 추가 mode , append test\n",
    "for i in range(11, 20):\n",
    "    data = \"%d번째 줄입니다.\\n\" % i\n",
    "    f.write(data)\n",
    "    print(data, end='')\n",
    "f.close()"
   ]
  },
  {
   "cell_type": "code",
   "execution_count": 8,
   "metadata": {},
   "outputs": [
    {
     "name": "stdout",
     "output_type": "stream",
     "text": [
      "5\n",
      "3\n",
      "7\n",
      "7\n",
      "9\n",
      "6\n",
      "3\n",
      "7\n",
      "4\n",
      "4\n"
     ]
    }
   ],
   "source": [
    "import random\n",
    "\n",
    "f = open('randint31.txt', 'w')\n",
    "for i in range(1, 11):\n",
    "    n = random.randint(1, 10)\n",
    "    f.write(str(n) + '\\n')\n",
    "    print(n)\n",
    "\n",
    "f.close()"
   ]
  },
  {
   "cell_type": "code",
   "execution_count": 9,
   "metadata": {},
   "outputs": [
    {
     "name": "stdout",
     "output_type": "stream",
     "text": [
      "  5\n",
      "  3\n",
      "  7\n",
      "  7\n",
      "  9\n",
      "  6\n",
      "  3\n",
      "  7\n",
      "  4\n",
      "  4\n",
      "------------------------------\n",
      "숫자의 합 = 55, 평균 = 5.5\n"
     ]
    }
   ],
   "source": [
    "f = open('randint31.txt', 'r')\n",
    "sum, count = 0, 0\n",
    "while True:\n",
    "    inStr = f.readline()\n",
    "    if not inStr:\n",
    "        break\n",
    "    print(\" \", inStr, end='')\n",
    "    sum += int(inStr)\n",
    "    count += 1\n",
    "print(\"-\"*30)\n",
    "print(f'숫자의 합 = {sum}, 평균 = {sum/count}')\n",
    "f.close()"
   ]
  },
  {
   "cell_type": "code",
   "execution_count": 18,
   "metadata": {},
   "outputs": [
    {
     "name": "stdout",
     "output_type": "stream",
     "text": [
      "1\n",
      "2\n",
      "3\n",
      "4\n",
      "5\n",
      "6\n",
      "7\n",
      "8\n",
      "9\n",
      "10\n"
     ]
    }
   ],
   "source": [
    "f = open('number11.txt', 'w')\n",
    "for i in range(1, 11):\n",
    "    f.write(str(i) + '\\n')\n",
    "    print(i)\n",
    "f.close()"
   ]
  },
  {
   "cell_type": "code",
   "execution_count": 20,
   "metadata": {},
   "outputs": [
    {
     "name": "stdout",
     "output_type": "stream",
     "text": [
      "n1=1, n2=10\n",
      "n1=2, n2=20\n",
      "n1=3, n2=30\n",
      "n1=4, n2=40\n",
      "n1=5, n2=50\n",
      "n1=6, n2=60\n",
      "n1=7, n2=70\n",
      "n1=8, n2=80\n",
      "n1=9, n2=90\n",
      "n1=10, n2=100\n"
     ]
    }
   ],
   "source": [
    "infile = open('number11.txt', 'r')\n",
    "outfile = open('number12.txt', 'w')\n",
    "\n",
    "for i in range(1, 11):\n",
    "    n1 = int(infile.readline())\n",
    "    n2 = 10 * n1\n",
    "    outfile.write(str(n2) + '\\n')\n",
    "    print(f\"n1={n1}, n2={n2}\")\n",
    "\n",
    "outfile.close()\n",
    "infile.close()"
   ]
  },
  {
   "cell_type": "code",
   "execution_count": 21,
   "metadata": {},
   "outputs": [],
   "source": [
    "my_list = [0, 1, 2, 3, 4, 5, 6, 7, 8, 9, 10]\n",
    "outfile = open('test11.txt', 'w') # open a file in write mode\n",
    "for item in my_list:    # iterate over the list items\n",
    "    outfile.write(str(item) + '\\n') # write to the file\n",
    "    \n",
    "outfile.close()   # close the file "
   ]
  },
  {
   "cell_type": "code",
   "execution_count": 22,
   "metadata": {},
   "outputs": [],
   "source": [
    "infile = open('number11.txt', 'r')\n",
    "outfile = open('number12.txt', 'w')\n",
    "\n",
    "for i in range(1, 11):\n",
    "    n = int(infile.readline())\n",
    "    outfile.write(str(n * 10) + '\\n')\n",
    "\n",
    "outfile.close()\n",
    "infile.close()"
   ]
  },
  {
   "cell_type": "code",
   "execution_count": null,
   "metadata": {},
   "outputs": [],
   "source": []
  }
 ],
 "metadata": {
  "interpreter": {
   "hash": "88bd2e5fa4fd7387bccdf8178a88b6fb38174a4dc7856e8ea66f0bd24e8d1ea3"
  },
  "kernelspec": {
   "display_name": "Python 3.8.12 ('dicom')",
   "language": "python",
   "name": "python3"
  },
  "language_info": {
   "codemirror_mode": {
    "name": "ipython",
    "version": 3
   },
   "file_extension": ".py",
   "mimetype": "text/x-python",
   "name": "python",
   "nbconvert_exporter": "python",
   "pygments_lexer": "ipython3",
   "version": "3.8.12"
  },
  "orig_nbformat": 4
 },
 "nbformat": 4,
 "nbformat_minor": 2
}
