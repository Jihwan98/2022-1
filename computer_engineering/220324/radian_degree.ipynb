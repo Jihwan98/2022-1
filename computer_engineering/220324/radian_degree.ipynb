{
 "cells": [
  {
   "cell_type": "code",
   "execution_count": 2,
   "metadata": {},
   "outputs": [
    {
     "name": "stdout",
     "output_type": "stream",
     "text": [
      "math.pi : 3.141592653589793\n",
      "math.radians(360) : 6.283185307179586\n",
      "math.degrees(2 * math.pi) : 360.0\n"
     ]
    }
   ],
   "source": [
    "import math\n",
    "a = math.pi\n",
    "b = math.radians(360)\n",
    "c = math.degrees(2 * math.pi)\n",
    "print(f\"math.pi : {a}\")\n",
    "print(f\"math.radians(360) : {b}\")\n",
    "print(f\"math.degrees(2 * math.pi) : {c}\")"
   ]
  },
  {
   "cell_type": "code",
   "execution_count": 3,
   "metadata": {},
   "outputs": [
    {
     "name": "stdout",
     "output_type": "stream",
     "text": [
      "degree\tsin(x)\tcos(x)\ttan(x)\n",
      "========================================\n",
      " 0\t0.0000\t1.0000\t0.0000\n",
      "30\t0.5000\t0.8660\t0.5774\n",
      "45\t0.7071\t0.7071\t1.0000\n",
      "60\t0.8660\t0.5000\t1.7321\n",
      "90\t1.0000\t0.0000\t16331239353195370.0000\n"
     ]
    }
   ],
   "source": [
    "print(\"degree\\tsin(x)\\tcos(x)\\ttan(x)\")\n",
    "print(\"=\"*40)\n",
    "\n",
    "degrees = [0, 30, 45, 60, 90]\n",
    "\n",
    "for val in degrees:\n",
    "    a = math.sin(math.pi * (val / 180))\n",
    "    b = math.cos(math.pi * (val / 180))\n",
    "    c = math.tan(math.pi * (val / 180))\n",
    "    print(f\"{val:2d}\\t{a:.4f}\\t{b:.4f}\\t{c:.4f}\")"
   ]
  },
  {
   "cell_type": "code",
   "execution_count": 4,
   "metadata": {},
   "outputs": [
    {
     "name": "stdout",
     "output_type": "stream",
     "text": [
      "180 / pi Degrees is equal to Radians : 1.0\n",
      "180 Degrees is equal to Radians : 3.141592653589793\n",
      "1 Degrees is equal to Radians : 0.017453292519943295\n"
     ]
    }
   ],
   "source": [
    "print(\"180 / pi Degrees is equal to Radians : \", end =\"\")\n",
    "print (math.radians(180 / math.pi))\n",
    "  \n",
    "print(\"180 Degrees is equal to Radians : \", end =\"\")\n",
    "print (math.radians(180))\n",
    "  \n",
    "print(\"1 Degrees is equal to Radians : \", end =\"\")\n",
    "print (math.radians(1))"
   ]
  },
  {
   "cell_type": "code",
   "execution_count": 5,
   "metadata": {},
   "outputs": [
    {
     "name": "stdout",
     "output_type": "stream",
     "text": [
      "pi / 180 Radians is equal to Degrees : 1.0\n",
      "180 Radians is equal to Degrees : 10313.240312354817\n",
      "1 Radians is equal to Degrees : 57.29577951308232\n"
     ]
    }
   ],
   "source": [
    "print(\"pi / 180 Radians is equal to Degrees : \", end =\"\")\n",
    "print (math.degrees(math.pi / 180))\n",
    "  \n",
    "print(\"180 Radians is equal to Degrees : \", end =\"\")\n",
    "print (math.degrees(180))\n",
    "  \n",
    "print(\"1 Radians is equal to Degrees : \", end =\"\")\n",
    "print (math.degrees(1))"
   ]
  },
  {
   "cell_type": "code",
   "execution_count": 7,
   "metadata": {},
   "outputs": [
    {
     "name": "stdout",
     "output_type": "stream",
     "text": [
      "acos(0.64) : 0.8762980611683406\n",
      "acos(0) : 1.5707963267948966\n",
      "acos(-1) : 3.141592653589793\n",
      "acos(1) : 0.0\n"
     ]
    }
   ],
   "source": [
    "print(\"acos(0.64) :\", math.acos(0.64))\n",
    "print(\"acos(0) :\", math.acos(0))\n",
    "print(\"acos(-1) :\", math.acos(-1))\n",
    "print(\"acos(1) :\", math.acos(1))"
   ]
  },
  {
   "cell_type": "code",
   "execution_count": 8,
   "metadata": {},
   "outputs": [
    {
     "name": "stdout",
     "output_type": "stream",
     "text": [
      "asin(0.64) : 0.694498265626556\n",
      "asin(0) : 0.0\n",
      "asin(-1) : -1.5707963267948966\n",
      "asin(1) : 1.5707963267948966\n"
     ]
    }
   ],
   "source": [
    "print(\"asin(0.64) :\", math.asin(0.64))\n",
    "print(\"asin(0) :\", math.asin(0))\n",
    "print(\"asin(-1) :\", math.asin(-1))\n",
    "print(\"asin(1) :\", math.asin(1))"
   ]
  },
  {
   "cell_type": "code",
   "execution_count": 9,
   "metadata": {},
   "outputs": [
    {
     "name": "stdout",
     "output_type": "stream",
     "text": [
      "atan(0.64) : 0.5693131911006619\n",
      "atan(0) : 0.0\n",
      "atan(10) : 1.4711276743037347\n",
      "atan(-1) : -0.7853981633974483\n",
      "atan(1) : 0.7853981633974483\n"
     ]
    }
   ],
   "source": [
    "print(\"atan(0.64) :\", math.atan(0.64))\n",
    "print(\"atan(0) :\", math.atan(0))\n",
    "print(\"atan(10) :\", math.atan(10))\n",
    "print(\"atan(-1) :\", math.atan(-1))\n",
    "print(\"atan(1) :\", math.atan(1))"
   ]
  },
  {
   "cell_type": "code",
   "execution_count": 32,
   "metadata": {},
   "outputs": [
    {
     "data": {
      "text/plain": [
       "[<matplotlib.lines.Line2D at 0x1ce15375b20>]"
      ]
     },
     "execution_count": 32,
     "metadata": {},
     "output_type": "execute_result"
    },
    {
     "data": {
      "image/png": "[encoded data removed]",
      "text/plain": [
       "<Figure size 432x288 with 1 Axes>"
      ]
     },
     "metadata": {
      "needs_background": "light"
     },
     "output_type": "display_data"
    }
   ],
   "source": [
    "# 혼자 해본 것임\n",
    "import matplotlib.pyplot as plt\n",
    "import numpy as np\n",
    "x = np.linspace(-10, 10, 100)\n",
    "y = []\n",
    "for i in x:\n",
    "    y.append(math.atan(i))\n",
    "\n",
    "plt.grid(True, linestyle=\"--\")\n",
    "plt.axhline(y=0, color='black', alpha=0.5)\n",
    "plt.axvline(x=0, color='black', alpha=0.5)\n",
    "plt.plot(x, y)"
   ]
  },
  {
   "cell_type": "code",
   "execution_count": null,
   "metadata": {},
   "outputs": [],
   "source": []
  }
 ],
 "metadata": {
  "interpreter": {
   "hash": "573638ae49551fcfe7f6e4028d99ee66259e02ec18060ba3ce06fdbb0c98767d"
  },
  "kernelspec": {
   "display_name": "Python 3.8.12 ('dicom')",
   "language": "python",
   "name": "python3"
  },
  "language_info": {
   "codemirror_mode": {
    "name": "ipython",
    "version": 3
   },
   "file_extension": ".py",
   "mimetype": "text/x-python",
   "name": "python",
   "nbconvert_exporter": "python",
   "pygments_lexer": "ipython3",
   "version": "3.8.12"
  },
  "orig_nbformat": 4
 },
 "nbformat": 4,
 "nbformat_minor": 2
}
