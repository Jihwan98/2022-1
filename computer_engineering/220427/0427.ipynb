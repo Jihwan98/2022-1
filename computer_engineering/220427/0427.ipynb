{
 "cells": [
  {
   "cell_type": "code",
   "execution_count": 2,
   "id": "b756a9dd",
   "metadata": {},
   "outputs": [
    {
     "name": "stdout",
     "output_type": "stream",
     "text": [
      "* 주사위가 발생한 횟수(1) *\n",
      "주사위가 1인 경우는 162 번\n",
      "주사위가 2인 경우는 160 번\n",
      "주사위가 3인 경우는 174 번\n",
      "주사위가 4인 경우는 178 번\n",
      "주사위가 5인 경우는 163 번\n",
      "주사위가 6인 경우는 163 번\n",
      "\n",
      "* 주사위가 발생한 횟수 (2) *\n",
      "counters[ 1] = 162\n",
      "counters[ 2] = 160\n",
      "counters[ 3] = 174\n",
      "counters[ 4] = 178\n",
      "counters[ 5] = 163\n",
      "counters[ 6] = 163\n"
     ]
    }
   ],
   "source": [
    "import random\n",
    "\n",
    "counters = [0]*7\n",
    "\n",
    "for i in range(1000):\n",
    "  value = random.randint(1,6)\n",
    "  counters[value] += 1\n",
    "\n",
    "print(\"* 주사위가 발생한 횟수(1) *\")\n",
    "for i in range(1, 7):\n",
    "  print(f\"주사위가 {i}인 경우는 {counters[i]} 번\")\n",
    "\n",
    "print()\n",
    "print(\"* 주사위가 발생한 횟수 (2) *\")\n",
    "for i in range(1, 7):\n",
    "  print(f\"counters[%2d] = %3d\"%(i, counters[i]))"
   ]
  },
  {
   "cell_type": "code",
   "execution_count": 3,
   "id": "752fdc60",
   "metadata": {},
   "outputs": [
    {
     "data": {
      "text/plain": [
       "100"
      ]
     },
     "execution_count": 3,
     "metadata": {},
     "output_type": "execute_result"
    }
   ],
   "source": [
    "aa = []\n",
    "\n",
    "for i in range(100):\n",
    "    aa.append(0)\n",
    "len(aa)"
   ]
  },
  {
   "cell_type": "code",
   "execution_count": 4,
   "id": "54078c67",
   "metadata": {},
   "outputs": [
    {
     "name": "stdout",
     "output_type": "stream",
     "text": [
      "합계 ==> 11\n"
     ]
    }
   ],
   "source": [
    "aa = []\n",
    "for i in range(0, 4) :\n",
    "    aa.append(0)\n",
    "hap = 0\n",
    "\n",
    "for i in range(0, 4) :\n",
    "    aa[i] = int(input(str(i+1) + \"번째 숫자 : \" ))\n",
    "\n",
    "hap = aa[0] + aa[1] + aa[2] + aa[3]\n",
    "\n",
    "print(\"합계 ==> %d\" % hap)"
   ]
  },
  {
   "cell_type": "code",
   "execution_count": 5,
   "id": "806bf302",
   "metadata": {},
   "outputs": [
    {
     "name": "stdout",
     "output_type": "stream",
     "text": [
      "합계 ==> 17\n"
     ]
    }
   ],
   "source": [
    "aa = []\n",
    "for i in range(0, 4) :\n",
    "    aa.append(0)\n",
    "hap = 0\n",
    "\n",
    "for i in range(0, 4) :\n",
    "    aa[i] = int(input(str(i+1) + \"번째 숫자 : \" ))\n",
    "    hap += aa[i]\n",
    "    \n",
    "print(\"합계 ==> %d\" % hap)"
   ]
  },
  {
   "cell_type": "code",
   "execution_count": 10,
   "id": "851fab28",
   "metadata": {},
   "outputs": [
    {
     "name": "stdout",
     "output_type": "stream",
     "text": [
      "생성된 리스트 [3, 4, 8, 0, 6, 7, 1, 4, 5, 7]\n",
      "합계 : 45, 평균 :  4.50\n",
      "합계 : 45\n"
     ]
    }
   ],
   "source": [
    "aa = []\n",
    "hap = 0\n",
    "for i in range(0, 10) :\n",
    "    aa.append(random.randrange(0,10))\n",
    "\n",
    "print(\"생성된 리스트\", aa)\n",
    "\n",
    "for i in range(len(aa)):\n",
    "    hap += aa[i]\n",
    "\n",
    "mean = hap / len(aa)\n",
    "print(\"합계 : %d, 평균 : %5.2f\" % (hap, mean))\n",
    "print(\"합계 : %d\"%(sum(aa)))"
   ]
  },
  {
   "cell_type": "code",
   "execution_count": 11,
   "id": "72df8e59",
   "metadata": {},
   "outputs": [
    {
     "name": "stdout",
     "output_type": "stream",
     "text": [
      "a= [5, 6, 4, 5, 5, 6, 6, 2, 3, 4]\n",
      "b= [6, 6, 2, 4, 1, 4, 5, 2, 1, 5]\n",
      "-------------------------------------\n",
      "A의 주사위 합 : 46, B의 주사위 합 : 36, Result = A winner\n"
     ]
    }
   ],
   "source": [
    "a, b = [], []\n",
    "for i in range(10):\n",
    "    a.append(random.randrange(1, 7))\n",
    "    b.append(random.randrange(1, 7))\n",
    "\n",
    "num_a = sum(a)\n",
    "num_b = sum(b)\n",
    "\n",
    "print(\"a=\",a)\n",
    "print(\"b=\",b)\n",
    "print(\"-\"*37)\n",
    "\n",
    "if num_a > num_b:\n",
    "    result = \"A winner\"\n",
    "elif num_a < num_b:\n",
    "    result = \"B winner\"\n",
    "else:\n",
    "    result = \"A = B\"\n",
    "\n",
    "print(f\"A의 주사위 합 : {num_a:2d}, B의 주사위 합 : {num_b:2d}, Result = {result}\")"
   ]
  },
  {
   "cell_type": "code",
   "execution_count": null,
   "id": "2a7938c1",
   "metadata": {},
   "outputs": [],
   "source": []
  }
 ],
 "metadata": {
  "kernelspec": {
   "display_name": "Python 3 (ipykernel)",
   "language": "python",
   "name": "python3"
  },
  "language_info": {
   "codemirror_mode": {
    "name": "ipython",
    "version": 3
   },
   "file_extension": ".py",
   "mimetype": "text/x-python",
   "name": "python",
   "nbconvert_exporter": "python",
   "pygments_lexer": "ipython3",
   "version": "3.9.7"
  }
 },
 "nbformat": 4,
 "nbformat_minor": 5
}
