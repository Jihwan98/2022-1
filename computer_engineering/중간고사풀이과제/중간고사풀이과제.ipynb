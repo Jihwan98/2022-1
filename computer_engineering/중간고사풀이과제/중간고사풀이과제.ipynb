{
 "cells": [
  {
   "cell_type": "code",
   "execution_count": 1,
   "metadata": {},
   "outputs": [
    {
     "name": "stdout",
     "output_type": "stream",
     "text": [
      "10 + 3 = 13\n",
      "10 - 3 = 7\n",
      "10 * 3 = 30\n",
      "10 / 3 = 3.333\n",
      "10 // 3 = 3\n",
      "10 % 3 = 1\n",
      "10 ** 3 = 1000\n"
     ]
    }
   ],
   "source": [
    "\"\"\"\n",
    "[문제-1] 다음 실행결과를 보고 format 출력서식을 사용하여 출력하는 프로그램을 작성하시오.\n",
    "\n",
    "[실행결과]\n",
    "\n",
    "첫 번째 숫자를 입력하세요, a = : 10\n",
    "\n",
    "두 번째 숫자를 입력하세요, b = : 3\n",
    "\n",
    "10 + 3 = 13\n",
    "\n",
    "10 - 3 = 7\n",
    "\n",
    "10 * 3 = 30\n",
    "\n",
    "10 / 3 = 3.333\n",
    "\n",
    "10 // 3 = 3\n",
    "\n",
    "10 % 3 = 1\n",
    "\n",
    "10 ** 3 = 1000\n",
    "\"\"\"\n",
    "\n",
    "a = int(input(\"첫 번째 숫자를 입력하세요, a = : \"))\n",
    "b = int(input(\"두 번째 숫자를 입력하세요, b = : \"))\n",
    "\n",
    "print(\"{0} + {1} = {2}\".format(a, b, a+b))\n",
    "print(\"{0} - {1} = {2}\".format(a, b, a-b))\n",
    "print(\"{0} * {1} = {2}\".format(a, b, a*b))\n",
    "print(\"{0} / {1} = {2:.3f}\".format(a, b, a/b))\n",
    "print(\"{0} // {1} = {2}\".format(a, b, a//b))\n",
    "print(\"{0} % {1} = {2}\".format(a, b, a%b))\n",
    "print(\"{0} ** {1} = {2}\".format(a, b, a**b))"
   ]
  },
  {
   "cell_type": "code",
   "execution_count": 2,
   "metadata": {},
   "outputs": [
    {
     "name": "stdout",
     "output_type": "stream",
     "text": [
      "1에서 100까지의 3의 배수의 합 : 1683\n",
      "1에서 100까지의 5의 배수의 합 : 1050\n",
      "1에서 100까지의 3 과 5의 배수의 합 : 315\n",
      "1에서 100까지의 3 또는 5의 배수의 합 : 2418\n"
     ]
    }
   ],
   "source": [
    "\"\"\"\n",
    "[문제-2] 숫자 100를 키보드로 입력하여 3의 배수, 5의 배수, 3 또는 5의 배수, \n",
    "3과 5의 배수의 합을 계산하여 출력하는 프로그램을 for 문을 작성하시오.\n",
    "\n",
    "[실행 결과]\n",
    "\n",
    "마지막 값을 입력하세요 : 100\n",
    "\n",
    "1에서 100까지의 3의 배수의 합 : 1683\n",
    "\n",
    "1에서 100까지의 5의 배수의 합 : 1050\n",
    "\n",
    "1에서 100까지의 3 과 5의 배수의 합 : 315\n",
    "\n",
    "1에서 100까지의 3 또는 5의 배수의 합 : 2418\n",
    "\"\"\"\n",
    "\n",
    "num = int(input(\"마지막 값을 입력하세요 : \"))\n",
    "\n",
    "sum_3, sum_5, sum_3or5, sum_3and5 = [0] * 4\n",
    "for i in range(1, 101):\n",
    "    if i % 3 == 0:\n",
    "        sum_3 += i\n",
    "    if i % 5 == 0:\n",
    "        sum_5 += i\n",
    "    if (i % 3 == 0) or (i % 5 == 0):\n",
    "        sum_3or5 += i\n",
    "    if (i % 3 == 0) and (i % 5 == 0):\n",
    "        sum_3and5 += i\n",
    "\n",
    "print(\"1에서 100까지의 3의 배수의 합 :\", sum_3)\n",
    "print(\"1에서 100까지의 5의 배수의 합 :\", sum_5)\n",
    "print(\"1에서 100까지의 3 과 5의 배수의 합 :\", sum_3and5)\n",
    "print(\"1에서 100까지의 3 또는 5의 배수의 합 :\", sum_3or5)"
   ]
  },
  {
   "cell_type": "code",
   "execution_count": 3,
   "metadata": {},
   "outputs": [
    {
     "name": "stdout",
     "output_type": "stream",
     "text": [
      "생성된 리스트 [9, 3, 7, 0, 7, 6, 2, 6, 3, 3]\n",
      "생성되지 않은 리스트 [1, 4, 5, 8]\n"
     ]
    }
   ],
   "source": [
    "\"\"\"\n",
    "[문제-3] 0부터 9까지의 난수를 10번 발생시켰을 때 \n",
    "생성된 리스트와 생성되지 않은 리스트를 보여주는 프로그램이다.\n",
    "실행결과와 동일하게 출력할 수 있는 프로그램을 작성하라.\n",
    "\n",
    "[실행결과]\n",
    "\n",
    "생성된 리스트 [5, 4, 0, 1, 8, 3, 8, 9, 4, 3]\n",
    "\n",
    "생성되지 않은 리스트 [2, 6, 7]\n",
    "\"\"\"\n",
    "\n",
    "import random\n",
    "\n",
    "list1, list2 = [], []\n",
    "\n",
    "for i in range(10):\n",
    "    list1.append(random.randrange(0,10))\n",
    "for i in range(10):\n",
    "    if i not in list1:\n",
    "        list2.append(i)\n",
    "print(\"생성된 리스트\", list1)\n",
    "print(\"생성되지 않은 리스트\", list2)"
   ]
  },
  {
   "cell_type": "code",
   "execution_count": 4,
   "metadata": {},
   "outputs": [
    {
     "name": "stdout",
     "output_type": "stream",
     "text": [
      "A의 주사위 합: 38, B의 주사위 합: 30, Result: A winner\n"
     ]
    }
   ],
   "source": [
    "\"\"\"\n",
    "[문제-4] 두 사람 A 와 B가 주사위 게임을 한다. \n",
    "무작위로 주사위를 10번 던져서 그 합계가 A가 이기면 \"A winner\", B가 이기면 \"B winner\", \n",
    "동일하면 \"A = B\"의 결과가 나와야 한다. 다음과 같이 출력하는 프로그램을 작성하시오.\n",
    "\n",
    "[실행결과-1]\n",
    "\n",
    "A의 주사위 합: 35, B의 주사위 합: 39, Result: B winner\n",
    "\n",
    "[실행결과-2]\n",
    "\n",
    "A의 주사위 합: 38, B의 주사위 합: 31, Result: A winner\n",
    "\"\"\"\n",
    "\n",
    "import random\n",
    "\n",
    "num_a, num_b = [], []\n",
    "for i in range(10):\n",
    "    num_a.append(random.randrange(1, 7))\n",
    "    num_b.append(random.randrange(1, 7))\n",
    "sum_a = sum(num_a)\n",
    "sum_b = sum(num_b)\n",
    "if sum_a > sum_b:\n",
    "    result = \"A winner\"\n",
    "elif sum_a < sum_b:\n",
    "    result = \"B winner\"\n",
    "else:\n",
    "    result = \"A = B\"\n",
    "\n",
    "print(f\"A의 주사위 합: {sum_a}, B의 주사위 합: {sum_b}, Result: {result}\")"
   ]
  },
  {
   "cell_type": "code",
   "execution_count": 5,
   "metadata": {},
   "outputs": [
    {
     "name": "stdout",
     "output_type": "stream",
     "text": [
      "3개의 주사위가 동일한 숫자가 나올 때까지 카운트 횟수 : --> 12\n",
      "주사위 숫자 : dice1 = 4, dice2 = 4, dice3 = 4\n"
     ]
    }
   ],
   "source": [
    "\"\"\"\n",
    "[문제-5] 주사위 3개를 가지고 요술놀이를 하고 있다. \n",
    "주사위 3개가 모두 같은 숫자가 나올 때까지의 반복횟수와 각 주사위의 숫자를 출력하는 \n",
    "프로그램을 작성하라. \n",
    "\n",
    "3개의 주사위가 동일한 숫자가 나올 때까지 카운트 횟수 : --> 29\n",
    "\n",
    "주사위 숫자 : dice1= 4, dice2= 4, dice3= 4\n",
    "\n",
    "[실행 결과-2]\n",
    "\n",
    "3개의 주사위가 동일한 숫자가 나올 때까지 카운트 횟수 : --> 62\n",
    "\n",
    "주사위 숫자 : dice1= 3, dice2= 3, dice3= 3\n",
    "\"\"\"\n",
    "\n",
    "import random\n",
    "\n",
    "dice1, dice2 ,dice3 = [0] * 3\n",
    "count = 0\n",
    "while True:\n",
    "    dice1 = random.randrange(1, 7)\n",
    "    dice2 = random.randrange(1, 7)\n",
    "    dice3 = random.randrange(1, 7)\n",
    "    count += 1\n",
    "    if dice1 == dice2 == dice3:\n",
    "        break\n",
    "print(\"3개의 주사위가 동일한 숫자가 나올 때까지 카운트 횟수 : -->\", count)\n",
    "print(f\"주사위 숫자 : dice1 = {dice1}, dice2 = {dice2}, dice3 = {dice3}\")"
   ]
  },
  {
   "cell_type": "code",
   "execution_count": 6,
   "metadata": {},
   "outputs": [
    {
     "name": "stdout",
     "output_type": "stream",
     "text": [
      "3개의 주사위의 곱이 30 이상인 경우의 수 : 17\n",
      "dice1    dice2    dice3    곱\n",
      "  4        6        2      48\n",
      "  3        5        6      90\n",
      "  4        6        3      72\n",
      "  4        6        2      48\n",
      "  4        4        2      32\n",
      "  3        4        5      60\n",
      "  3        4        6      72\n",
      "  2        6        3      36\n",
      "  3        4        6      72\n",
      "  3        5        2      30\n",
      "  4        5        2      40\n",
      "  6        3        6     108\n",
      "  4        3        6      72\n",
      "  5        6        1      30\n",
      "  5        2        4      40\n",
      "  6        2        3      36\n",
      "  4        2        5      40\n"
     ]
    }
   ],
   "source": [
    "\"\"\"\n",
    "문제 6) 주사위 3개를 가지고 요술놀이를 하고 있다. 주사위 3개를 동시에 30번 던져 \n",
    "주사위 3개의 곱이 30이상인 경우의 수와 그 경우의 주사위 숫자와 곱의 결과를 \n",
    "출력하는 프로그램을 작성하라.\n",
    "\n",
    "\"\"\"\n",
    "\n",
    "import random\n",
    "\n",
    "dice1, dice2 ,dice3 = [0] * 3\n",
    "result = []\n",
    "\n",
    "for i in range(30):\n",
    "    dice1 = random.randrange(1, 7)\n",
    "    dice2 = random.randrange(1, 7)\n",
    "    dice3 = random.randrange(1, 7)\n",
    "    mul = dice1 * dice2 * dice3\n",
    "    if mul >= 30:\n",
    "        result.append([dice1, dice2, dice3, mul])\n",
    "\n",
    "print(\"3개의 주사위의 곱이 30 이상인 경우의 수 :\", len(result))\n",
    "print(\"dice1    dice2    dice3    곱\")\n",
    "for i in result:\n",
    "    print(f\"  {i[0]}        {i[1]}        {i[2]}     {i[3]:3d}\")"
   ]
  },
  {
   "cell_type": "code",
   "execution_count": null,
   "metadata": {},
   "outputs": [],
   "source": []
  }
 ],
 "metadata": {
  "interpreter": {
   "hash": "573638ae49551fcfe7f6e4028d99ee66259e02ec18060ba3ce06fdbb0c98767d"
  },
  "kernelspec": {
   "display_name": "dicom",
   "language": "python",
   "name": "dicom"
  },
  "language_info": {
   "codemirror_mode": {
    "name": "ipython",
    "version": 3
   },
   "file_extension": ".py",
   "mimetype": "text/x-python",
   "name": "python",
   "nbconvert_exporter": "python",
   "pygments_lexer": "ipython3",
   "version": "3.8.12"
  },
  "orig_nbformat": 4
 },
 "nbformat": 4,
 "nbformat_minor": 2
}
