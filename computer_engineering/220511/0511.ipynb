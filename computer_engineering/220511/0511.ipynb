{
 "cells": [
  {
   "cell_type": "code",
   "execution_count": 1,
   "metadata": {},
   "outputs": [
    {
     "name": "stdout",
     "output_type": "stream",
     "text": [
      "[('Edward', '에드워드'), ('Gothen', '고든'), ('Henry', '헨리'), ('James', '제임스'), ('Thomas', '토마스')]\n"
     ]
    }
   ],
   "source": [
    "import operator\n",
    "\n",
    "trainDic, trainList = {}, []\n",
    "\n",
    "trainDic = {'Thomas':'토마스', 'Edward':'에드워드', 'Henry':'헨리', 'Gothen':'고든', 'James':'제임스'}\n",
    "trainList = sorted(trainDic.items(), key=operator.itemgetter(0))\n",
    "\n",
    "print(trainList)"
   ]
  },
  {
   "cell_type": "code",
   "execution_count": 2,
   "metadata": {},
   "outputs": [
    {
     "name": "stdout",
     "output_type": "stream",
     "text": [
      "[('Gothen', '고든'), ('Edward', '에드워드'), ('James', '제임스'), ('Thomas', '토마스'), ('Henry', '헨리')]\n"
     ]
    }
   ],
   "source": [
    "trainDic, trainList = {}, []\n",
    "\n",
    "trainDic = {'Thomas':'토마스', 'Edward':'에드워드', 'Henry':'헨리', 'Gothen':'고든', 'James':'제임스'}\n",
    "trainList = sorted(trainDic.items(), key=operator.itemgetter(1))\n",
    "\n",
    "print(trainList)"
   ]
  },
  {
   "cell_type": "code",
   "execution_count": 4,
   "metadata": {},
   "outputs": [
    {
     "name": "stdout",
     "output_type": "stream",
     "text": [
      "[('Edward', '에드워드'), ('Gothen', '고든'), ('Henry', '헨리'), ('James', '제임스'), ('Thomas', '토마스')]\n"
     ]
    }
   ],
   "source": [
    "trainDic, trainList = {}, []\n",
    "\n",
    "trainDic = {'Thomas':'토마스', 'Edward':'에드워드', 'Henry':'헨리', 'Gothen':'고든', 'James':'제임스'}\n",
    "trainList = sorted(trainDic.items(), key=lambda x:x[0])\n",
    "\n",
    "print(trainList)"
   ]
  },
  {
   "cell_type": "code",
   "execution_count": 5,
   "metadata": {},
   "outputs": [
    {
     "name": "stdout",
     "output_type": "stream",
     "text": [
      "[('Gothen', '고든'), ('Edward', '에드워드'), ('James', '제임스'), ('Thomas', '토마스'), ('Henry', '헨리')]\n"
     ]
    }
   ],
   "source": [
    "trainDic, trainList = {}, []\n",
    "\n",
    "trainDic = {'Thomas':'토마스', 'Edward':'에드워드', 'Henry':'헨리', 'Gothen':'고든', 'James':'제임스'}\n",
    "trainList = sorted(trainDic.items(), key=lambda x:x[1])\n",
    "\n",
    "print(trainList)"
   ]
  },
  {
   "cell_type": "code",
   "execution_count": 6,
   "metadata": {},
   "outputs": [
    {
     "name": "stdout",
     "output_type": "stream",
     "text": [
      "[('Thomas', '토마스'), ('James', '제임스'), ('Henry', '헨리'), ('Gothen', '고든'), ('Edward', '에드워드')]\n"
     ]
    }
   ],
   "source": [
    "trainDic, trainList = {}, []\n",
    "\n",
    "trainDic = {'Thomas':'토마스', 'Edward':'에드워드', 'Henry':'헨리', 'Gothen':'고든', 'James':'제임스'}\n",
    "trainList = sorted(trainDic.items(), key=operator.itemgetter(0), reverse=True)\n",
    "\n",
    "print(trainList)"
   ]
  },
  {
   "cell_type": "code",
   "execution_count": 7,
   "metadata": {},
   "outputs": [
    {
     "name": "stdout",
     "output_type": "stream",
     "text": [
      "<치킨> 궁합 음식은 <치킨무>입니다.\n",
      "그런 음식이 없습니다. 확인해 보세요.\n",
      "그런 음식이 없습니다. 확인해 보세요.\n",
      "그런 음식이 없습니다. 확인해 보세요.\n",
      "그런 음식이 없습니다. 확인해 보세요.\n",
      "그런 음식이 없습니다. 확인해 보세요.\n"
     ]
    }
   ],
   "source": [
    "## 변수 선언 부분 ##\n",
    "foods = {\"떡볶이\":\"오뎅\", \n",
    "            \"짜장면\":\"단무지\",\n",
    "            \"라면\":\"김치\",\n",
    "            \"피자\":\"피클\",\n",
    "            \"맥주\":\"땅콩\",\n",
    "            \"치킨\":\"치킨무\",\n",
    "            \"삼겹살\":\"상추\" };\n",
    "\n",
    "## 메인 코드 부분 ##\n",
    "while (True) :\n",
    "    myfood = input(str(list(foods.keys())) + \" 중 좋아하는 음식은?\")\n",
    "    if myfood in foods :\n",
    "        print(\"<%s> 궁합 음식은 <%s>입니다.\" % (myfood, foods.get(myfood)))\n",
    "    elif myfood == \"끝\" :\n",
    "        break\n",
    "    else :\n",
    "        print(\"그런 음식이 없습니다. 확인해 보세요.\")"
   ]
  },
  {
   "cell_type": "code",
   "execution_count": 8,
   "metadata": {},
   "outputs": [
    {
     "data": {
      "text/plain": [
       "{4, 5}"
      ]
     },
     "execution_count": 8,
     "metadata": {},
     "output_type": "execute_result"
    }
   ],
   "source": [
    "myset1 = {1, 2, 3, 4, 5}\n",
    "myset2 = {4, 5, 6, 7}\n",
    "\n",
    "myset1 & myset2"
   ]
  },
  {
   "cell_type": "code",
   "execution_count": 9,
   "metadata": {},
   "outputs": [
    {
     "data": {
      "text/plain": [
       "{1, 2, 3, 4, 5, 6, 7}"
      ]
     },
     "execution_count": 9,
     "metadata": {},
     "output_type": "execute_result"
    }
   ],
   "source": [
    "myset1 | myset2"
   ]
  },
  {
   "cell_type": "code",
   "execution_count": 10,
   "metadata": {},
   "outputs": [
    {
     "data": {
      "text/plain": [
       "{1, 2, 3}"
      ]
     },
     "execution_count": 10,
     "metadata": {},
     "output_type": "execute_result"
    }
   ],
   "source": [
    "myset1 - myset2"
   ]
  },
  {
   "cell_type": "code",
   "execution_count": 11,
   "metadata": {},
   "outputs": [
    {
     "data": {
      "text/plain": [
       "{1, 2, 3, 6, 7}"
      ]
     },
     "execution_count": 11,
     "metadata": {},
     "output_type": "execute_result"
    }
   ],
   "source": [
    "myset1 ^ myset2"
   ]
  },
  {
   "cell_type": "code",
   "execution_count": 12,
   "metadata": {},
   "outputs": [
    {
     "data": {
      "text/plain": [
       "{4, 5}"
      ]
     },
     "execution_count": 12,
     "metadata": {},
     "output_type": "execute_result"
    }
   ],
   "source": [
    "myset1.intersection(myset2)"
   ]
  },
  {
   "cell_type": "code",
   "execution_count": 13,
   "metadata": {},
   "outputs": [
    {
     "data": {
      "text/plain": [
       "[0, 1, 2, 3, 4, 5, 6, 7, 8, 9]"
      ]
     },
     "execution_count": 13,
     "metadata": {},
     "output_type": "execute_result"
    }
   ],
   "source": [
    "# 리스트 컴프리헨션 (Comprehension)\n",
    "numList = []\n",
    "for i in range(10):\n",
    "    numList.append(i)\n",
    "numList"
   ]
  },
  {
   "cell_type": "code",
   "execution_count": 14,
   "metadata": {},
   "outputs": [
    {
     "data": {
      "text/plain": [
       "[0, 1, 2, 3, 4, 5, 6, 7, 8, 9]"
      ]
     },
     "execution_count": 14,
     "metadata": {},
     "output_type": "execute_result"
    }
   ],
   "source": [
    "numList = [i for i in range(10)]\n",
    "numList"
   ]
  },
  {
   "cell_type": "code",
   "execution_count": 15,
   "metadata": {},
   "outputs": [
    {
     "data": {
      "text/plain": [
       "[1, 4, 9, 16, 25]"
      ]
     },
     "execution_count": 15,
     "metadata": {},
     "output_type": "execute_result"
    }
   ],
   "source": [
    "numList = [num * num for num in range(1, 6)]\n",
    "numList"
   ]
  },
  {
   "cell_type": "code",
   "execution_count": 16,
   "metadata": {},
   "outputs": [
    {
     "data": {
      "text/plain": [
       "[3, 6, 9, 12, 15, 18]"
      ]
     },
     "execution_count": 16,
     "metadata": {},
     "output_type": "execute_result"
    }
   ],
   "source": [
    "numList = [num for num in range(1, 21) if num%3 == 0]\n",
    "numList"
   ]
  },
  {
   "cell_type": "code",
   "execution_count": 19,
   "metadata": {},
   "outputs": [
    {
     "name": "stdout",
     "output_type": "stream",
     "text": [
      "떡볶이 ---> 오뎅\n",
      "짜장면 ---> 단무지\n",
      "라면 ---> 김치\n"
     ]
    }
   ],
   "source": [
    "foods = ['떡볶이', '짜장면', '라면', '피자', '맥주', '치킨']\n",
    "sides = ['오뎅', '단무지', '김치']\n",
    "for food, side in zip(foods, sides):\n",
    "    print(food,'--->', side)"
   ]
  },
  {
   "cell_type": "code",
   "execution_count": 21,
   "metadata": {},
   "outputs": [
    {
     "name": "stdout",
     "output_type": "stream",
     "text": [
      "(('떡볶이', '오뎅'), ('짜장면', '단무지'), ('라면', '김치'))\n",
      "[('떡볶이', '오뎅'), ('짜장면', '단무지'), ('라면', '김치')]\n",
      "{'떡볶이': '오뎅', '짜장면': '단무지', '라면': '김치'}\n"
     ]
    }
   ],
   "source": [
    "tup = tuple(zip(foods, sides))\n",
    "li = list(zip(foods, sides))\n",
    "di = dict(zip(foods, sides))\n",
    "print(tup)\n",
    "print(li)\n",
    "print(di)"
   ]
  },
  {
   "cell_type": "code",
   "execution_count": 22,
   "metadata": {},
   "outputs": [
    {
     "name": "stdout",
     "output_type": "stream",
     "text": [
      "[100, 2, 3, 200]\n",
      "[100, 2, 3, 200]\n"
     ]
    }
   ],
   "source": [
    "# Shallow Copy\n",
    "oldList = [1, 2, 3]\n",
    "newList = oldList\n",
    "oldList[0] = 100\n",
    "newList.append(200)\n",
    "print(oldList)\n",
    "print(newList)"
   ]
  },
  {
   "cell_type": "code",
   "execution_count": 23,
   "metadata": {},
   "outputs": [
    {
     "name": "stdout",
     "output_type": "stream",
     "text": [
      "[100, 2, 3]\n",
      "[1, 2, 3, 200]\n"
     ]
    }
   ],
   "source": [
    "# Deep Copy\n",
    "oldList = [1, 2, 3]\n",
    "newList = oldList[:]\n",
    "oldList[0] = 100\n",
    "newList.append(200)\n",
    "print(oldList)\n",
    "print(newList)"
   ]
  },
  {
   "cell_type": "code",
   "execution_count": 24,
   "metadata": {},
   "outputs": [
    {
     "name": "stdout",
     "output_type": "stream",
     "text": [
      "[100, 2, 3]\n",
      "[1, 2, 3, 200]\n"
     ]
    }
   ],
   "source": [
    "# Deep Copy\n",
    "oldList = [1, 2, 3]\n",
    "newList = oldList.copy()\n",
    "oldList[0] = 100\n",
    "newList.append(200)\n",
    "print(oldList)\n",
    "print(newList)"
   ]
  },
  {
   "cell_type": "code",
   "execution_count": 26,
   "metadata": {},
   "outputs": [
    {
     "name": "stdout",
     "output_type": "stream",
     "text": [
      "['자동차-A', '자동차-B', '자동차-C']\n",
      "['자동차-A', '자동차-B']\n",
      "['자동차-A']\n",
      "[]\n"
     ]
    }
   ],
   "source": [
    "parking = []\n",
    "top = 0\n",
    "parking.append('자동차-A')\n",
    "top += 1\n",
    "parking.append('자동차-B')\n",
    "top += 1\n",
    "parking.append('자동차-C')\n",
    "print(parking)\n",
    "top -= 1\n",
    "outCar = parking.pop()\n",
    "print(parking)\n",
    "top -= 1\n",
    "outCar = parking.pop()\n",
    "print(parking)\n",
    "top -= 1\n",
    "outCar = parking.pop()\n",
    "print(parking)"
   ]
  },
  {
   "cell_type": "code",
   "execution_count": 32,
   "metadata": {},
   "outputs": [
    {
     "name": "stdout",
     "output_type": "stream",
     "text": [
      "정렬 전 데이터 : 54 18 2 6 55 2 24 72 97 87 \n",
      "정렬 후 데이터 : 2 2 6 18 24 54 55 72 87 97 \n"
     ]
    }
   ],
   "source": [
    "import random\n",
    "\n",
    "data = []\n",
    "i, k = 0, 0\n",
    "\n",
    "for i in range(10):\n",
    "    tmp = random.randrange(0, 100)\n",
    "    data.append(tmp)\n",
    "\n",
    "print('정렬 전 데이터 : ', end='')\n",
    "[print(num, end=' ') for num in data]\n",
    "\n",
    "for i in range(0, len(data)-1):\n",
    "    for k in range(i+1, len(data)):\n",
    "        if int(data[i]) > int(data[k]): # 오름차순\n",
    "            tmp = data[i]\n",
    "            data[i] = data[k]\n",
    "            data[k] = tmp\n",
    "print()\n",
    "print('정렬 후 데이터 : ', end='')\n",
    "[print(num, end=' ') for num in data]\n",
    "print()"
   ]
  },
  {
   "cell_type": "code",
   "execution_count": 33,
   "metadata": {},
   "outputs": [
    {
     "name": "stdout",
     "output_type": "stream",
     "text": [
      "정렬 전 데이터 : 83 32 91 16 67 15 14 55 23 99 \n",
      "정렬 후 데이터 : 99 91 83 67 55 32 23 16 15 14 \n"
     ]
    }
   ],
   "source": [
    "import random\n",
    "\n",
    "data = []\n",
    "i, k = 0, 0\n",
    "\n",
    "for i in range(10):\n",
    "    tmp = random.randrange(0, 100)\n",
    "    data.append(tmp)\n",
    "\n",
    "print('정렬 전 데이터 : ', end='')\n",
    "[print(num, end=' ') for num in data]\n",
    "\n",
    "for i in range(0, len(data)-1):\n",
    "    for k in range(i+1, len(data)):\n",
    "        if int(data[i]) < int(data[k]): # 내림차순\n",
    "            tmp = data[i]\n",
    "            data[i] = data[k]\n",
    "            data[k] = tmp\n",
    "print()\n",
    "print('정렬 후 데이터 : ', end='')\n",
    "[print(num, end=' ') for num in data]\n",
    "print()"
   ]
  },
  {
   "cell_type": "code",
   "execution_count": 35,
   "metadata": {},
   "outputs": [
    {
     "name": "stdout",
     "output_type": "stream",
     "text": [
      "정렬 전 데이터 : 0x2a 0x41 0x5b 0x7 0x44 0x34 0x1a 0x4f 0x26 0x2a \n",
      "정렬 후 데이터 : 0x5b 0x4f 0x44 0x41 0x34 0x2a 0x2a 0x26 0x1a 0x7 \n"
     ]
    }
   ],
   "source": [
    "import random\n",
    "\n",
    "data = []\n",
    "i, k = 0, 0\n",
    "\n",
    "for i in range(10):\n",
    "    tmp = hex(random.randrange(0, 100))\n",
    "    data.append(tmp)\n",
    "\n",
    "print('정렬 전 데이터 : ', end='')\n",
    "[print(num, end=' ') for num in data]\n",
    "\n",
    "for i in range(0, len(data)-1):\n",
    "    for k in range(i+1, len(data)):\n",
    "        if int(data[i], 16) < int(data[k], 16): # 내림차순\n",
    "            tmp = data[i]\n",
    "            data[i] = data[k]\n",
    "            data[k] = tmp\n",
    "print()\n",
    "print('정렬 후 데이터 : ', end='')\n",
    "[print(num, end=' ') for num in data]\n",
    "print()"
   ]
  },
  {
   "cell_type": "code",
   "execution_count": null,
   "metadata": {},
   "outputs": [],
   "source": []
  }
 ],
 "metadata": {
  "kernelspec": {
   "display_name": "jh",
   "language": "python",
   "name": "jh"
  },
  "language_info": {
   "codemirror_mode": {
    "name": "ipython",
    "version": 3
   },
   "file_extension": ".py",
   "mimetype": "text/x-python",
   "name": "python",
   "nbconvert_exporter": "python",
   "pygments_lexer": "ipython3",
   "version": "3.8.13"
  },
  "orig_nbformat": 4
 },
 "nbformat": 4,
 "nbformat_minor": 2
}
