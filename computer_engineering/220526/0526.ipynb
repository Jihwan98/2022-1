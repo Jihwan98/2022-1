{
 "cells": [
  {
   "cell_type": "code",
   "execution_count": 1,
   "metadata": {},
   "outputs": [
    {
     "name": "stdout",
     "output_type": "stream",
     "text": [
      "Cookbook 파이썬을 공부합니다.\n",
      "완전 재미있어요.^^\n",
      "파이썬을 공부하길 잘 했네요~~"
     ]
    }
   ],
   "source": [
    "inFp = None    # 입력 파일\n",
    "inStr = \"\"        # 읽어온 문자열\n",
    "\n",
    "inFp = open(\"data1.txt\", \"r\")\n",
    "# inFp = open(\"data1.txt\", \"r\", encoding='cp949')\n",
    "# inFp = open(\"data1.txt\", \"r\", encoding='utf-8')\n",
    "\n",
    "inStr = inFp.readline()\n",
    "print(inStr, end = \"\")\n",
    "\n",
    "inStr = inFp.readline()\n",
    "print(inStr, end = \"\")\n",
    "\n",
    "inStr = inFp.readline()\n",
    "print(inStr, end = \"\")\n",
    "\n",
    "inFp.close()"
   ]
  },
  {
   "cell_type": "code",
   "execution_count": 3,
   "metadata": {},
   "outputs": [
    {
     "name": "stdout",
     "output_type": "stream",
     "text": [
      "Cookbook 파이썬을 공부합니다.\n",
      "완전 재미있어요.^^\n",
      "파이썬을 공부하길 잘 했네요~~"
     ]
    }
   ],
   "source": [
    "inFp = None\n",
    "inStr = \"\"\n",
    "\n",
    "inFp = open('data1.txt', 'r')\n",
    "\n",
    "while True:\n",
    "    inStr = inFp.readline()\n",
    "    if inStr == '':\n",
    "        break;\n",
    "    print(inStr, end='')\n",
    "\n",
    "inFp.close()"
   ]
  },
  {
   "cell_type": "code",
   "execution_count": 4,
   "metadata": {},
   "outputs": [
    {
     "name": "stdout",
     "output_type": "stream",
     "text": [
      "; for 16-bit app support\n",
      "[fonts]\n",
      "[extensions]\n",
      "[mci extensions]\n",
      "[files]\n",
      "[Mail]\n",
      "MAPI=1\n"
     ]
    }
   ],
   "source": [
    "inFp = None\n",
    "inStr = \"\"\n",
    "\n",
    "inFp = open('C:/Windows/win.ini', 'r')\n",
    "\n",
    "while True:\n",
    "    inStr = inFp.readline()\n",
    "    if inStr == '':\n",
    "        break;\n",
    "    print(inStr, end='')\n",
    "\n",
    "inFp.close()"
   ]
  },
  {
   "cell_type": "code",
   "execution_count": 5,
   "metadata": {},
   "outputs": [
    {
     "name": "stdout",
     "output_type": "stream",
     "text": [
      "1 : Cookbook 파이썬을 공부합니다.\n",
      "2 : 완전 재미있어요.^^\n",
      "3 : 파이썬을 공부하길 잘 했네요~~"
     ]
    }
   ],
   "source": [
    "inFp = None\n",
    "inStr = \"\"\n",
    "\n",
    "inFp = open('data1.txt', 'r')\n",
    "line = 1\n",
    "while True:\n",
    "    inStr = inFp.readline()\n",
    "    if inStr == '':\n",
    "        break;\n",
    "    print(f\"{line} : {inStr}\", end='')\n",
    "    line += 1\n",
    "\n",
    "inFp.close()"
   ]
  },
  {
   "cell_type": "code",
   "execution_count": 7,
   "metadata": {},
   "outputs": [
    {
     "name": "stdout",
     "output_type": "stream",
     "text": [
      "['Cookbook 파이썬을 공부합니다.\\n', '완전 재미있어요.^^\\n', '파이썬을 공부하길 잘 했네요~~']\n"
     ]
    }
   ],
   "source": [
    "inFp = None\n",
    "\n",
    "inFp = open('data1.txt', 'r')\n",
    "\n",
    "inList = inFp.readlines()\n",
    "print(inList)\n",
    "\n",
    "inFp.close()"
   ]
  },
  {
   "cell_type": "code",
   "execution_count": 9,
   "metadata": {},
   "outputs": [
    {
     "name": "stdout",
     "output_type": "stream",
     "text": [
      "Cookbook 파이썬을 공부합니다.\n",
      "완전 재미있어요.^^\n",
      "파이썬을 공부하길 잘 했네요~~"
     ]
    }
   ],
   "source": [
    "inFp = None\n",
    "\n",
    "inFp = open('data1.txt', 'r')\n",
    "\n",
    "inList = inFp.readlines()\n",
    "for inStr in inList:\n",
    "    print(inStr, end='')\n",
    "    \n",
    "inFp.close()"
   ]
  },
  {
   "cell_type": "code",
   "execution_count": 12,
   "metadata": {},
   "outputs": [
    {
     "name": "stdout",
     "output_type": "stream",
     "text": [
      "Cookbook 파이썬을 공부합니다.\n",
      "완전 재미있어요.^^\n",
      "파이썬을 공부하길 잘 했네요~~"
     ]
    }
   ],
   "source": [
    "inFp = None \n",
    "fName, inList, inStr = \"\", [ ], \"\"   \n",
    "\n",
    "fName = input(\"파일명을 입력하세요 : \")\n",
    "inFp = open(fName, \"r\")\n",
    "\n",
    "inList = inFp.readlines()\n",
    "for inStr in inList :\n",
    "    print(inStr, end = \"\")\n",
    "\n",
    "inFp.close()"
   ]
  },
  {
   "cell_type": "code",
   "execution_count": 14,
   "metadata": {},
   "outputs": [
    {
     "name": "stdout",
     "output_type": "stream",
     "text": [
      "--- 파일에 정상적으로 써졌음 ---\n"
     ]
    }
   ],
   "source": [
    "outFp = None \n",
    "outStr = \"\"\n",
    "\n",
    "outFp = open(\"data2.txt\", \"w\")\n",
    "\n",
    "while True:\n",
    "    outStr = input(\"내용 입력 : \")\n",
    "    if outStr != \"\" :\n",
    "        outFp.writelines(outStr + \"\\n\")\n",
    "    else :\n",
    "        break\n",
    "\n",
    "outFp.close()\n",
    "print(\"--- 파일에 정상적으로 써졌음 ---\")"
   ]
  },
  {
   "cell_type": "code",
   "execution_count": null,
   "metadata": {},
   "outputs": [],
   "source": []
  }
 ],
 "metadata": {
  "interpreter": {
   "hash": "88bd2e5fa4fd7387bccdf8178a88b6fb38174a4dc7856e8ea66f0bd24e8d1ea3"
  },
  "kernelspec": {
   "display_name": "Python 3.8.12 ('dicom')",
   "language": "python",
   "name": "python3"
  },
  "language_info": {
   "codemirror_mode": {
    "name": "ipython",
    "version": 3
   },
   "file_extension": ".py",
   "mimetype": "text/x-python",
   "name": "python",
   "nbconvert_exporter": "python",
   "pygments_lexer": "ipython3",
   "version": "3.8.12"
  },
  "orig_nbformat": 4
 },
 "nbformat": 4,
 "nbformat_minor": 2
}
