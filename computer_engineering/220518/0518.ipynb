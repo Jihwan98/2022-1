{
 "cells": [
  {
   "cell_type": "code",
   "execution_count": 4,
   "metadata": {},
   "outputs": [
    {
     "name": "stdout",
     "output_type": "stream",
     "text": [
      "func1()에서 a값 10\n",
      "func2()에서 a값 10\n"
     ]
    }
   ],
   "source": [
    "# code09-07.py\n",
    "## 함수 선언 부분 ##\n",
    "def func1() :\n",
    "     global a     # 이 함수 안에서 a는 전역 변수\n",
    "     a = 10\n",
    "     print(\"func1()에서 a값 %d\" % a)\n",
    "\n",
    "def func2() :\n",
    "     print(\"func2()에서 a값 %d\" % a)\n",
    "\n",
    "## 함수 변수 선언 부분 ##\n",
    "a = 20           # 전역 변수\n",
    "\n",
    "## 메인 코드 부분 ##\n",
    "func1()\n",
    "func2()"
   ]
  },
  {
   "cell_type": "code",
   "execution_count": 12,
   "metadata": {},
   "outputs": [
    {
     "name": "stdout",
     "output_type": "stream",
     "text": [
      "multi()에서 돌려준 값 ==> 300, -100\n"
     ]
    }
   ],
   "source": [
    "# code09-09.py\n",
    "## 함수 선언 부분 ##\n",
    "def multi(v1, v2) :\n",
    "     retList=[]       # 반환할 리스트\n",
    "     res1 = v1 + v2\n",
    "     res2 = v1 - v2\n",
    "     retList.append(res1)\n",
    "     retList.append(res2)\n",
    "     return retList\n",
    "\t\n",
    "## 전역 변수 선언 부분 ##\n",
    "myList = []\n",
    "hap, sub = 0, 0\n",
    "\n",
    "## 메인 코드 부분 ##\n",
    "myList = multi(100, 200)\n",
    "hap = myList[0]\n",
    "sub = myList[1]\n",
    "print(\"multi()에서 돌려준 값 ==> %d, %d\" % (hap, sub))"
   ]
  },
  {
   "cell_type": "code",
   "execution_count": 13,
   "metadata": {},
   "outputs": [
    {
     "name": "stdout",
     "output_type": "stream",
     "text": [
      "합 : 300\n",
      "차 : -100\n",
      "곱 : 20000\n",
      "몫 : 0.5\n"
     ]
    }
   ],
   "source": [
    "# code09-09.py\n",
    "## 함수 선언 부분 ##\n",
    "def multi(v1, v2) :\n",
    "     retList=[]       # 반환할 리스트\n",
    "     res1 = v1 + v2\n",
    "     res2 = v1 - v2\n",
    "     res3 = v1 * v2\n",
    "     res4 = v1 / v2\n",
    "     retList.append(res1)\n",
    "     retList.append(res2)\n",
    "     retList.append(res3)\n",
    "     retList.append(res4)\n",
    "     return retList\n",
    "\t\n",
    "## 전역 변수 선언 부분 ##\n",
    "myList = []\n",
    "\n",
    "## 메인 코드 부분 ##\n",
    "myList = multi(100, 200)\n",
    "\n",
    "print(\"합 :\", myList[0])\n",
    "print(\"차 :\", myList[1])\n",
    "print(\"곱 :\", myList[2])\n",
    "print(\"몫 :\", myList[3])"
   ]
  },
  {
   "cell_type": "code",
   "execution_count": 15,
   "metadata": {},
   "outputs": [
    {
     "name": "stdout",
     "output_type": "stream",
     "text": [
      "매개변수가 2개인 함수를 호출한 결과 ==> 30\n",
      "매개변수가 10개인 함수를 호출한 결과 ==> 550\n"
     ]
    }
   ],
   "source": [
    "# self09-03.py\n",
    "## 함수 정의 부분 ## \n",
    "def para_func(v1, v2, v3=0, v4=0, v5=0, v6=0, v7=0, v8=0, v9=0, v10=0) :\n",
    "    result = 0\n",
    "    result = v1 + v2 + v3 + v4 + v5 + v6 + v7 + v8 + v9 + v10\n",
    "    return result\n",
    "\n",
    "## 변수 선언 부분 ## \n",
    "hap = 0\n",
    "\n",
    "## 메인 코드 부분 ## \n",
    "hap = para_func(10, 20)\n",
    "print(\"매개변수가 2개인 함수를 호출한 결과 ==> %d\" % hap)\n",
    "hap = para_func(10, 20, 30, 40, 50, 60, 70, 80, 90, 100)\n",
    "print(\"매개변수가 10개인 함수를 호출한 결과 ==> %d\" % hap)"
   ]
  },
  {
   "cell_type": "code",
   "execution_count": 17,
   "metadata": {},
   "outputs": [
    {
     "name": "stdout",
     "output_type": "stream",
     "text": [
      "매개변수가 2개인 함수를 호출한 결과 ==> 30\n",
      "매개변수가 3개인 함수를 호출한 결과 ==> 60\n",
      "매개변수가 10개인 함수를 호출한 결과 ==> 550\n"
     ]
    }
   ],
   "source": [
    "#code09-12.py\n",
    "## 함수 선언 부분 ##\n",
    "def para_func(*para) :\n",
    "     result = 0\n",
    "     for num in para :\n",
    "          result = result + num\n",
    "\n",
    "     return result\n",
    "\n",
    "## 전역 변수 선언 부분 ##\n",
    "hap = 0\n",
    "\n",
    "## 메인 코드 부분 ##\n",
    "hap = para_func(10, 20)\n",
    "print(\"매개변수가 2개인 함수를 호출한 결과 ==> %d\" % hap)\n",
    "hap = para_func(10, 20, 30)\n",
    "print(\"매개변수가 3개인 함수를 호출한 결과 ==> %d\" % hap)\n",
    "hap = para_func(10, 20, 30, 40, 50, 60, 70, 80, 90, 100)\n",
    "print(\"매개변수가 10개인 함수를 호출한 결과 ==> %d\" % hap)"
   ]
  },
  {
   "cell_type": "code",
   "execution_count": 21,
   "metadata": {},
   "outputs": [
    {
     "name": "stdout",
     "output_type": "stream",
     "text": [
      "햄버거 : 감자튀김\n",
      "피자 : 피클\n"
     ]
    }
   ],
   "source": [
    "## 함수 선언 부분 ##\n",
    "def para_func(**para) : # **para : dictionary 형태로 받음\n",
    "    for k in para.keys():\n",
    "        print(k, \":\", para[k])\n",
    "para_func(햄버거=\"감자튀김\", 피자=\"피클\")"
   ]
  },
  {
   "cell_type": "code",
   "execution_count": 18,
   "metadata": {},
   "outputs": [
    {
     "name": "stdout",
     "output_type": "stream",
     "text": [
      "** 로또 추첨을 시작합니다. ** \n",
      "\n",
      "추첨된 로또 번호 ==>  6  7  28  31  37  45  "
     ]
    }
   ],
   "source": [
    "# code09-13.py\n",
    "import random\n",
    "\n",
    "## 함수 선언 부분 ##\n",
    "def getNumber() :\n",
    "     return random.randrange(1, 46)\n",
    "\n",
    "## 전역 변수 선언 부분 ##\n",
    "lotto = []\n",
    "num = 0\n",
    "\n",
    "## 메인 코드 부분 ##\n",
    "print(\"** 로또 추첨을 시작합니다. ** \\n\");\n",
    "\n",
    "while True :\n",
    "     num = getNumber()\n",
    "\n",
    "     if lotto.count(num) == 0 :\n",
    "          lotto.append(num)\n",
    "\n",
    "     if len(lotto) >= 6 :\n",
    "          break \n",
    "\n",
    "print(\"추첨된 로또 번호 ==>  \", end = '')\n",
    "lotto.sort()\n",
    "for i in range(0, 6) :\n",
    "     print(\"%d  \" % lotto[i], end = '')"
   ]
  },
  {
   "cell_type": "code",
   "execution_count": 24,
   "metadata": {},
   "outputs": [
    {
     "name": "stdout",
     "output_type": "stream",
     "text": [
      "** 로또 추첨을 시작합니다. ** \n",
      "\n",
      "Sorting 전의 로또 번호\n",
      "30  27  16  41  20  44  \n",
      "\n",
      "Sorting 후의 로또 번호\n",
      "16  20  27  30  41  44  "
     ]
    }
   ],
   "source": [
    "# code09-13.py\n",
    "import random\n",
    "\n",
    "## 함수 선언 부분 ##\n",
    "def getNumber() :\n",
    "     return random.randrange(1, 46)\n",
    "\n",
    "## 전역 변수 선언 부분 ##\n",
    "lotto = []\n",
    "num = 0\n",
    "\n",
    "## 메인 코드 부분 ##\n",
    "print(\"** 로또 추첨을 시작합니다. ** \\n\");\n",
    "\n",
    "while True :\n",
    "     num = getNumber()\n",
    "\n",
    "     if lotto.count(num) == 0 :\n",
    "          lotto.append(num)\n",
    "\n",
    "     if len(lotto) >= 6 :\n",
    "          break \n",
    "\n",
    "print(\"Sorting 전의 로또 번호\")\n",
    "for i in range(6):\n",
    "    print(lotto[i], end='  ')\n",
    "print(\"\\n\")\n",
    "lotto.sort()\n",
    "print(\"Sorting 후의 로또 번호\")\n",
    "for i in range(6):\n",
    "    print(lotto[i], end='  ')"
   ]
  },
  {
   "cell_type": "code",
   "execution_count": null,
   "metadata": {},
   "outputs": [],
   "source": []
  },
  {
   "cell_type": "code",
   "execution_count": null,
   "metadata": {},
   "outputs": [],
   "source": []
  }
 ],
 "metadata": {
  "interpreter": {
   "hash": "456ad96718c50be9174d13672c6eb9b113a9de071a84fdb6b6f0ffef8609c934"
  },
  "kernelspec": {
   "display_name": "Python 3.10.4 64-bit",
   "language": "python",
   "name": "python3"
  },
  "language_info": {
   "codemirror_mode": {
    "name": "ipython",
    "version": 3
   },
   "file_extension": ".py",
   "mimetype": "text/x-python",
   "name": "python",
   "nbconvert_exporter": "python",
   "pygments_lexer": "ipython3",
   "version": "3.10.4"
  },
  "orig_nbformat": 4
 },
 "nbformat": 4,
 "nbformat_minor": 2
}
