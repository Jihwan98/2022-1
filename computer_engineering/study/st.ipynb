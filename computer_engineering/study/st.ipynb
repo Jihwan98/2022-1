{
 "cells": [
  {
   "cell_type": "code",
   "execution_count": 5,
   "metadata": {},
   "outputs": [
    {
     "data": {
      "text/plain": [
       "[('Gothen', '고든'),\n",
       " ('Edward', '에드워드'),\n",
       " ('James', '제임스'),\n",
       " ('Thomas', '토마스'),\n",
       " ('Henry', '헨리')]"
      ]
     },
     "execution_count": 5,
     "metadata": {},
     "output_type": "execute_result"
    }
   ],
   "source": [
    "trainDic, trainList = {}, []\n",
    "\n",
    "trainDic = {'Thomas':'토마스', 'Edward':'에드워드', 'Henry':'헨리', 'Gothen':'고든', 'James':'제임스'}\n",
    "\n",
    "trainList = sorted(trainDic.items(), key=lambda x: x[1])\n",
    "trainList"
   ]
  },
  {
   "cell_type": "code",
   "execution_count": 6,
   "metadata": {},
   "outputs": [
    {
     "name": "stdout",
     "output_type": "stream",
     "text": [
      "1 2 3 4 \n",
      "5 6 \n",
      "7 8 9 \n"
     ]
    }
   ],
   "source": [
    "a = [\n",
    "    [1, 2, 3, 4],\n",
    "    [5, 6],\n",
    "    [7, 8, 9]\n",
    "]\n",
    "\n",
    "for i in range(len(a)):\n",
    "    for j in range(len(a[i])):\n",
    "        print(a[i][j], end=' ')\n",
    "    print()"
   ]
  },
  {
   "cell_type": "code",
   "execution_count": 7,
   "metadata": {},
   "outputs": [
    {
     "name": "stdout",
     "output_type": "stream",
     "text": [
      "정렬 전 데이터 : ['0x22a5', '0x1f70', '0x74a', '0x15ba', '0x1ac5', '0x22a7', '0x1b15', '0x6e7', '0x19ff', '0xeb5']\n",
      "정렬 후 데이터 : ['0x6e7', '0x74a', '0xeb5', '0x15ba', '0x19ff', '0x1ac5', '0x1b15', '0x1f70', '0x22a5', '0x22a7']\n"
     ]
    }
   ],
   "source": [
    "import random\n",
    "\n",
    "data = [hex(random.randrange(0, 10000)) for _ in range(10)]\n",
    "print(\"정렬 전 데이터 :\", data)\n",
    "\n",
    "for i in range(0, len(data)-1):\n",
    "    for j in range(i+1, len(data)):\n",
    "        if int(data[i], 16) > int(data[j], 16):\n",
    "            data[i], data[j] = data[j], data[i]\n",
    "print(\"정렬 후 데이터 :\", data)"
   ]
  },
  {
   "cell_type": "code",
   "execution_count": 9,
   "metadata": {},
   "outputs": [
    {
     "name": "stdout",
     "output_type": "stream",
     "text": [
      "정렬 전 데이터 : [6516, 4140, 7833, 3077, 4635, 3399, 3341, 8121, 9201, 8557]\n",
      "정렬 후 데이터 : [9201, 8557, 8121, 7833, 6516, 4635, 4140, 3399, 3341, 3077]\n"
     ]
    }
   ],
   "source": [
    "import random\n",
    "\n",
    "data = [random.randrange(0, 10000) for _ in range(10)]\n",
    "print(\"정렬 전 데이터 :\", data)\n",
    "\n",
    "for i in range(len(data)-1):\n",
    "    for j in range(i+1, len(data)):\n",
    "        if data[i] < data[j]:\n",
    "            data[i], data[j] = data[j], data[i]\n",
    "\n",
    "print(\"정렬 후 데이터 :\", data)"
   ]
  },
  {
   "cell_type": "code",
   "execution_count": 11,
   "metadata": {},
   "outputs": [
    {
     "name": "stdout",
     "output_type": "stream",
     "text": [
      "[7, 15, 24, 36, 37, 39]\n"
     ]
    }
   ],
   "source": [
    "# lotto\n",
    "\n",
    "data = []\n",
    "\n",
    "while len(data) < 6:\n",
    "    tmp = random.randint(1, 45)\n",
    "    if tmp in data:\n",
    "        continue\n",
    "    data.append(tmp)\n",
    "data.sort()\n",
    "print(data)"
   ]
  },
  {
   "cell_type": "code",
   "execution_count": 12,
   "metadata": {},
   "outputs": [
    {
     "name": "stdout",
     "output_type": "stream",
     "text": [
      "120\n"
     ]
    }
   ],
   "source": [
    "# factorial\n",
    "def factorial(n):\n",
    "    if n <= 1:\n",
    "        return n\n",
    "    return n * factorial(n-1)\n",
    "\n",
    "print(factorial(5))"
   ]
  },
  {
   "cell_type": "code",
   "execution_count": 17,
   "metadata": {},
   "outputs": [
    {
     "data": {
      "text/plain": [
       "21"
      ]
     },
     "execution_count": 17,
     "metadata": {},
     "output_type": "execute_result"
    }
   ],
   "source": [
    "# fibonacci\n",
    "def fibo(n):\n",
    "    if n <= 1:\n",
    "        return n\n",
    "    return fibo(n-1) + fibo(n-2)\n",
    "\n",
    "fibo(8)\n",
    "    "
   ]
  },
  {
   "cell_type": "code",
   "execution_count": 20,
   "metadata": {},
   "outputs": [
    {
     "name": "stdout",
     "output_type": "stream",
     "text": [
      "안녕하세요\n",
      "컴퓨터공학\n",
      "공부 중 입니다"
     ]
    }
   ],
   "source": [
    "data = open('data1.txt', 'r')\n",
    "\n",
    "while True:\n",
    "    inStr = data.readline()\n",
    "    if inStr == \"\":\n",
    "        break\n",
    "    print(inStr, end='')\n",
    "\n",
    "data.close()"
   ]
  },
  {
   "cell_type": "code",
   "execution_count": 23,
   "metadata": {},
   "outputs": [],
   "source": [
    "inFp = open('data2.txt', 'w')\n",
    "\n",
    "for _ in range(10):\n",
    "    inFp.write(str(random.randrange(0, 10)) + \"\\n\")\n",
    "\n",
    "inFp.close()"
   ]
  },
  {
   "cell_type": "code",
   "execution_count": 26,
   "metadata": {},
   "outputs": [
    {
     "name": "stdout",
     "output_type": "stream",
     "text": [
      "8\n",
      "2\n",
      "4\n",
      "0\n",
      "5\n",
      "7\n",
      "0\n",
      "6\n",
      "5\n",
      "5\n",
      "--------------------\n",
      "sum = 42 mean = 4.2\n"
     ]
    }
   ],
   "source": [
    "inFp = open('data2.txt', 'r')\n",
    "count, sum = 0, 0\n",
    "while True:\n",
    "    inStr = inFp.readline()\n",
    "    if inStr == '':\n",
    "        break\n",
    "    count += 1\n",
    "    sum += int(inStr)\n",
    "    print(inStr, end='')\n",
    "print('-'*20)\n",
    "print(\"sum =\", sum, \"mean =\", sum/count)\n",
    "inFp.close()"
   ]
  },
  {
   "cell_type": "code",
   "execution_count": null,
   "metadata": {},
   "outputs": [],
   "source": []
  }
 ],
 "metadata": {
  "interpreter": {
   "hash": "88bd2e5fa4fd7387bccdf8178a88b6fb38174a4dc7856e8ea66f0bd24e8d1ea3"
  },
  "kernelspec": {
   "display_name": "Python 3.8.12 ('dicom')",
   "language": "python",
   "name": "python3"
  },
  "language_info": {
   "codemirror_mode": {
    "name": "ipython",
    "version": 3
   },
   "file_extension": ".py",
   "mimetype": "text/x-python",
   "name": "python",
   "nbconvert_exporter": "python",
   "pygments_lexer": "ipython3",
   "version": "3.8.12"
  },
  "orig_nbformat": 4
 },
 "nbformat": 4,
 "nbformat_minor": 2
}
