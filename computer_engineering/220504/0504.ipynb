{
 "cells": [
  {
   "cell_type": "code",
   "execution_count": 1,
   "metadata": {},
   "outputs": [
    {
     "data": {
      "text/plain": [
       "[1, 2, 5, 7, 9]"
      ]
     },
     "execution_count": 1,
     "metadata": {},
     "output_type": "execute_result"
    }
   ],
   "source": [
    "aa = [1, 5, 7, 9, 2]\n",
    "aa.sort()\n",
    "aa"
   ]
  },
  {
   "cell_type": "code",
   "execution_count": 2,
   "metadata": {},
   "outputs": [
    {
     "data": {
      "text/plain": [
       "[1, 2, 5, 7, 9]"
      ]
     },
     "execution_count": 2,
     "metadata": {},
     "output_type": "execute_result"
    }
   ],
   "source": [
    "aa = [1, 5, 7, 9, 2]\n",
    "bb = sorted(aa)\n",
    "bb"
   ]
  },
  {
   "cell_type": "code",
   "execution_count": 3,
   "metadata": {},
   "outputs": [
    {
     "data": {
      "text/plain": [
       "[1, 5, 7, 9, 6, 2]"
      ]
     },
     "execution_count": 3,
     "metadata": {},
     "output_type": "execute_result"
    }
   ],
   "source": [
    "aa.insert(4, 6)\n",
    "aa"
   ]
  },
  {
   "cell_type": "code",
   "execution_count": 4,
   "metadata": {},
   "outputs": [
    {
     "data": {
      "text/plain": [
       "4"
      ]
     },
     "execution_count": 4,
     "metadata": {},
     "output_type": "execute_result"
    }
   ],
   "source": [
    "aa.index(6)"
   ]
  },
  {
   "cell_type": "code",
   "execution_count": 10,
   "metadata": {},
   "outputs": [
    {
     "data": {
      "text/plain": [
       "[2, 6, 9, 7, 5, 1]"
      ]
     },
     "execution_count": 10,
     "metadata": {},
     "output_type": "execute_result"
    }
   ],
   "source": [
    "aa.reverse()\n",
    "aa"
   ]
  },
  {
   "cell_type": "code",
   "execution_count": 11,
   "metadata": {},
   "outputs": [
    {
     "data": {
      "text/plain": [
       "[10, 20, 30, 40, 50]"
      ]
     },
     "execution_count": 11,
     "metadata": {},
     "output_type": "execute_result"
    }
   ],
   "source": [
    "aa = [10, 20, 30, 40, 50]\n",
    "aa"
   ]
  },
  {
   "cell_type": "code",
   "execution_count": 12,
   "metadata": {},
   "outputs": [
    {
     "data": {
      "text/plain": [
       "10"
      ]
     },
     "execution_count": 12,
     "metadata": {},
     "output_type": "execute_result"
    }
   ],
   "source": [
    "min(aa)"
   ]
  },
  {
   "cell_type": "code",
   "execution_count": 13,
   "metadata": {},
   "outputs": [
    {
     "data": {
      "text/plain": [
       "50"
      ]
     },
     "execution_count": 13,
     "metadata": {},
     "output_type": "execute_result"
    }
   ],
   "source": [
    "max(aa)"
   ]
  },
  {
   "cell_type": "code",
   "execution_count": 14,
   "metadata": {},
   "outputs": [
    {
     "data": {
      "text/plain": [
       "150"
      ]
     },
     "execution_count": 14,
     "metadata": {},
     "output_type": "execute_result"
    }
   ],
   "source": [
    "sum(aa)"
   ]
  },
  {
   "cell_type": "code",
   "execution_count": 15,
   "metadata": {},
   "outputs": [
    {
     "data": {
      "text/plain": [
       "5"
      ]
     },
     "execution_count": 15,
     "metadata": {},
     "output_type": "execute_result"
    }
   ],
   "source": [
    "len(aa)"
   ]
  },
  {
   "cell_type": "code",
   "execution_count": 16,
   "metadata": {},
   "outputs": [
    {
     "data": {
      "text/plain": [
       "30.0"
      ]
     },
     "execution_count": 16,
     "metadata": {},
     "output_type": "execute_result"
    }
   ],
   "source": [
    "mean = sum(aa)/len(aa)\n",
    "mean"
   ]
  },
  {
   "cell_type": "code",
   "execution_count": 18,
   "metadata": {},
   "outputs": [
    {
     "name": "stdout",
     "output_type": "stream",
     "text": [
      "현재 리스트 : [30, 10, 20]\n",
      "append(40) 후의 리스트 : [30, 10, 20, 40]\n",
      "pop()으로 추출한 값 : 40\n",
      "pop() 후의 리스트 : [30, 10, 20]\n",
      "sort() 후의 리스트 : [10, 20, 30]\n",
      "reverse() 후의 리스트 : [30, 20, 10]\n",
      "20값의 위치 : 1\n",
      "insert(2, 222) 후의 리스트 : [30, 20, 222, 10]\n",
      "remove(222) 후의 리스트 : [30, 20, 10]\n",
      "extend([77, 88, 77]) 후의 리스트 : [30, 20, 10, 77, 88, 77]\n",
      "77값의 개수 : 2\n",
      "myList : [30, 20, 10, 77, 88, 77]\n",
      "리스트의 합  계 :  302\n",
      "리스트의 갯  수 :    6\n",
      "리스트의 평균값 : 50.3\n",
      "리스트의 최소값 :   10\n",
      "리스트의 최대값 :   88\n"
     ]
    }
   ],
   "source": [
    "# Code 7-5\n",
    "myList = [30, 10, 20]\n",
    "print(\"현재 리스트 : %s\" % myList)\n",
    "\n",
    "myList.append(40)\n",
    "print(\"append(40) 후의 리스트 : %s\" % myList)\n",
    "\n",
    "print(\"pop()으로 추출한 값 : %s\" % myList.pop())\n",
    "print(\"pop() 후의 리스트 : %s\" % myList)\n",
    "\n",
    "myList.sort()\n",
    "print(\"sort() 후의 리스트 : %s\" % myList)\n",
    "\n",
    "myList.reverse()\n",
    "print(\"reverse() 후의 리스트 : %s\" % myList)\n",
    "\n",
    "print(\"20값의 위치 : %d\" % myList.index(20))\n",
    "\n",
    "myList.insert(2, 222)\n",
    "print(\"insert(2, 222) 후의 리스트 : %s\" % myList)\n",
    "\n",
    "myList.remove(222)\n",
    "print(\"remove(222) 후의 리스트 : %s\" % myList)\n",
    "\n",
    "myList.extend( [77, 88, 77] )\n",
    "print(\"extend([77, 88, 77]) 후의 리스트 : %s\" % myList)\n",
    "\n",
    "print(\"77값의 개수 : %d\" % myList.count(77))\n",
    "\n",
    "print(f\"myList : {myList}\")\n",
    "print(f\"리스트의 합  계 : {sum(myList):4d}\")\n",
    "print(f\"리스트의 갯  수 : {len(myList):4d}\")\n",
    "print(f\"리스트의 평균값 : {sum(myList) / len(myList):4.1f}\")\n",
    "print(f\"리스트의 최소값 : {min(myList):4d}\")\n",
    "print(f\"리스트의 최대값 : {max(myList):4d}\")"
   ]
  },
  {
   "cell_type": "code",
   "execution_count": 20,
   "metadata": {},
   "outputs": [
    {
     "name": "stdout",
     "output_type": "stream",
     "text": [
      "vals 리스트 = [1, 2, 3, 4, 5, 6, 7, 8, 9, 10]\n",
      "평균 = 5.5\n",
      "분산 = 8.25\n"
     ]
    }
   ],
   "source": [
    "import math\n",
    "\n",
    "vals = [i+1 for i in range(10)]\n",
    "print('vals 리스트 =', vals)\n",
    "\n",
    "# 평균\n",
    "mean = sum(vals) / len(vals)\n",
    "print(\"평균 =\", mean)\n",
    "\n",
    "# 분산\n",
    "vsum = 0\n",
    "for val in vals:\n",
    "    vsum += (val - mean) ** 2\n",
    "variance = vsum / len(vals)\n",
    "print(\"분산 =\", variance)"
   ]
  },
  {
   "cell_type": "code",
   "execution_count": 19,
   "metadata": {},
   "outputs": [
    {
     "data": {
      "text/plain": [
       "['__doc__',\n",
       " '__loader__',\n",
       " '__name__',\n",
       " '__package__',\n",
       " '__spec__',\n",
       " 'acos',\n",
       " 'acosh',\n",
       " 'asin',\n",
       " 'asinh',\n",
       " 'atan',\n",
       " 'atan2',\n",
       " 'atanh',\n",
       " 'ceil',\n",
       " 'comb',\n",
       " 'copysign',\n",
       " 'cos',\n",
       " 'cosh',\n",
       " 'degrees',\n",
       " 'dist',\n",
       " 'e',\n",
       " 'erf',\n",
       " 'erfc',\n",
       " 'exp',\n",
       " 'expm1',\n",
       " 'fabs',\n",
       " 'factorial',\n",
       " 'floor',\n",
       " 'fmod',\n",
       " 'frexp',\n",
       " 'fsum',\n",
       " 'gamma',\n",
       " 'gcd',\n",
       " 'hypot',\n",
       " 'inf',\n",
       " 'isclose',\n",
       " 'isfinite',\n",
       " 'isinf',\n",
       " 'isnan',\n",
       " 'isqrt',\n",
       " 'lcm',\n",
       " 'ldexp',\n",
       " 'lgamma',\n",
       " 'log',\n",
       " 'log10',\n",
       " 'log1p',\n",
       " 'log2',\n",
       " 'modf',\n",
       " 'nan',\n",
       " 'nextafter',\n",
       " 'perm',\n",
       " 'pi',\n",
       " 'pow',\n",
       " 'prod',\n",
       " 'radians',\n",
       " 'remainder',\n",
       " 'sin',\n",
       " 'sinh',\n",
       " 'sqrt',\n",
       " 'tan',\n",
       " 'tanh',\n",
       " 'tau',\n",
       " 'trunc',\n",
       " 'ulp']"
      ]
     },
     "execution_count": 19,
     "metadata": {},
     "output_type": "execute_result"
    }
   ],
   "source": [
    "import math\n",
    "dir(math)"
   ]
  },
  {
   "cell_type": "code",
   "execution_count": 23,
   "metadata": {},
   "outputs": [
    {
     "name": "stdout",
     "output_type": "stream",
     "text": [
      "나는 빨간색을 가장 좋아합니다.\n",
      "나는 주황색을 가장 좋아합니다.\n",
      "나는 노란색을 가장 좋아합니다.\n",
      "나는 초록색을 가장 좋아합니다.\n",
      "나는 파란색을 가장 좋아합니다.\n",
      "나는 남  색을 가장 좋아합니다.\n",
      "나는 보라색을 가장 좋아합니다.\n"
     ]
    }
   ],
   "source": [
    "colors = [\"빨간색\", \"주황색\", \"노란색\", \"초록색\", \"파란색\", \"남  색\", \"보라색\"]\n",
    "for color in colors:\n",
    "    print(f\"나는 {color:3s}을 가장 좋아합니다.\")"
   ]
  },
  {
   "cell_type": "code",
   "execution_count": 26,
   "metadata": {},
   "outputs": [
    {
     "name": "stdout",
     "output_type": "stream",
     "text": [
      "  1   2   3   4 \n",
      "  5   6   7   8 \n",
      "  9  10  11  12 \n"
     ]
    }
   ],
   "source": [
    "list1 = []\n",
    "list2 = []\n",
    "value=1\n",
    "for i in range(0, 3) :\n",
    "    for k in range(0, 4) :\n",
    "        list1.append(value)\n",
    "        value += 1\n",
    "    list2.append(list1)\n",
    "    list1 = []\n",
    "\n",
    "for i in range(0, 3) :\n",
    "    for k in range(0, 4) :\n",
    "        print(\"%3d\" % list2[i][k], end = \" \")\n",
    "    print(\"\")\n"
   ]
  },
  {
   "cell_type": "code",
   "execution_count": 31,
   "metadata": {},
   "outputs": [
    {
     "name": "stdout",
     "output_type": "stream",
     "text": [
      "   1    2    3    4    5 \n",
      "   6    7    8    9   10 \n",
      "  11   12   13   14   15 \n",
      "-------------------------\n",
      "sum = 120\n"
     ]
    }
   ],
   "source": [
    "s = [\n",
    "    [1, 2, 3, 4, 5],\n",
    "    [6, 7, 8, 9, 10],\n",
    "    [11, 12, 13, 14, 15]\n",
    "]\n",
    "rows = len(s)\n",
    "cols = len(s[0])\n",
    "\n",
    "for r in range(rows):\n",
    "    for c in range(cols):\n",
    "        # print(s[r][c], end=\", \")\n",
    "        print(f\"{s[r][c]:4d}\", end=\" \")\n",
    "    print()\n",
    "\n",
    "sum = 0\n",
    "for r in range(rows):\n",
    "    for c in range(cols):\n",
    "        sum += s[r][c]\n",
    "print(\"-\"*25)\n",
    "print(f\"sum = {sum}\")"
   ]
  },
  {
   "cell_type": "code",
   "execution_count": 32,
   "metadata": {},
   "outputs": [
    {
     "name": "stdout",
     "output_type": "stream",
     "text": [
      "sum1 = 15\n",
      "sum2 = 40\n",
      "sum3 = 65\n"
     ]
    }
   ],
   "source": [
    "s = [\n",
    "    [1, 2, 3, 4, 5],\n",
    "    [6, 7, 8, 9, 10],\n",
    "    [11, 12, 13, 14, 15]\n",
    "]\n",
    "\n",
    "cols1 = len(s[0])\n",
    "cols2 = len(s[1])\n",
    "cols3 = len(s[2])\n",
    "\n",
    "\n",
    "sum1, sum2, sum3 = [0] * 3\n",
    "for c in range(cols1):\n",
    "    sum1 += s[0][c]\n",
    "for c in range(cols2):\n",
    "    sum2 += s[1][c]\n",
    "for c in range(cols3):\n",
    "    sum3 += s[2][c]\n",
    "\n",
    "print(\"sum1 =\", sum1)\n",
    "print(\"sum2 =\", sum2)\n",
    "print(\"sum3 =\", sum3)"
   ]
  },
  {
   "cell_type": "code",
   "execution_count": 36,
   "metadata": {},
   "outputs": [
    {
     "name": "stdout",
     "output_type": "stream",
     "text": [
      "  1   2   3   4 \n",
      "  5   6   7   8 \n",
      "  9  10  11  12 \n",
      "--------------------\n",
      "  1   2   3   4 \n",
      "  5   6   7   8 \n",
      "  9  10  11  12 \n",
      "[]\n"
     ]
    }
   ],
   "source": [
    "list1 = []\n",
    "list2 = []\n",
    "value=1\n",
    "for i in range(0, 3) :\n",
    "    for k in range(0, 4) :\n",
    "        list1.append(value)\n",
    "        value += 1\n",
    "    list2.append(list1)\n",
    "    for k in range(0, 4):\n",
    "        print(\"%3d\" % list1[k], end=' ')\n",
    "    print()\n",
    "    list1 = []\n",
    "\n",
    "print(\"-\"*20)\n",
    "for i in range(0, 3) :\n",
    "    for k in range(0, 4) :\n",
    "        print(\"%3d\" % list2[i][k], end = \" \")\n",
    "    print(\"\")\n",
    "\n",
    "print(list1)"
   ]
  },
  {
   "cell_type": "code",
   "execution_count": 37,
   "metadata": {},
   "outputs": [
    {
     "name": "stdout",
     "output_type": "stream",
     "text": [
      "  0   3   6   9 \n",
      " 12  15  18  21 \n",
      " 24  27  30  33 \n"
     ]
    }
   ],
   "source": [
    "list1 = []\n",
    "list2 = []\n",
    "value=0\n",
    "for i in range(0, 3) :\n",
    "    for k in range(0, 4) :\n",
    "        list1.append(value)\n",
    "        value += 3\n",
    "    list2.append(list1)\n",
    "    list1 = []\n",
    "\n",
    "for i in range(0, 3) :\n",
    "    for k in range(0, 4) :\n",
    "        print(\"%3d\" % list2[i][k], end = \" \")\n",
    "    print(\"\")"
   ]
  },
  {
   "cell_type": "code",
   "execution_count": 38,
   "metadata": {},
   "outputs": [
    {
     "name": "stdout",
     "output_type": "stream",
     "text": [
      "   1   2   3   4\n",
      "   5   6\n",
      "   7   8   9\n"
     ]
    }
   ],
   "source": [
    "s = [\n",
    "    [1, 2, 3, 4],\n",
    "    [5, 6]    ,\n",
    "    [7, 8, 9]\n",
    "]\n",
    "\n",
    "for i in range(len(s)):\n",
    "    for k in range(len(s[i])):\n",
    "        print(\"%4d\"%s[i][k], end=\"\")\n",
    "    print()"
   ]
  },
  {
   "cell_type": "code",
   "execution_count": 39,
   "metadata": {},
   "outputs": [
    {
     "name": "stdout",
     "output_type": "stream",
     "text": [
      "  10  20  30\n",
      "  40  50  60  70  80\n",
      "  90 100\n",
      "--------------------\n",
      "sum = 550\n"
     ]
    }
   ],
   "source": [
    "s = [\n",
    "    [10, 20, 30],\n",
    "    [40, 50, 60, 70, 80]    ,\n",
    "    [90, 100]\n",
    "]\n",
    "\n",
    "sum = 0\n",
    "for i in range(len(s)):\n",
    "    for k in range(len(s[i])):\n",
    "        print(\"%4d\"%s[i][k], end=\"\")\n",
    "        sum += s[i][k]\n",
    "    print()\n",
    "print(\"-\"*20)\n",
    "print(\"sum =\",sum)"
   ]
  },
  {
   "cell_type": "code",
   "execution_count": null,
   "metadata": {},
   "outputs": [],
   "source": []
  }
 ],
 "metadata": {
  "interpreter": {
   "hash": "86b583ba1de6fbceada88a8b837ef4979121026fd16e47798ebc02de5c63c543"
  },
  "kernelspec": {
   "display_name": "Python 3.9.7 ('base')",
   "language": "python",
   "name": "python3"
  },
  "language_info": {
   "codemirror_mode": {
    "name": "ipython",
    "version": 3
   },
   "file_extension": ".py",
   "mimetype": "text/x-python",
   "name": "python",
   "nbconvert_exporter": "python",
   "pygments_lexer": "ipython3",
   "version": "3.9.7"
  },
  "orig_nbformat": 4
 },
 "nbformat": 4,
 "nbformat_minor": 2
}
