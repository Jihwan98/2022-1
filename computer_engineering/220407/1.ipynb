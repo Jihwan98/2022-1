{
 "cells": [
  {
   "cell_type": "code",
   "execution_count": 4,
   "metadata": {},
   "outputs": [
    {
     "name": "stdout",
     "output_type": "stream",
     "text": [
      "딸기가 있네요.\n",
      "바나나가 없네요.\n"
     ]
    }
   ],
   "source": [
    "fruit = ['사과', '딸기', '배', '포도']\n",
    "\n",
    "if '딸기' in fruit:\n",
    "    print(\"딸기가 있네요.\")\n",
    "if '바나나' not in fruit:\n",
    "    print(\"바나나가 없네요.\")"
   ]
  },
  {
   "cell_type": "code",
   "execution_count": 6,
   "metadata": {},
   "outputs": [
    {
     "name": "stdout",
     "output_type": "stream",
     "text": [
      "생성된 리스트 [7, 2, 5, 9, 2, 5, 5, 1, 1, 5]\n",
      "숫자 0는(은) 리스트에 없네요.\n",
      "숫자 3는(은) 리스트에 없네요.\n",
      "숫자 4는(은) 리스트에 없네요.\n",
      "숫자 6는(은) 리스트에 없네요.\n",
      "숫자 8는(은) 리스트에 없네요.\n",
      "\n",
      "숫자 1는(은) 리스트에 있네요.\n",
      "숫자 2는(은) 리스트에 있네요.\n",
      "숫자 5는(은) 리스트에 있네요.\n",
      "숫자 7는(은) 리스트에 있네요.\n",
      "숫자 9는(은) 리스트에 있네요.\n"
     ]
    }
   ],
   "source": [
    "import random\n",
    "\n",
    "numbers=[]\n",
    "for num in range(0, 10) :\n",
    "    numbers.append(random.randrange(0, 10))\n",
    "\n",
    "print(\"생성된 리스트\", numbers)\n",
    "\t\n",
    "for num in range(0, 10) :\n",
    "    if num not in numbers :\n",
    "        print(\"숫자 %d는(은) 리스트에 없네요.\" %num)\n",
    "print(\"\")\n",
    "for num in range(0, 10):\n",
    "    if num in numbers:\n",
    "        print(\"숫자 %d는(은) 리스트에 있네요.\" %num)\n"
   ]
  },
  {
   "cell_type": "code",
   "execution_count": 7,
   "metadata": {},
   "outputs": [
    {
     "name": "stdout",
     "output_type": "stream",
     "text": [
      "생성된 리스트 [4, 2, 7, 5, 6, 5, 9, 6, 3, 6]\n",
      "생성되지 않은 리스트 [0, 1, 8]\n"
     ]
    }
   ],
   "source": [
    "number1=[]\n",
    "number2=[]\n",
    "for num in range(0, 10) :\n",
    "    number1.append(random.randrange(0, 10))\n",
    "print(\"생성된 리스트\", number1)\n",
    "for num in range(0, 10) :\n",
    "    if num not in number1 :\n",
    "        number2.append(num)  \n",
    "print(\"생성되지 않은 리스트\", number2)"
   ]
  },
  {
   "cell_type": "code",
   "execution_count": null,
   "metadata": {},
   "outputs": [],
   "source": []
  }
 ],
 "metadata": {
  "interpreter": {
   "hash": "573638ae49551fcfe7f6e4028d99ee66259e02ec18060ba3ce06fdbb0c98767d"
  },
  "kernelspec": {
   "display_name": "Python 3.8.12 ('dicom')",
   "language": "python",
   "name": "python3"
  },
  "language_info": {
   "codemirror_mode": {
    "name": "ipython",
    "version": 3
   },
   "file_extension": ".py",
   "mimetype": "text/x-python",
   "name": "python",
   "nbconvert_exporter": "python",
   "pygments_lexer": "ipython3",
   "version": "3.8.12"
  },
  "orig_nbformat": 4
 },
 "nbformat": 4,
 "nbformat_minor": 2
}
