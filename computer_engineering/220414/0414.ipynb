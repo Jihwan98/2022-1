{
 "cells": [
  {
   "cell_type": "code",
   "execution_count": 1,
   "metadata": {},
   "outputs": [
    {
     "name": "stdout",
     "output_type": "stream",
     "text": [
      "생성된 리스트 [7, 4, 0, 2, 3, 1, 5, 7, 8, 6]\n",
      "생성되지 않은 리스트 [9]\n"
     ]
    }
   ],
   "source": [
    "# 시험?\n",
    "import random\n",
    "number1=[]\n",
    "number2=[]\n",
    "for num in range(0, 10) :\n",
    "    number1.append(random.randrange(0, 10))\n",
    "print(\"생성된 리스트\", number1)\n",
    "for num in range(0, 10) :\n",
    "    if num not in number1 :\n",
    "        number2.append(num)  \n",
    "print(\"생성되지 않은 리스트\", number2)\n"
   ]
  },
  {
   "cell_type": "code",
   "execution_count": 8,
   "metadata": {},
   "outputs": [
    {
     "name": "stdout",
     "output_type": "stream",
     "text": [
      "1에서 20까지의 합계 : 210\n"
     ]
    }
   ],
   "source": [
    "i, hap = 0, 0\n",
    "num = 0\n",
    "\n",
    "num = int(input(\"값을 입력하세요 : \"))\n",
    "\n",
    "for i in range(1, num+1, 1) :\n",
    "     hap = hap + i\n",
    "\t \n",
    "print(\"1에서 %d까지의 합계 : %d\" % (num, hap))"
   ]
  },
  {
   "cell_type": "code",
   "execution_count": 9,
   "metadata": {},
   "outputs": [
    {
     "name": "stdout",
     "output_type": "stream",
     "text": [
      "홀수 합 : 2500\n",
      "짝수 합 : 2550\n",
      "전체 합 : 5050\n"
     ]
    }
   ],
   "source": [
    "i, hap1, hap2, hap = 0, 0, 0, 0\n",
    "for i in range(1, 101, 2):\n",
    "    hap1 += i\n",
    "for i in range(0, 101, 2):\n",
    "    hap2 += i\n",
    "hap = hap1 + hap2\n",
    "print(\"홀수 합 :\", hap1)\n",
    "print(\"짝수 합 :\", hap2)\n",
    "print(\"전체 합 :\", hap)"
   ]
  },
  {
   "cell_type": "code",
   "execution_count": 10,
   "metadata": {},
   "outputs": [
    {
     "name": "stdout",
     "output_type": "stream",
     "text": [
      "0과 20 사이에 있는 짝수의 합계 : 110\n",
      "0과 20 사이에 있는 홀수의 합계 : 100\n",
      "0과 20 사이에 있는 총합 : 210\n"
     ]
    }
   ],
   "source": [
    "i, hap1, hap2, hap = 0, 0, 0, 0\n",
    "num = int(input(\"값을 입력하세요 ?\"))\n",
    "for i in range(0, num+1) :\n",
    "    if i % 2 == 0 :\n",
    "        hap1 = hap1 + i\n",
    "       \n",
    "    else:\n",
    "        hap2 = hap2 + i\n",
    "hap = hap1+hap2\n",
    "print(\"0과 %d 사이에 있는 짝수의 합계 : %d\" %(num, hap1))\n",
    "print(\"0과 %d 사이에 있는 홀수의 합계 : %d\" %(num, hap2))\n",
    "print(\"0과 %d 사이에 있는 총합 : %d\" % (num, hap))"
   ]
  },
  {
   "cell_type": "code",
   "execution_count": 15,
   "metadata": {},
   "outputs": [
    {
     "name": "stdout",
     "output_type": "stream",
     "text": [
      "0에서 100까지 3의 배수의  합계 :   1683\n",
      "0에서 100까지 5의 배수의  합계 :    315\n",
      "0에서 100까지 7의 배수의  합계 :    210\n"
     ]
    }
   ],
   "source": [
    "i, hap3, hap5, hap7 = 0, 0, 0, 0\n",
    "num1, num2, num3 = 0, 0, 0\n",
    "num1 = int(input(\"시작값을 입력하세요 : \"))\n",
    "num2 = int(input(\"끝값을 입력하세요 : \"))\n",
    "num3 = int(input(\"증가값을 입력하세요 : \"))\n",
    "for i in range(num1, num2+1, num3) :\n",
    "    if i % 3 == 0 :\n",
    "        hap3 = hap3 + i\n",
    "    if i % 5 == 0 :\n",
    "        hap5 = hap5 + i\n",
    "    if i % 7 == 0 :\n",
    "        hap7 = hap7 + i\n",
    "print(\"%d에서 %d까지 3의 배수의  합계 : %6d\" % (num1, num2, hap3))\n",
    "print(\"%d에서 %d까지 5의 배수의  합계 : %6d\" % (num1, num2, hap5))\n",
    "print(\"%d에서 %d까지 7의 배수의  합계 : %6d\" % (num1, num2, hap7))"
   ]
  },
  {
   "cell_type": "code",
   "execution_count": 19,
   "metadata": {},
   "outputs": [
    {
     "name": "stdout",
     "output_type": "stream",
     "text": [
      "1에서 1000 까지의 3의배수의 합 : 166833\n",
      "1에서 1000 까지의 5의배수의 합 : 100500\n",
      "1에서 1000 까지의 3과 5의 배수의 합 : 33165\n"
     ]
    }
   ],
   "source": [
    "# Code06-05-02-and-new.py\n",
    "# 3의 배수, 5의 배수, 3과 5의 배수의 합의 계산하는 프로그램을 작성하시오 \n",
    "i, hap3, hap5, hap3_and_5 = 0, 0,0 ,0  # 초기값 설정해야 한다.\n",
    "num = int(input(\"마지막 값을 입력하세요 : \"))\n",
    "for i in range(1, num + 1, 1) :\n",
    "    if i % 3 == 0 :\n",
    "        hap3 = hap3 + i  # 3의 배수의 합 \n",
    "    if i % 5 == 0 :\n",
    "        hap5 = hap5 + i  # 5의 배수의 합 \n",
    "    if i % 3 == 0 and i % 5 == 0 :\n",
    "        hap3_and_5 = hap3_and_5 + i  # 3이면서 5의 배수 합\n",
    "        #print(\"i = %2d\"% i, \"hap3_and_5 = %2d\" % hap3_and_5) # 단계별 합계 보기\n",
    "print(\"1에서 %2d 까지의 3의배수의 합 : %4d\" % (num, hap3))\n",
    "print(\"1에서 %2d 까지의 5의배수의 합 : %4d\" % (num, hap5))\n",
    "print(\"1에서 %2d 까지의 3과 5의 배수의 합 : %3d\" % (num, hap3_and_5))"
   ]
  },
  {
   "cell_type": "code",
   "execution_count": 23,
   "metadata": {},
   "outputs": [
    {
     "name": "stdout",
     "output_type": "stream",
     "text": [
      "0 : 안녕하세요. while 문을 공부하는 중입니다.\n",
      "1 : 안녕하세요. while 문을 공부하는 중입니다.\n",
      "2 : 안녕하세요. while 문을 공부하는 중입니다.\n"
     ]
    }
   ],
   "source": [
    "i= 0\n",
    "while i < 3 :\n",
    "    print(\"%d : 안녕하세요. while 문을 공부하는 중입니다.\" % i )\n",
    "    i = i + 1"
   ]
  },
  {
   "cell_type": "code",
   "execution_count": 24,
   "metadata": {},
   "outputs": [
    {
     "name": "stdout",
     "output_type": "stream",
     "text": [
      "1에서 10까지의 합계 : 55\n"
     ]
    }
   ],
   "source": [
    "i, hap = 0, 0\n",
    "i = 1\n",
    "while ( i < 11 ) :\n",
    "     hap = hap + i\n",
    "     i = i + 1\n",
    "print(\"1에서 10까지의 합계 : %d\" % hap)"
   ]
  },
  {
   "cell_type": "code",
   "execution_count": 25,
   "metadata": {},
   "outputs": [
    {
     "name": "stdout",
     "output_type": "stream",
     "text": [
      "1~100의 합계를 최초로 1000이 넘게 하는 숫자 : 45\n"
     ]
    }
   ],
   "source": [
    "# Code06-13.py\n",
    "hap, i = 0,0\n",
    "for i in range(1,101) :\n",
    "     hap += i\n",
    "     if hap >= 1000 :\n",
    "          break\n",
    "    \n",
    "print(\"1~100의 합계를 최초로 1000이 넘게 하는 숫자 : %d\" % i)"
   ]
  },
  {
   "cell_type": "code",
   "execution_count": 27,
   "metadata": {},
   "outputs": [
    {
     "name": "stdout",
     "output_type": "stream",
     "text": [
      "1~100의 합계를 최초로 1000이 넘게 하는 숫자 : 45\n"
     ]
    }
   ],
   "source": [
    "hap, i = 0, 0\n",
    "while i < 101:\n",
    "    hap += i\n",
    "    if hap >= 1000:\n",
    "        break\n",
    "    i += 1\n",
    "\n",
    "print(\"1~100의 합계를 최초로 1000이 넘게 하는 숫자 : %d\" % i)"
   ]
  },
  {
   "cell_type": "code",
   "execution_count": null,
   "metadata": {},
   "outputs": [],
   "source": []
  }
 ],
 "metadata": {
  "interpreter": {
   "hash": "573638ae49551fcfe7f6e4028d99ee66259e02ec18060ba3ce06fdbb0c98767d"
  },
  "kernelspec": {
   "display_name": "Python 3.8.12 ('dicom')",
   "language": "python",
   "name": "python3"
  },
  "language_info": {
   "codemirror_mode": {
    "name": "ipython",
    "version": 3
   },
   "file_extension": ".py",
   "mimetype": "text/x-python",
   "name": "python",
   "nbconvert_exporter": "python",
   "pygments_lexer": "ipython3",
   "version": "3.8.12"
  },
  "orig_nbformat": 4
 },
 "nbformat": 4,
 "nbformat_minor": 2
}
