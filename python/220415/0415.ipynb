{
 "cells": [
  {
   "cell_type": "code",
   "execution_count": 1,
   "metadata": {},
   "outputs": [
    {
     "name": "stdout",
     "output_type": "stream",
     "text": [
      "10와 20의 합은 30입니다.\n"
     ]
    }
   ],
   "source": [
    "def print_sum(a, b):\n",
    "    result = a + b\n",
    "    print(f'{a}와 {b}의 합은 {result}입니다.')\n",
    "\n",
    "print_sum(10, 20)"
   ]
  },
  {
   "cell_type": "code",
   "execution_count": 2,
   "metadata": {},
   "outputs": [
    {
     "name": "stdout",
     "output_type": "stream",
     "text": [
      "100와 200의 합은 300입니다.\n"
     ]
    }
   ],
   "source": [
    "print_sum(100,200)"
   ]
  },
  {
   "cell_type": "code",
   "execution_count": 3,
   "metadata": {},
   "outputs": [
    {
     "name": "stdout",
     "output_type": "stream",
     "text": [
      "102.1223와 32134.124의 합은 32236.2463입니다.\n"
     ]
    }
   ],
   "source": [
    "print_sum(102.1223, 32134.124)"
   ]
  },
  {
   "cell_type": "code",
   "execution_count": 4,
   "metadata": {},
   "outputs": [
    {
     "name": "stdout",
     "output_type": "stream",
     "text": [
      "10와 20의 차는 -10입니다.\n"
     ]
    }
   ],
   "source": [
    "def print_sub(a,b):\n",
    "    result = a - b\n",
    "    print(f\"{a}와 {b}의 차는 {result}입니다.\")\n",
    "\n",
    "print_sub(10, 20)"
   ]
  },
  {
   "cell_type": "code",
   "execution_count": 5,
   "metadata": {},
   "outputs": [
    {
     "name": "stdout",
     "output_type": "stream",
     "text": [
      "10와 20의 곱은 200입니다.\n"
     ]
    }
   ],
   "source": [
    "def print_mul(a, b):\n",
    "    result = a * b\n",
    "    print(f\"{a}와 {b}의 곱은 {result}입니다.\")\n",
    "\n",
    "print_mul(10, 20)"
   ]
  },
  {
   "cell_type": "code",
   "execution_count": 8,
   "metadata": {},
   "outputs": [
    {
     "name": "stdout",
     "output_type": "stream",
     "text": [
      "해는 2.0 또는 -4.0\n",
      "해는 4.0 또는 -1.0\n"
     ]
    }
   ],
   "source": [
    "def print_root(a, b, c):\n",
    "    r1 = (-b + (b ** 2 - 4 * a * c) ** 0.5) / (2 * a)\n",
    "    r2 = (-b - (b ** 2 - 4 * a * c) ** 0.5) / (2 * a)\n",
    "    print(f'해는 {r1} 또는 {r2}')\n",
    "\n",
    "print_root(1, 2, -8)\n",
    "print_root(2, -6, -8)"
   ]
  },
  {
   "cell_type": "code",
   "execution_count": 9,
   "metadata": {},
   "outputs": [
    {
     "name": "stdout",
     "output_type": "stream",
     "text": [
      "해는 3.0 또는 -7.0\n",
      "해는 4.0 또는 2.0\n"
     ]
    }
   ],
   "source": [
    "print_root(1, 4, -21)\n",
    "print_root(1, -6, 8)"
   ]
  },
  {
   "cell_type": "code",
   "execution_count": 11,
   "metadata": {},
   "outputs": [
    {
     "name": "stdout",
     "output_type": "stream",
     "text": [
      "밑변 10, 높이 20인 삼각형의 면적은 : 100.0\n"
     ]
    }
   ],
   "source": [
    "def print_area(width, height):\n",
    "    area = width * height * 0.5\n",
    "    print(f\"밑변 {width}, 높이 {height}인 삼각형의 면적은 : {area}\")\n",
    "\n",
    "print_area(10, 20)"
   ]
  },
  {
   "cell_type": "code",
   "execution_count": 12,
   "metadata": {},
   "outputs": [
    {
     "name": "stdout",
     "output_type": "stream",
     "text": [
      "해는 2.0 또는 -4.0\n"
     ]
    }
   ],
   "source": [
    "def get_root(a, b, c):\n",
    "    r1 = (-b + (b ** 2 - 4 * a * c) ** 0.5) / (2 * a)\n",
    "    r2 = (-b - (b ** 2 - 4 * a * c) ** 0.5) / (2 * a)\n",
    "    return r1, r2\n",
    "\n",
    "result1, result2 = get_root(1, 2, -8)\n",
    "print(f'해는 {result1} 또는 {result2}')"
   ]
  },
  {
   "cell_type": "code",
   "execution_count": 22,
   "metadata": {},
   "outputs": [
    {
     "name": "stdout",
     "output_type": "stream",
     "text": [
      "반지름이 10인 원의 면적 : 314.2, 둘레 : 62.8\n"
     ]
    }
   ],
   "source": [
    "import math\n",
    "\n",
    "def circle_are_circum(radius):\n",
    "    area = math.pi * radius ** 2\n",
    "    circum = 2 * math.pi * radius\n",
    "    return area, circum\n",
    "\n",
    "radius = 10\n",
    "area, circum = circle_are_circum(radius)\n",
    "\n",
    "print(f\"반지름이 {radius}인 원의 면적 : {area:.1f}, 둘레 : {circum:.1f}\")"
   ]
  },
  {
   "cell_type": "code",
   "execution_count": 25,
   "metadata": {},
   "outputs": [
    {
     "name": "stdout",
     "output_type": "stream",
     "text": [
      "a + b :  30\n"
     ]
    }
   ],
   "source": [
    "def print_sum():\n",
    "    result = a + b\n",
    "    print(\"a + b : \", result)\n",
    "\n",
    "a = 10\n",
    "b = 20\n",
    "\n",
    "print_sum()"
   ]
  },
  {
   "cell_type": "code",
   "execution_count": 28,
   "metadata": {},
   "outputs": [
    {
     "name": "stdout",
     "output_type": "stream",
     "text": [
      "a + b :  60\n"
     ]
    },
    {
     "data": {
      "text/plain": [
       "(10, 20)"
      ]
     },
     "execution_count": 28,
     "metadata": {},
     "output_type": "execute_result"
    }
   ],
   "source": [
    "def print_sum():\n",
    "    a = 20\n",
    "    b = 40\n",
    "    result = a + b\n",
    "    print(\"a + b : \", result)\n",
    "\n",
    "print_sum()\n",
    "a, b"
   ]
  },
  {
   "cell_type": "code",
   "execution_count": 29,
   "metadata": {},
   "outputs": [
    {
     "name": "stdout",
     "output_type": "stream",
     "text": [
      "내부 : 300\n"
     ]
    },
    {
     "data": {
      "text/plain": [
       "(100, 200)"
      ]
     },
     "execution_count": 29,
     "metadata": {},
     "output_type": "execute_result"
    }
   ],
   "source": [
    "def print_sum():\n",
    "    global a, b\n",
    "    a = 100\n",
    "    b = 200\n",
    "    result = a + b\n",
    "    print(\"내부 :\", result)\n",
    "\n",
    "a = 10\n",
    "b = 20\n",
    "print_sum()\n",
    "a, b"
   ]
  },
  {
   "cell_type": "code",
   "execution_count": 31,
   "metadata": {},
   "outputs": [
    {
     "ename": "SyntaxError",
     "evalue": "invalid syntax (2198415937.py, line 2)",
     "output_type": "error",
     "traceback": [
      "\u001b[1;36m  Input \u001b[1;32mIn [31]\u001b[1;36m\u001b[0m\n\u001b[1;33m    global a = 100\u001b[0m\n\u001b[1;37m             ^\u001b[0m\n\u001b[1;31mSyntaxError\u001b[0m\u001b[1;31m:\u001b[0m invalid syntax\n"
     ]
    }
   ],
   "source": [
    "def print_sum():\n",
    "    global a = 100 # 전역변수로 사용 시 line을 따로 해주어야 함\n",
    "    global b = 200\n",
    "    result = a + b\n",
    "    print(\"내부 :\", result)\n",
    "\n",
    "a = 10\n",
    "b = 20\n",
    "print_sum()\n",
    "a, b"
   ]
  },
  {
   "cell_type": "code",
   "execution_count": 32,
   "metadata": {},
   "outputs": [
    {
     "data": {
      "text/plain": [
       "(2.0, -4.0)"
      ]
     },
     "execution_count": 32,
     "metadata": {},
     "output_type": "execute_result"
    }
   ],
   "source": [
    "get_root(a=1, b=2, c=-8)"
   ]
  },
  {
   "cell_type": "code",
   "execution_count": 34,
   "metadata": {},
   "outputs": [
    {
     "data": {
      "text/plain": [
       "(2.0, -4.0)"
      ]
     },
     "execution_count": 34,
     "metadata": {},
     "output_type": "execute_result"
    }
   ],
   "source": [
    "get_root(c=-8, b=2, a=1)"
   ]
  },
  {
   "cell_type": "code",
   "execution_count": 37,
   "metadata": {},
   "outputs": [
    {
     "ename": "SyntaxError",
     "evalue": "positional argument follows keyword argument (873621821.py, line 1)",
     "output_type": "error",
     "traceback": [
      "\u001b[1;36m  Input \u001b[1;32mIn [37]\u001b[1;36m\u001b[0m\n\u001b[1;33m    get_root(1, c=2, 2)\u001b[0m\n\u001b[1;37m                     ^\u001b[0m\n\u001b[1;31mSyntaxError\u001b[0m\u001b[1;31m:\u001b[0m positional argument follows keyword argument\n"
     ]
    }
   ],
   "source": [
    "get_root(1, c=2, 2)"
   ]
  },
  {
   "cell_type": "code",
   "execution_count": 40,
   "metadata": {},
   "outputs": [
    {
     "ename": "TypeError",
     "evalue": "get_root() got multiple values for argument 'b'",
     "output_type": "error",
     "traceback": [
      "\u001b[1;31m---------------------------------------------------------------------------\u001b[0m",
      "\u001b[1;31mTypeError\u001b[0m                                 Traceback (most recent call last)",
      "\u001b[1;32mc:\\Users\\zxwlg\\workspace\\2022-1\\python\\220415\\0415.ipynb Cell 18'\u001b[0m in \u001b[0;36m<cell line: 1>\u001b[1;34m()\u001b[0m\n\u001b[1;32m----> <a href='vscode-notebook-cell:/c%3A/Users/zxwlg/workspace/2022-1/python/220415/0415.ipynb#ch0000019?line=0'>1</a>\u001b[0m get_root(\u001b[39m1\u001b[39;49m, \u001b[39m2\u001b[39;49m, b\u001b[39m=\u001b[39;49m\u001b[39m2\u001b[39;49m)\n",
      "\u001b[1;31mTypeError\u001b[0m: get_root() got multiple values for argument 'b'"
     ]
    }
   ],
   "source": [
    "get_root(1, 2, b=2)"
   ]
  },
  {
   "cell_type": "code",
   "execution_count": 50,
   "metadata": {},
   "outputs": [
    {
     "data": {
      "text/plain": [
       "314.1592653589793"
      ]
     },
     "execution_count": 50,
     "metadata": {},
     "output_type": "execute_result"
    }
   ],
   "source": [
    "def func(shape, width=1, height=1, radius=1):\n",
    "    if shape == 0: # 사각형의 넓이\n",
    "        return width * height\n",
    "    elif shape == 1: # 원의 넓이\n",
    "        return math.pi * radius ** 2\n",
    "    elif shape == 2: # 삼각형의 넓이\n",
    "        return width * height / 2\n",
    "    else:\n",
    "        print(\"shape 은 0, 1, 2 만 사용해주세요\")\n",
    "        return None\n",
    "\n",
    "func(2, width=10, height=20)\n",
    "func(1, radius=10)"
   ]
  },
  {
   "cell_type": "code",
   "execution_count": 51,
   "metadata": {},
   "outputs": [
    {
     "name": "stdout",
     "output_type": "stream",
     "text": [
      "안녕하세요 길동 씨\n",
      "안녕하세요 철수 씨\n"
     ]
    }
   ],
   "source": [
    "# 가변적인 인자 전달\n",
    "def greet(*names):\n",
    "    for name in names:\n",
    "        print(f\"안녕하세요 {name} 씨\")\n",
    "\n",
    "greet(\"길동\", \"철수\")"
   ]
  },
  {
   "cell_type": "code",
   "execution_count": 52,
   "metadata": {},
   "outputs": [
    {
     "name": "stdout",
     "output_type": "stream",
     "text": [
      "인자의 개수 : 4\n",
      "인자들 : (10, 20, 30, 40)\n"
     ]
    }
   ],
   "source": [
    "def foo(*args):\n",
    "    print(f\"인자의 개수 : {len(args)}\")\n",
    "    print(f\"인자들 : {args}\")\n",
    "\n",
    "foo(10, 20, 30, 40)"
   ]
  },
  {
   "cell_type": "code",
   "execution_count": 57,
   "metadata": {},
   "outputs": [
    {
     "name": "stdout",
     "output_type": "stream",
     "text": [
      "6개의 인자 (10, 20, 30, 40, 50, 60)\n",
      "합계 : 210, 평균 : 35.0\n"
     ]
    }
   ],
   "source": [
    "def sum_nums(*numbers):\n",
    "    result = 0\n",
    "    for n in numbers:\n",
    "        result += n\n",
    "    mean = result / len(numbers)\n",
    "\n",
    "    print(f\"{len(numbers)}개의 인자 {numbers}\")\n",
    "    print(f\"합계 : {result}, 평균 : {mean}\")\n",
    "\n",
    "sum_nums(10, 20, 30, 40, 50, 60)"
   ]
  },
  {
   "cell_type": "code",
   "execution_count": 56,
   "metadata": {},
   "outputs": [
    {
     "name": "stdout",
     "output_type": "stream",
     "text": [
      "최솟값은 2\n"
     ]
    }
   ],
   "source": [
    "def min_nums(*numbers):\n",
    "    min = numbers[0]\n",
    "    for n in numbers:\n",
    "        if n < min:\n",
    "            min = n\n",
    "    print(f'최솟값은 {min}')\n",
    "\n",
    "min_nums(10, 20, 30, 430, 23, 2)"
   ]
  },
  {
   "cell_type": "code",
   "execution_count": null,
   "metadata": {},
   "outputs": [],
   "source": []
  }
 ],
 "metadata": {
  "interpreter": {
   "hash": "573638ae49551fcfe7f6e4028d99ee66259e02ec18060ba3ce06fdbb0c98767d"
  },
  "kernelspec": {
   "display_name": "dicom",
   "language": "python",
   "name": "dicom"
  },
  "language_info": {
   "codemirror_mode": {
    "name": "ipython",
    "version": 3
   },
   "file_extension": ".py",
   "mimetype": "text/x-python",
   "name": "python",
   "nbconvert_exporter": "python",
   "pygments_lexer": "ipython3",
   "version": "3.8.12"
  },
  "orig_nbformat": 4
 },
 "nbformat": 4,
 "nbformat_minor": 2
}
