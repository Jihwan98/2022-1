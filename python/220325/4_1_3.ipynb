{
 "cells": [
  {
   "cell_type": "code",
   "execution_count": 1,
   "metadata": {},
   "outputs": [
    {
     "name": "stdout",
     "output_type": "stream",
     "text": [
      "청소년 할인\n"
     ]
    }
   ],
   "source": [
    "age = 18\n",
    "if age < 20:\n",
    "    print(\"청소년 할인\")"
   ]
  },
  {
   "cell_type": "code",
   "execution_count": 2,
   "metadata": {},
   "outputs": [
    {
     "name": "stdout",
     "output_type": "stream",
     "text": [
      "목표 달성\n"
     ]
    }
   ],
   "source": [
    "walk_count = 1200\n",
    "if walk_count >= 1000:\n",
    "    print(\"목표 달성\")"
   ]
  },
  {
   "cell_type": "code",
   "execution_count": 6,
   "metadata": {},
   "outputs": [
    {
     "name": "stdout",
     "output_type": "stream",
     "text": [
      "game_score = 1300\n",
      "당신은 고수입니다.\n"
     ]
    }
   ],
   "source": [
    "game_score = 1300\n",
    "print(\"game_score =\", game_score)\n",
    "if game_score >= 1000:\n",
    "    print(\"당신은 고수입니다.\")"
   ]
  },
  {
   "cell_type": "code",
   "execution_count": 7,
   "metadata": {},
   "outputs": [
    {
     "name": "stdout",
     "output_type": "stream",
     "text": [
      "num_a = 100, num_b = 100\n",
      "두 값이 일치합니다.\n"
     ]
    }
   ],
   "source": [
    "num_a = 100 \n",
    "num_b = 100\n",
    "print(f\"num_a = {num_a}, num_b = {num_b}\")\n",
    "if num_a == num_b:\n",
    "    print('두 값이 일치합니다.')"
   ]
  },
  {
   "cell_type": "code",
   "execution_count": 9,
   "metadata": {},
   "outputs": [
    {
     "name": "stdout",
     "output_type": "stream",
     "text": [
      "18은(는) 3의 배수입니다.\n"
     ]
    }
   ],
   "source": [
    "num = int(input(\"정수를 입력하세요 : \"))\n",
    "if num % 3 == 0:\n",
    "    print(f\"{num}은(는) 3의 배수입니다.\")"
   ]
  },
  {
   "cell_type": "code",
   "execution_count": 11,
   "metadata": {},
   "outputs": [
    {
     "name": "stdout",
     "output_type": "stream",
     "text": [
      "15은(는) 3의 배수이면서 5의 배수입니다.\n"
     ]
    }
   ],
   "source": [
    "num = int(input(\"정수를 입력하세요 : \"))\n",
    "if num % 3 == 0 and num % 5 == 0:\n",
    "    print(f\"{num}은(는) 3의 배수이면서 5의 배수입니다.\")"
   ]
  },
  {
   "cell_type": "code",
   "execution_count": 14,
   "metadata": {},
   "outputs": [
    {
     "name": "stdout",
     "output_type": "stream",
     "text": [
      "n = 18\n",
      "18은(는) 짝수입니다.\n"
     ]
    }
   ],
   "source": [
    "num = int(input(\"정수를 입력하세요 : \"))\n",
    "print(f\"n = {num}\")\n",
    "if num % 2 == 0:\n",
    "    print(f\"{num}은(는) 짝수입니다.\")"
   ]
  },
  {
   "cell_type": "code",
   "execution_count": 15,
   "metadata": {},
   "outputs": [
    {
     "name": "stdout",
     "output_type": "stream",
     "text": [
      "x = 29\n",
      "29은(는) 자연수입니다.\n"
     ]
    }
   ],
   "source": [
    "# -100 ~ 100 사이의 임의의 정수 x\n",
    "# 1) x를 화면에 출력\n",
    "# 2) x가 0보다 크면 \"...은(는) 자연수입니다.\", 그렇지 않을 경우 단순출력\n",
    "x = int(input(\"-100 ~ 100 정수 입력 : \"))\n",
    "print(f\"x = {x}\")\n",
    "if x > 0:\n",
    "    print(f\"{x}은(는) 자연수입니다.\")"
   ]
  },
  {
   "cell_type": "code",
   "execution_count": null,
   "metadata": {},
   "outputs": [],
   "source": []
  }
 ],
 "metadata": {
  "interpreter": {
   "hash": "8dcc9b413409f12615dd21623b5280692c290fe24a9a59e2cdfdf97bd682a824"
  },
  "kernelspec": {
   "display_name": "Python 3.8.11 ('test')",
   "language": "python",
   "name": "python3"
  },
  "language_info": {
   "codemirror_mode": {
    "name": "ipython",
    "version": 3
   },
   "file_extension": ".py",
   "mimetype": "text/x-python",
   "name": "python",
   "nbconvert_exporter": "python",
   "pygments_lexer": "ipython3",
   "version": "3.8.11"
  },
  "orig_nbformat": 4
 },
 "nbformat": 4,
 "nbformat_minor": 2
}
