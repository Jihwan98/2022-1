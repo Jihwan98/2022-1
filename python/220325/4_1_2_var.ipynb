{
 "cells": [
  {
   "cell_type": "code",
   "execution_count": 1,
   "metadata": {},
   "outputs": [
    {
     "name": "stdout",
     "output_type": "stream",
     "text": [
      "10 20\n",
      "20 10\n"
     ]
    }
   ],
   "source": [
    "# 변수 값 바꾸기\n",
    "def change(a, b):\n",
    "    c = b\n",
    "    b = a\n",
    "    a = c\n",
    "    return a, b\n",
    "\n",
    "var1 = 10\n",
    "var2 = 20\n",
    "\n",
    "print(var1, var2)\n",
    "\n",
    "var1, var2 = change(var1, var2)\n",
    "print(var1, var2)"
   ]
  },
  {
   "cell_type": "code",
   "execution_count": 2,
   "metadata": {},
   "outputs": [
    {
     "name": "stdout",
     "output_type": "stream",
     "text": [
      "20 10\n",
      "10 20\n"
     ]
    }
   ],
   "source": [
    "# 파이썬은 제 3의 변수 값을 안불러 오고 한 줄로 가능\n",
    "print(var1, var2)\n",
    "var1, var2 = var2, var1\n",
    "print(var1, var2)"
   ]
  },
  {
   "cell_type": "code",
   "execution_count": 3,
   "metadata": {},
   "outputs": [
    {
     "name": "stdout",
     "output_type": "stream",
     "text": [
      "섭씨온도 30도는 화씨 86.0도 입니다.\n"
     ]
    }
   ],
   "source": [
    "# 섭씨 온도를 입력 받아서 화씨 온도로\n",
    "# 화씨 = (9/5) * 섭씨 + 32\n",
    "C = int(input(\"섭씨 온도를 입력하세요 : \"))\n",
    "F = (9/5) * C + 32\n",
    "print(f\"섭씨온도 {C}도는 화씨 {F}도 입니다.\")"
   ]
  },
  {
   "cell_type": "code",
   "execution_count": 4,
   "metadata": {},
   "outputs": [
    {
     "name": "stdout",
     "output_type": "stream",
     "text": [
      "원의 반지름 = 11, 원의 둘레 = 69.115024, 원의 면적 = 380.13263200000006\n"
     ]
    }
   ],
   "source": [
    "radius = 11\n",
    "PI = 3.141592\n",
    "circum = 2 * PI * radius\n",
    "area = PI * radius * radius\n",
    "print(f\"원의 반지름 = {radius}, 원의 둘레 = {circum}, 원의 면적 = {area}\")"
   ]
  },
  {
   "cell_type": "code",
   "execution_count": 12,
   "metadata": {},
   "outputs": [
    {
     "name": "stdout",
     "output_type": "stream",
     "text": [
      "2 4 8 16 32 64 128 256 512 1024 "
     ]
    }
   ],
   "source": [
    "# 비트 연산자를 이용하여 2의 거듭제곱 수 10개를 출력하는 프로그램 작성\n",
    "for i in range(10):\n",
    "    num = 2 << i\n",
    "    print(num, end=\" \")"
   ]
  },
  {
   "cell_type": "code",
   "execution_count": 13,
   "metadata": {},
   "outputs": [
    {
     "name": "stdout",
     "output_type": "stream",
     "text": [
      "이 수가 짝수인가요? True\n"
     ]
    }
   ],
   "source": [
    "# 입력받은 값이 짝수 인지 아닌지 출력하는 프로그램\n",
    "num = int(input(\"정수를 입력하세요\"))\n",
    "print(f\"이 수가 짝수인가요? {num % 2 == 0}\")"
   ]
  },
  {
   "cell_type": "code",
   "execution_count": 15,
   "metadata": {},
   "outputs": [
    {
     "name": "stdout",
     "output_type": "stream",
     "text": [
      "입력된 정수는 0에서 100의 범위 안에 있는 짝수 인가요? True\n"
     ]
    }
   ],
   "source": [
    "# 입력받은 값이 0이상 100이하 안에 있는 짝수인지 아닌지 판단하는 프로그램\n",
    "num = int(input(\"정수를 입력하세요\"))\n",
    "result = num % 2 == 0 and 0 <= num <= 100\n",
    "print(f\"입력된 정수는 0에서 100의 범위 안에 있는 짝수 인가요?\", result)"
   ]
  },
  {
   "cell_type": "code",
   "execution_count": 19,
   "metadata": {},
   "outputs": [
    {
     "name": "stdout",
     "output_type": "stream",
     "text": [
      "9의 2진수 값 : 0b1001\n",
      "9의 2진수 값에 대한 비트단위 부정값 : -0b1010\n"
     ]
    }
   ],
   "source": [
    "# 입력받은 정수를 2진수로 출력한 후 이 값에 대하여 비트단위 부정값을 2진수로 출력\n",
    "num = int(input(\"정수를 입력하세요 : \"))\n",
    "binary = bin(num)\n",
    "neg_binary = bin(~num)\n",
    "print(f\"{num}의 2진수 값 : {binary}\")\n",
    "print(f\"{num}의 2진수 값에 대한 비트단위 부정값 : {neg_binary}\")"
   ]
  },
  {
   "cell_type": "code",
   "execution_count": 23,
   "metadata": {},
   "outputs": [
    {
     "name": "stdout",
     "output_type": "stream",
     "text": [
      "a/b 몫 : 4\n",
      "a/b의 나머지 : 3\n"
     ]
    }
   ],
   "source": [
    "# 정수데이터 2개를 입력받고 a / b로 나눈 몫과 나머지를 출력하는 프로그램\n",
    "a = int(input(\"정수 a : \"))\n",
    "b = int(input(\"정수 b : \"))\n",
    "print(f\"a/b 몫 : {a // b}\")\n",
    "print(f\"a/b의 나머지 : {a % b}\")"
   ]
  },
  {
   "cell_type": "code",
   "execution_count": null,
   "metadata": {},
   "outputs": [],
   "source": []
  }
 ],
 "metadata": {
  "interpreter": {
   "hash": "8dcc9b413409f12615dd21623b5280692c290fe24a9a59e2cdfdf97bd682a824"
  },
  "kernelspec": {
   "display_name": "Python 3.8.11 ('test')",
   "language": "python",
   "name": "python3"
  },
  "language_info": {
   "codemirror_mode": {
    "name": "ipython",
    "version": 3
   },
   "file_extension": ".py",
   "mimetype": "text/x-python",
   "name": "python",
   "nbconvert_exporter": "python",
   "pygments_lexer": "ipython3",
   "version": "3.8.11"
  },
  "orig_nbformat": 4
 },
 "nbformat": 4,
 "nbformat_minor": 2
}
