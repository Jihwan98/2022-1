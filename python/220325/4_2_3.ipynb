{
 "cells": [
  {
   "cell_type": "code",
   "execution_count": 1,
   "metadata": {},
   "outputs": [
    {
     "name": "stdout",
     "output_type": "stream",
     "text": [
      "10 은(는) 짝수입니다.\n"
     ]
    }
   ],
   "source": [
    "num = 10\n",
    "if num % 2 == 0:\n",
    "    print(num, '은(는) 짝수입니다.')\n",
    "else:\n",
    "    print(num, '은(는) 홀수입니다.')"
   ]
  },
  {
   "cell_type": "code",
   "execution_count": 2,
   "metadata": {},
   "outputs": [
    {
     "name": "stdout",
     "output_type": "stream",
     "text": [
      "오전입니다.\n"
     ]
    }
   ],
   "source": [
    "hour = 10\n",
    "if hour < 12 :\n",
    "    print(\"오전입니다.\")\n",
    "else:\n",
    "    print(\"오후입니다.\")"
   ]
  },
  {
   "cell_type": "code",
   "execution_count": 3,
   "metadata": {},
   "outputs": [
    {
     "name": "stdout",
     "output_type": "stream",
     "text": [
      "10 은(는) 음수가 아닙니다.\n",
      "10 은(는) 짝수입니다.\n"
     ]
    }
   ],
   "source": [
    "num = 10\n",
    "\n",
    "if num < 0:\n",
    "    print(num, \"은(는) 음수입니다.\")\n",
    "else:\n",
    "    print(num, '은(는) 음수가 아닙니다.')\n",
    "    if num % 2 == 0:\n",
    "        print(num, '은(는) 짝수입니다.')\n",
    "    else:\n",
    "        print(num, '은(는) 홀수입니다.')"
   ]
  },
  {
   "cell_type": "code",
   "execution_count": 4,
   "metadata": {},
   "outputs": [
    {
     "name": "stdout",
     "output_type": "stream",
     "text": [
      "game_score = 100000\n",
      "고수입니다.\n"
     ]
    }
   ],
   "source": [
    "# 게임점수를 입력받아서 1000점 이상이면 '고수입니다' 출력, 미만이면 '입문자입니다'\n",
    "game_score = int(input(\"게임점수를 입력하시오 : \"))\n",
    "print(f\"game_score = {game_score}\")\n",
    "if game_score >= 1000:\n",
    "    print(\"고수입니다.\")\n",
    "else:\n",
    "    print(\"입문자입니다.\")"
   ]
  },
  {
   "cell_type": "code",
   "execution_count": 5,
   "metadata": {},
   "outputs": [
    {
     "name": "stdout",
     "output_type": "stream",
     "text": [
      "두 값이 일치하지 않습니다.\n"
     ]
    }
   ],
   "source": [
    "# 두 개의 정수를 입력받아, 같으면 '두 값이 일치합니다', 그렇지 않으면 '두 값이 일치하지 않습니다.'\n",
    "a = int(input(\"한 정수 : \"))\n",
    "b = int(input(\"다른 정수 : \"))\n",
    "if a == b:\n",
    "    print(\"두 값이 일치합니다.\")\n",
    "else:\n",
    "    print(\"두 값이 일치하지 않습니다.\")"
   ]
  },
  {
   "cell_type": "code",
   "execution_count": 6,
   "metadata": {},
   "outputs": [
    {
     "name": "stdout",
     "output_type": "stream",
     "text": [
      "당신은 결혼한 성인입니다.\n"
     ]
    }
   ],
   "source": [
    "# 1. 성인인가요 (성인 : 1, 미성년 : 0)\n",
    "# 2. 결혼을 하셨나요 (기혼이면 1, 미혼이면 0)\n",
    "a = int(input(\"성인인가요 (성인이면 1, 미성년이면 0\"))\n",
    "if a == 1:\n",
    "    b = int(input(\"결혼을 하셨나요 (기혼이면 1, 미혼이면 0\"))\n",
    "    if b == 1:\n",
    "        print(\"당신은 결혼한 성인입니다.\")\n",
    "    else:\n",
    "        print(\"당신은 결혼을 하지 않은 성인입니다.\")\n",
    "else:\n",
    "    print(\"당신은 미성년자입니다.\")"
   ]
  },
  {
   "cell_type": "code",
   "execution_count": 9,
   "metadata": {},
   "outputs": [
    {
     "name": "stdout",
     "output_type": "stream",
     "text": [
      "두 수 중 하나가 짝수입니다.\n"
     ]
    }
   ],
   "source": [
    "a = 10\n",
    "b = 13\n",
    "if (a % 2 ==0) and (b % 2 ==0):\n",
    "    print(\"두 수 모두 짝수입니다.\")\n",
    "elif (a % 2 == 0) or (b % 2 == 0):\n",
    "    print(\"두 수 중 하나가 짝수입니다.\")\n",
    "else:\n",
    "    print(\"두 수 모두 홀수입니다.\")"
   ]
  },
  {
   "cell_type": "code",
   "execution_count": 14,
   "metadata": {},
   "outputs": [
    {
     "name": "stdout",
     "output_type": "stream",
     "text": [
      "True\n"
     ]
    }
   ],
   "source": [
    "num = 4\n",
    "if 1 < num < 10:\n",
    "    print(\"True\")"
   ]
  },
  {
   "cell_type": "code",
   "execution_count": 15,
   "metadata": {},
   "outputs": [
    {
     "name": "stdout",
     "output_type": "stream",
     "text": [
      "청소년입니다.\n"
     ]
    }
   ],
   "source": [
    "age = 12\n",
    "if 10 < age < 19:\n",
    "    print(\"청소년입니다.\")"
   ]
  },
  {
   "cell_type": "code",
   "execution_count": 18,
   "metadata": {},
   "outputs": [
    {
     "name": "stdout",
     "output_type": "stream",
     "text": [
      "2000년은 윤년입니다.\n"
     ]
    }
   ],
   "source": [
    "# 윤년\n",
    "# 1) 연수가 4로 나누어 떨어지는 해는 윤년\n",
    "# 2) 1의 조건에 만족함에도 100으로 나누어 떨어지면 평년임\n",
    "# 4) 2의 조건에 만족해도 400으로 나누어 떨어지면 윤년\n",
    "\n",
    "year = 2000\n",
    "if (year % 4 == 0 and year % 100 != 0) or year % 400 == 0:\n",
    "    print(f\"{year}년은 윤년입니다.\")\n",
    "else:\n",
    "    print(f'{year}년은 평년입니다.')"
   ]
  },
  {
   "cell_type": "code",
   "execution_count": 19,
   "metadata": {},
   "outputs": [
    {
     "name": "stdout",
     "output_type": "stream",
     "text": [
      "당신의 등급은 : A\n"
     ]
    }
   ],
   "source": [
    "score = 95\n",
    "if score >= 90:\n",
    "    grade = \"A\"\n",
    "elif score >= 80:\n",
    "    grade = \"B\"\n",
    "elif score >= 70:\n",
    "    grade = \"C\"\n",
    "elif score >= 60:\n",
    "    grade = \"D\"\n",
    "else:\n",
    "    grade = \"F\"\n",
    "print(f\"당신의 등급은 : {grade}\")"
   ]
  },
  {
   "cell_type": "code",
   "execution_count": 20,
   "metadata": {},
   "outputs": [
    {
     "name": "stdout",
     "output_type": "stream",
     "text": [
      "저속\n"
     ]
    }
   ],
   "source": [
    "# 100km/h 이상이면 '고속', 100km/h 미만 60km/h 이상이면 '중속', 60km/h 미만이면 '저속'\n",
    "speed = int(input(\"자동차의 속도를 입력하세요(단위 :; km/h) : \"))\n",
    "if speed >= 100:\n",
    "    print(\"고속\")\n",
    "elif speed >= 60:\n",
    "    print(\"중속\")\n",
    "else:\n",
    "    print(\"저속\")"
   ]
  },
  {
   "cell_type": "code",
   "execution_count": 21,
   "metadata": {},
   "outputs": [
    {
     "name": "stdout",
     "output_type": "stream",
     "text": [
      "좋음\n"
     ]
    }
   ],
   "source": [
    "# 미세먼지 농도 '좋음', '보통', '나쁨', '매우 나쁨'. 0~15, 16~35, 46~75, 76 이상\n",
    "dust = int(input(\"미세먼지 농도를 입력하세요(단위 : microgram/m^3) : \"))\n",
    "if dust >= 76:\n",
    "    print(\"매우 나쁨\")\n",
    "elif dust >= 46:\n",
    "    print(\"나쁨\")\n",
    "elif dust >= 16:\n",
    "    print(\"보통\")\n",
    "else:\n",
    "    print(\"좋음\")"
   ]
  },
  {
   "cell_type": "code",
   "execution_count": null,
   "metadata": {},
   "outputs": [],
   "source": []
  }
 ],
 "metadata": {
  "interpreter": {
   "hash": "8dcc9b413409f12615dd21623b5280692c290fe24a9a59e2cdfdf97bd682a824"
  },
  "kernelspec": {
   "display_name": "Python 3.8.11 ('test')",
   "language": "python",
   "name": "python3"
  },
  "language_info": {
   "codemirror_mode": {
    "name": "ipython",
    "version": 3
   },
   "file_extension": ".py",
   "mimetype": "text/x-python",
   "name": "python",
   "nbconvert_exporter": "python",
   "pygments_lexer": "ipython3",
   "version": "3.8.11"
  },
  "orig_nbformat": 4
 },
 "nbformat": 4,
 "nbformat_minor": 2
}
