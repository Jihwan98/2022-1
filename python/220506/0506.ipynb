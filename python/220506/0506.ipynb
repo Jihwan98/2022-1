{
 "cells": [
  {
   "cell_type": "code",
   "execution_count": 1,
   "metadata": {},
   "outputs": [
    {
     "data": {
      "text/plain": [
       "100"
      ]
     },
     "execution_count": 1,
     "metadata": {},
     "output_type": "execute_result"
    }
   ],
   "source": [
    "abs(-100)"
   ]
  },
  {
   "cell_type": "code",
   "execution_count": 3,
   "metadata": {},
   "outputs": [
    {
     "data": {
      "text/plain": [
       "100"
      ]
     },
     "execution_count": 3,
     "metadata": {},
     "output_type": "execute_result"
    }
   ],
   "source": [
    "min(100, 200, 300, 400)"
   ]
  },
  {
   "cell_type": "code",
   "execution_count": 4,
   "metadata": {},
   "outputs": [
    {
     "data": {
      "text/plain": [
       "400"
      ]
     },
     "execution_count": 4,
     "metadata": {},
     "output_type": "execute_result"
    }
   ],
   "source": [
    "max(100, 200, 300, 400)"
   ]
  },
  {
   "cell_type": "code",
   "execution_count": 5,
   "metadata": {},
   "outputs": [
    {
     "data": {
      "text/plain": [
       "3"
      ]
     },
     "execution_count": 5,
     "metadata": {},
     "output_type": "execute_result"
    }
   ],
   "source": [
    "str1 = 'FOO'\n",
    "len(str1)"
   ]
  },
  {
   "cell_type": "code",
   "execution_count": 6,
   "metadata": {},
   "outputs": [
    {
     "data": {
      "text/plain": [
       "['A', 'B', 'D', 'E', 'F', 'G']"
      ]
     },
     "execution_count": 6,
     "metadata": {},
     "output_type": "execute_result"
    }
   ],
   "source": [
    "sorted(\"EABDFG\")"
   ]
  },
  {
   "cell_type": "code",
   "execution_count": 7,
   "metadata": {},
   "outputs": [
    {
     "data": {
      "text/plain": [
       "[100, 200, 300, 500]"
      ]
     },
     "execution_count": 7,
     "metadata": {},
     "output_type": "execute_result"
    }
   ],
   "source": [
    "list1 = [200, 100, 300, 500]\n",
    "sorted(list1)"
   ]
  },
  {
   "cell_type": "code",
   "execution_count": 8,
   "metadata": {},
   "outputs": [
    {
     "data": {
      "text/plain": [
       "[500, 300, 200, 100]"
      ]
     },
     "execution_count": 8,
     "metadata": {},
     "output_type": "execute_result"
    }
   ],
   "source": [
    "sorted(list1, reverse=True)"
   ]
  },
  {
   "cell_type": "code",
   "execution_count": 11,
   "metadata": {},
   "outputs": [
    {
     "data": {
      "text/plain": [
       "113644632"
      ]
     },
     "execution_count": 11,
     "metadata": {},
     "output_type": "execute_result"
    }
   ],
   "source": [
    "a_str = \"Hello Python\"\n",
    "id(a_str)"
   ]
  },
  {
   "cell_type": "code",
   "execution_count": 12,
   "metadata": {},
   "outputs": [
    {
     "data": {
      "text/plain": [
       "99808656"
      ]
     },
     "execution_count": 12,
     "metadata": {},
     "output_type": "execute_result"
    }
   ],
   "source": [
    "n = 300\n",
    "id(n)"
   ]
  },
  {
   "cell_type": "code",
   "execution_count": 13,
   "metadata": {},
   "outputs": [
    {
     "data": {
      "text/plain": [
       "int"
      ]
     },
     "execution_count": 13,
     "metadata": {},
     "output_type": "execute_result"
    }
   ],
   "source": [
    "type(123)"
   ]
  },
  {
   "cell_type": "code",
   "execution_count": 14,
   "metadata": {},
   "outputs": [
    {
     "data": {
      "text/plain": [
       "str"
      ]
     },
     "execution_count": 14,
     "metadata": {},
     "output_type": "execute_result"
    }
   ],
   "source": [
    "type('hello')"
   ]
  },
  {
   "cell_type": "code",
   "execution_count": 15,
   "metadata": {},
   "outputs": [
    {
     "data": {
      "text/plain": [
       "float"
      ]
     },
     "execution_count": 15,
     "metadata": {},
     "output_type": "execute_result"
    }
   ],
   "source": [
    "type(120.3)"
   ]
  },
  {
   "cell_type": "code",
   "execution_count": 16,
   "metadata": {},
   "outputs": [
    {
     "data": {
      "text/plain": [
       "list"
      ]
     },
     "execution_count": 16,
     "metadata": {},
     "output_type": "execute_result"
    }
   ],
   "source": [
    "type([100, 20, 3000])"
   ]
  },
  {
   "cell_type": "code",
   "execution_count": 17,
   "metadata": {},
   "outputs": [
    {
     "data": {
      "text/plain": [
       "30"
      ]
     },
     "execution_count": 17,
     "metadata": {},
     "output_type": "execute_result"
    }
   ],
   "source": [
    "eval('10 + 20')"
   ]
  },
  {
   "cell_type": "code",
   "execution_count": 18,
   "metadata": {},
   "outputs": [
    {
     "data": {
      "text/plain": [
       "'A'"
      ]
     },
     "execution_count": 18,
     "metadata": {},
     "output_type": "execute_result"
    }
   ],
   "source": [
    "chr(65)"
   ]
  },
  {
   "cell_type": "code",
   "execution_count": 19,
   "metadata": {},
   "outputs": [
    {
     "data": {
      "text/plain": [
       "65"
      ]
     },
     "execution_count": 19,
     "metadata": {},
     "output_type": "execute_result"
    }
   ],
   "source": [
    "ord('A')"
   ]
  },
  {
   "cell_type": "code",
   "execution_count": 21,
   "metadata": {},
   "outputs": [
    {
     "name": "stdout",
     "output_type": "stream",
     "text": [
      "환영합니다.\n",
      "환영합니다.\n"
     ]
    }
   ],
   "source": [
    "def my_greet():\n",
    "    print('환영합니다.')\n",
    "\n",
    "my_greet()\n",
    "my_greet()"
   ]
  },
  {
   "cell_type": "code",
   "execution_count": 22,
   "metadata": {},
   "outputs": [
    {
     "name": "stdout",
     "output_type": "stream",
     "text": [
      "3의 제곱은 : 9\n",
      "4의 제곱은 : 16\n"
     ]
    }
   ],
   "source": [
    "def square(n):\n",
    "    return n ** 2\n",
    "\n",
    "print('3의 제곱은 :', square(3))\n",
    "print('4의 제곱은 :', square(4))"
   ]
  },
  {
   "cell_type": "code",
   "execution_count": 23,
   "metadata": {},
   "outputs": [
    {
     "name": "stdout",
     "output_type": "stream",
     "text": [
      "100과 200 중 큰 수는 : 200\n",
      "100과 200 중 작은 수는 : 100\n"
     ]
    }
   ],
   "source": [
    "def max2(m, n):\n",
    "    if m > n:\n",
    "        return m\n",
    "    else:\n",
    "        return n\n",
    "def min2(m, n):\n",
    "    if m > n:\n",
    "        return n\n",
    "    else:\n",
    "        return m\n",
    "print('100과 200 중 큰 수는 :', max2(100, 200))\n",
    "print('100과 200 중 작은 수는 :', min2(100, 200))"
   ]
  },
  {
   "cell_type": "code",
   "execution_count": 26,
   "metadata": {},
   "outputs": [
    {
     "name": "stdout",
     "output_type": "stream",
     "text": [
      "1인치 =  2.54 센티미터\n",
      "2인치 =  5.08 센티미터\n",
      "3인치 =  7.62 센티미터\n",
      "4인치 = 10.16 센티미터\n",
      "5인치 = 12.70 센티미터\n"
     ]
    }
   ],
   "source": [
    "def inch2cm(inch):\n",
    "    return inch * 2.54\n",
    "\n",
    "for i in range(1, 6):\n",
    "    print(f\"{i}인치 = {inch2cm(i):5.2f} 센티미터\")"
   ]
  },
  {
   "cell_type": "code",
   "execution_count": 28,
   "metadata": {},
   "outputs": [
    {
     "name": "stdout",
     "output_type": "stream",
     "text": [
      "10, 20, 30 의 평균값은 20.0\n",
      "10, 20, 30 의 최댓값은 30\n",
      "10, 20, 30 의 최솟값은 10\n"
     ]
    }
   ],
   "source": [
    "def mid3(a, b, c):\n",
    "    list1 = sorted([a, b, c])\n",
    "    return list1[1]\n",
    "\n",
    "def mean3(a, b, c):\n",
    "    return (a + b + c) / 3\n",
    "\n",
    "def max3(a, b, c):\n",
    "    return max(a, b, c)\n",
    "\n",
    "def min3(a, b, c):\n",
    "    return min(a, b, c)\n",
    "\n",
    "a, b, c = map(int, input(\"세 수를 입력하시오 :\").split())\n",
    "print(f\"{a}, {b}, {c} 의 평균값은\", mean3(a, b, c))\n",
    "print(f\"{a}, {b}, {c} 의 최댓값은\", max3(a, b, c))\n",
    "print(f\"{a}, {b}, {c} 의 최솟값은\", min3(a, b, c))"
   ]
  },
  {
   "cell_type": "code",
   "execution_count": 32,
   "metadata": {},
   "outputs": [
    {
     "name": "stdout",
     "output_type": "stream",
     "text": [
      " 10에서  20까지의 정수의 합 :  165\n",
      " 40에서 100까지의 정수의 합 : 4270\n"
     ]
    }
   ],
   "source": [
    "def sum_range(n1, n2):\n",
    "    result = 0\n",
    "    for i in range(n1, n2+1):\n",
    "        result += i\n",
    "    return result\n",
    "\n",
    "print(f\"{10:3d}에서 {20:3d}까지의 정수의 합 : {sum_range(10, 20):4d}\")\n",
    "print(f\"{40:3d}에서 {100:3d}까지의 정수의 합 : {sum_range(40, 100):4d}\")"
   ]
  },
  {
   "cell_type": "code",
   "execution_count": 70,
   "metadata": {},
   "outputs": [
    {
     "name": "stdout",
     "output_type": "stream",
     "text": [
      "5\n"
     ]
    }
   ],
   "source": [
    "def fibonacci(n):\n",
    "    if n < 2:\n",
    "        return n\n",
    "    else:\n",
    "        return fibonacci(n-1) + fibonacci(n-2)\n",
    "\n",
    "num = int(input(\"몇 번째 피보나치수를 원하세요?\"))\n",
    "print(fibonacci(num-1))"
   ]
  },
  {
   "cell_type": "code",
   "execution_count": 44,
   "metadata": {},
   "outputs": [
    {
     "name": "stdout",
     "output_type": "stream",
     "text": [
      "2001년 11월 23일\n"
     ]
    }
   ],
   "source": [
    "def birthday(date_str):\n",
    "    date_str\n",
    "    yy = date_str[:2]\n",
    "    mm = date_str[2:4]\n",
    "    dd = date_str[4:]\n",
    "    if int(yy) > 50:\n",
    "        y = '19' + yy\n",
    "    else:\n",
    "        y = '20' + yy\n",
    "    return f\"{y}년 {mm}월 {dd}일\"\n",
    "\n",
    "date = input(\"주민등록번호 첫 6숫자 형식 입력 :\")\n",
    "print(birthday(date))"
   ]
  },
  {
   "cell_type": "code",
   "execution_count": 51,
   "metadata": {},
   "outputs": [
    {
     "name": "stdout",
     "output_type": "stream",
     "text": [
      "220506\n"
     ]
    }
   ],
   "source": [
    "import datetime\n",
    "\n",
    "def get_birthday():\n",
    "    date = datetime.datetime.now()\n",
    "    y = date.year\n",
    "    m = date.month\n",
    "    if m < 10:\n",
    "        m = '0' + str(m)\n",
    "    d = date.day\n",
    "    if d < 10:\n",
    "        d = '0' + str(d)\n",
    "\n",
    "    return str(y)[-2:] + str(m) + str(d)\n",
    "print(get_birthday())"
   ]
  },
  {
   "cell_type": "code",
   "execution_count": 54,
   "metadata": {},
   "outputs": [
    {
     "name": "stdout",
     "output_type": "stream",
     "text": [
      "넓이 : 113.0973, 둘레 : 37.6991\n"
     ]
    }
   ],
   "source": [
    "import math\n",
    "\n",
    "def area_and_circumference(r):\n",
    "    area = math.pi * r * r\n",
    "    circum = 2 * math.pi * r\n",
    "    return area, circum\n",
    "\n",
    "radius = int(input(\"반지름을 입력하세요 :\"))\n",
    "area, circum = area_and_circumference(radius)\n",
    "print(f\"넓이 : {area:.4f}, 둘레 : {circum:.4f}\")"
   ]
  },
  {
   "cell_type": "code",
   "execution_count": 64,
   "metadata": {},
   "outputs": [
    {
     "name": "stdout",
     "output_type": "stream",
     "text": [
      "Park(Java city), Kim(C city), Kang(Python city), Lee(Python city), Hong(Ruby city), Cho(Python city), Koo(C city), Ryu(C++ city)\n",
      "Bython 문자열을 모두 3번 수정했습니다.\n"
     ]
    }
   ],
   "source": [
    "string = \"Park(Java city), Kim(C city), Kang(Bython city), \\\n",
    "Lee(Bython city), Hong(Ruby city), Cho(Bython city), Koo(C city), \\\n",
    "Ryu(C++ city)\"\n",
    "\n",
    "count = 0\n",
    "for i in string.split():\n",
    "    if \"Bython\" in i:\n",
    "        count += 1\n",
    "\n",
    "new_string = string.replace(\"Bython\", \"Python\")\n",
    "print(new_string)\n",
    "print(f\"Bython 문자열을 모두 {count}번 수정했습니다.\")"
   ]
  },
  {
   "cell_type": "code",
   "execution_count": null,
   "metadata": {},
   "outputs": [],
   "source": []
  }
 ],
 "metadata": {
  "interpreter": {
   "hash": "6ea7b8c7be9917c979660c043029f50f7c1c1f067bba18c2abf3d12fa6486f5c"
  },
  "kernelspec": {
   "display_name": "Python 3.8.5 32-bit",
   "language": "python",
   "name": "python3"
  },
  "language_info": {
   "codemirror_mode": {
    "name": "ipython",
    "version": 3
   },
   "file_extension": ".py",
   "mimetype": "text/x-python",
   "name": "python",
   "nbconvert_exporter": "python",
   "pygments_lexer": "ipython3",
   "version": "3.8.5"
  },
  "orig_nbformat": 4
 },
 "nbformat": 4,
 "nbformat_minor": 2
}
