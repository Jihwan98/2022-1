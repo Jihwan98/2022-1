{
 "cells": [
  {
   "cell_type": "code",
   "execution_count": 3,
   "metadata": {},
   "outputs": [
    {
     "name": "stdout",
     "output_type": "stream",
     "text": [
      "P\n",
      "r\n"
     ]
    }
   ],
   "source": [
    "st = \"Programming\"\n",
    "\n",
    "for ch in st:\n",
    "    if ch in ['a', 'e', 'i', 'o', 'u']:\n",
    "        # continue\n",
    "        break\n",
    "    print(ch)"
   ]
  },
  {
   "cell_type": "code",
   "execution_count": 4,
   "metadata": {},
   "outputs": [
    {
     "name": "stdout",
     "output_type": "stream",
     "text": [
      "길동님은 놀이기구를 탈 수 있습니다.\n"
     ]
    }
   ],
   "source": [
    "# 키가 140cm 미만이면 놀이기구를 탈 수 없음\n",
    "\n",
    "name = input(\"이름 : \")\n",
    "height = int( input(\"키 (cm) : \"))\n",
    "\n",
    "if height < 140:\n",
    "    print(f\"{name}님은 놀이기구를 탈 수 없습니다.\")\n",
    "else:\n",
    "    print(f\"{name}님은 놀이기구를 탈 수 있습니다.\")"
   ]
  },
  {
   "cell_type": "code",
   "execution_count": 7,
   "metadata": {},
   "outputs": [
    {
     "name": "stdout",
     "output_type": "stream",
     "text": [
      "탈 수 없습니다.\n"
     ]
    }
   ],
   "source": [
    "# 나이, 키.\n",
    "# 19세 이상, 140cm 이상이면 놀이기구를 탈 수 있음\n",
    "age = int( input(\"나이 : \"))\n",
    "height = int( input(\"키 (cm) : \"))\n",
    "\n",
    "if age >= 19 and height >= 140:\n",
    "    print(\"탈 수 있습니다.\")\n",
    "else:\n",
    "    print(\"탈 수 없습니다.\")\n"
   ]
  },
  {
   "cell_type": "code",
   "execution_count": 8,
   "metadata": {},
   "outputs": [
    {
     "name": "stdout",
     "output_type": "stream",
     "text": [
      "Youth\n"
     ]
    }
   ],
   "source": [
    "age = int( input(\"나이 : \"))\n",
    "\n",
    "if age >= 20:\n",
    "    print(\"Adult\")\n",
    "elif age >= 10:\n",
    "    print(\"Youth\")\n",
    "else:\n",
    "    print('Kid')"
   ]
  },
  {
   "cell_type": "code",
   "execution_count": 9,
   "metadata": {},
   "outputs": [
    {
     "name": "stdout",
     "output_type": "stream",
     "text": [
      "23 49 50 "
     ]
    }
   ],
   "source": [
    "num1 = int (input(\"정수를 입력하세요 : \"))\n",
    "num2 = int (input(\"정수를 입력하세요 : \"))\n",
    "num3 = int (input(\"정수를 입력하세요 : \"))\n",
    "\n",
    "num_list = [num1, num2, num3]\n",
    "num_list.sort()\n",
    "\n",
    "for num in num_list:\n",
    "    print(num, end=' ')"
   ]
  },
  {
   "cell_type": "code",
   "execution_count": 10,
   "metadata": {},
   "outputs": [
    {
     "name": "stdout",
     "output_type": "stream",
     "text": [
      "12은(는) 2(으)로 나누어집니다.\n",
      "12은(는) 3(으)로 나누어집니다.\n",
      "12은(는) 2와(과) 3 모두로 나누어집니다.\n"
     ]
    }
   ],
   "source": [
    "num = int (input(\"정수를 입력하세요 : \"))\n",
    "\n",
    "is_2 = True\n",
    "is_3 = True\n",
    "\n",
    "if num % 2 == 0:\n",
    "    print(f\"{num}은(는) 2(으)로 나누어집니다.\")\n",
    "else:\n",
    "    print(f\"{num}은(는) 2(으)로 나누어지지 않습니다.\")\n",
    "    is_2 = False\n",
    "if num % 3 == 0:\n",
    "    print(f\"{num}은(는) 3(으)로 나누어집니다.\")\n",
    "else:\n",
    "    print(f\"{num}은(는) 3(으)로 나누어지지 않습니다.\")\n",
    "    is_3 = False\n",
    "\n",
    "if is_2 and is_3:\n",
    "    print(f\"{num}은(는) 2와(과) 3 모두로 나누어집니다.\")\n",
    "else:\n",
    "    print(f\"{num}은(는) 2와(과) 3 모두로 나누어지지 않습니다.\")"
   ]
  },
  {
   "cell_type": "code",
   "execution_count": 11,
   "metadata": {},
   "outputs": [
    {
     "name": "stdout",
     "output_type": "stream",
     "text": [
      "5 * 1 = 5\n",
      "5 * 2 = 10\n",
      "5 * 3 = 15\n",
      "5 * 4 = 20\n",
      "5 * 5 = 25\n",
      "5 * 6 = 30\n",
      "5 * 7 = 35\n",
      "5 * 8 = 40\n",
      "5 * 9 = 45\n"
     ]
    }
   ],
   "source": [
    "# 구구단\n",
    "num = int( input(\"1에서 9까지의 수를 입력하시오 : \"))\n",
    "\n",
    "while num < 1 or num > 9:\n",
    "    num = int( input(\"1에서 9까지의 수를 다시 입력하시오 : \"))\n",
    "\n",
    "for i in range(1, 10):\n",
    "    print(f\"{num} * {i} = {num * i}\")"
   ]
  },
  {
   "cell_type": "code",
   "execution_count": 15,
   "metadata": {},
   "outputs": [
    {
     "name": "stdout",
     "output_type": "stream",
     "text": [
      "       *\n",
      "      **\n",
      "     ***\n",
      "    ****\n",
      "   *****\n",
      "  ******\n",
      " *******\n",
      "********\n"
     ]
    }
   ],
   "source": [
    "num = int( input(\"숫자를 입력하세요 : \"))\n",
    "\n",
    "for i in range(1, num+1):\n",
    "    print(\" \" * (num - i), end=\"\")\n",
    "    print(\"*\" * i)"
   ]
  },
  {
   "cell_type": "code",
   "execution_count": 19,
   "metadata": {},
   "outputs": [
    {
     "name": "stdout",
     "output_type": "stream",
     "text": [
      "71은 소수입니다.\n"
     ]
    }
   ],
   "source": [
    "# 소수인지 아닌지\n",
    "num = int( input(\"숫자를 입력하세요 : \"))\n",
    "\n",
    "is_prime = True\n",
    "\n",
    "if num % 2 == 0:\n",
    "    is_prime = False\n",
    "else:\n",
    "    for i in range(3, num, 2):\n",
    "        if num % i == 0:\n",
    "            is_prime = False\n",
    "            break\n",
    "if is_prime:\n",
    "    print(f\"{num}은 소수입니다.\")\n",
    "else:\n",
    "    print(f\"{num}은 소수가 아닙니다.\")"
   ]
  },
  {
   "cell_type": "code",
   "execution_count": null,
   "metadata": {},
   "outputs": [],
   "source": []
  }
 ],
 "metadata": {
  "interpreter": {
   "hash": "573638ae49551fcfe7f6e4028d99ee66259e02ec18060ba3ce06fdbb0c98767d"
  },
  "kernelspec": {
   "display_name": "Python 3.8.12 ('dicom')",
   "language": "python",
   "name": "python3"
  },
  "language_info": {
   "codemirror_mode": {
    "name": "ipython",
    "version": 3
   },
   "file_extension": ".py",
   "mimetype": "text/x-python",
   "name": "python",
   "nbconvert_exporter": "python",
   "pygments_lexer": "ipython3",
   "version": "3.8.12"
  },
  "orig_nbformat": 4
 },
 "nbformat": 4,
 "nbformat_minor": 2
}
