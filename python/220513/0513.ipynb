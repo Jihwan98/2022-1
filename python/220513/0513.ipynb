{
 "cells": [
  {
   "cell_type": "code",
   "execution_count": 1,
   "metadata": {},
   "outputs": [
    {
     "name": "stdout",
     "output_type": "stream",
     "text": [
      "220513\n"
     ]
    }
   ],
   "source": [
    "import datetime\n",
    "\n",
    "def get_birthday():\n",
    "    date = datetime.datetime.now()\n",
    "    y = date.year\n",
    "    m = date.month\n",
    "    if m < 10:\n",
    "        m = '0' + str(m)\n",
    "    d = date.day\n",
    "    if d < 10:\n",
    "        d = '0' + str(d)\n",
    "\n",
    "    return str(y)[-2:] + str(m) + str(d)\n",
    "print(get_birthday())"
   ]
  },
  {
   "cell_type": "code",
   "execution_count": 7,
   "metadata": {},
   "outputs": [
    {
     "name": "stdout",
     "output_type": "stream",
     "text": [
      "220513\n"
     ]
    }
   ],
   "source": [
    "date = datetime.datetime.now()\n",
    "y, m, d = date.year, date.month, date.day\n",
    "y = str(y)[-2:]\n",
    "print(f\"{y}{m:02d}{d:02d}\")"
   ]
  },
  {
   "cell_type": "code",
   "execution_count": 11,
   "metadata": {},
   "outputs": [
    {
     "name": "stdout",
     "output_type": "stream",
     "text": [
      "넓이 : 314.1593, 둘레 : 62.8319\n",
      "넓이 : 1256.6371, 둘레 : 125.6637\n",
      "프로그램을 종료합니다.\n"
     ]
    }
   ],
   "source": [
    "import math\n",
    "\n",
    "def area_and_circumference(r):\n",
    "    area = math.pi * r * r\n",
    "    circum = 2 * math.pi * r\n",
    "    return area, circum\n",
    "\n",
    "while True:\n",
    "    radius = float(input(\"반지름을 입력하세요 :\"))\n",
    "    if radius < 0:\n",
    "        print(\"프로그램을 종료합니다.\")\n",
    "        break\n",
    "    area, circum = area_and_circumference(radius)\n",
    "    print(f\"넓이 : {area:.4f}, 둘레 : {circum:.4f}\")"
   ]
  },
  {
   "cell_type": "code",
   "execution_count": 14,
   "metadata": {},
   "outputs": [
    {
     "name": "stdout",
     "output_type": "stream",
     "text": [
      "Park(Java city), Kim(C city), Kang(Python city), Lee(Python city), Hong(Ruby city), Cho(Python city), Koo(C city), Ryu(C++ city)\n",
      "Bython 문자열을 모두 3번 수정했습니다.\n"
     ]
    }
   ],
   "source": [
    "string = \"Park(Java city), Kim(C city), Kang(Bython city), \\\n",
    "Lee(Bython city), Hong(Ruby city), Cho(Bython city), Koo(C city), \\\n",
    "Ryu(C++ city)\"\n",
    "src = 'Bython'\n",
    "target = 'Python'\n",
    "count = string.count(src)\n",
    "new_string = string.replace(src, target)\n",
    "print(new_string)\n",
    "print(f\"Bython 문자열을 모두 {count}번 수정했습니다.\")"
   ]
  },
  {
   "cell_type": "code",
   "execution_count": null,
   "metadata": {},
   "outputs": [],
   "source": []
  }
 ],
 "metadata": {
  "kernelspec": {
   "display_name": "dicom",
   "language": "python",
   "name": "dicom"
  },
  "language_info": {
   "codemirror_mode": {
    "name": "ipython",
    "version": 3
   },
   "file_extension": ".py",
   "mimetype": "text/x-python",
   "name": "python",
   "nbconvert_exporter": "python",
   "pygments_lexer": "ipython3",
   "version": "3.8.12"
  },
  "orig_nbformat": 4
 },
 "nbformat": 4,
 "nbformat_minor": 2
}
