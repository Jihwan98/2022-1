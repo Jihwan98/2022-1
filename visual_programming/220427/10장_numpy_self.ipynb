{
 "cells": [
  {
   "cell_type": "code",
   "execution_count": 1,
   "metadata": {},
   "outputs": [
    {
     "name": "stdout",
     "output_type": "stream",
     "text": [
      "시험성적의 합계 : [ 70  90 110]\n",
      "시험성적의 평균 : [35. 45. 55.]\n"
     ]
    }
   ],
   "source": [
    "import numpy as np\n",
    "mid_scores  = np.array([10, 20, 30])\n",
    "final_scores = np.array([60, 70, 80])\n",
    "total = mid_scores + final_scores\n",
    "print('시험성적의 합계 :', total)    # 각 요소별 합계가 나타난다\n",
    "print('시험성적의 평균 :', total/2)  # 모든 요소를 2로 나눈다"
   ]
  },
  {
   "cell_type": "code",
   "execution_count": 4,
   "metadata": {},
   "outputs": [
    {
     "name": "stdout",
     "output_type": "stream",
     "text": [
      "[ 1  2  3  4  5  6  7  8  9 10]\n",
      "[ 10  20  30  40  50  60  70  80  90 100]\n",
      "[ 11  22  33  44  55  66  77  88  99 110]\n"
     ]
    }
   ],
   "source": [
    "a = np.array(range(1, 11))\n",
    "b = np.array(range(10, 110, 10))\n",
    "print(a)\n",
    "print(b)\n",
    "print(a + b)"
   ]
  },
  {
   "cell_type": "code",
   "execution_count": 5,
   "metadata": {},
   "outputs": [
    {
     "name": "stdout",
     "output_type": "stream",
     "text": [
      "실습 1 : array_a = [0 1 2 3 4 5 6 7 8 9]\n",
      "실습 2 : array_b = [0 1 2 3 4 5 6 7 8 9]\n",
      "실습 3 : array_c = [0 2 4 6 8]\n",
      "실습 4: \n",
      "array_c의 shape : (5,)\n",
      "array_c의 ndim : 1\n",
      "array_c의 dtype : int32\n",
      "array_c의 size : 5\n",
      "array_c의 itemsize : 4\n"
     ]
    }
   ],
   "source": [
    "#\n",
    "# 따라하며 배우는 파이썬과 데이터과학(생능출판사 2020)\n",
    "# LAB 10-1 ndarray 객체를 생성하고 속성을 알아보자, 254쪽\n",
    "#\n",
    "import numpy as np\n",
    "\n",
    "# 실습 1\n",
    "array_a = np.array([0, 1, 2, 3, 4, 5, 6, 7, 8, 9])\n",
    "print('실습 1 : array_a =', array_a)\n",
    "\n",
    "# 실습 2\n",
    "array_b = np.array(range(10))\n",
    "print('실습 2 : array_b =', array_b)\n",
    "\n",
    "# 실습 3\n",
    "array_c = np.array(range(0,10,2))\n",
    "print('실습 3 : array_c =', array_c)\n",
    "\n",
    "# 실습 4\n",
    "print('실습 4: ')\n",
    "print('array_c의 shape :', array_c.shape)\n",
    "print('array_c의 ndim :', array_c.ndim)\n",
    "print('array_c의 dtype :', array_c.dtype)\n",
    "print('array_c의 size :', array_c.size)\n",
    "print('array_c의 itemsize :',array_c.itemsize)"
   ]
  },
  {
   "cell_type": "code",
   "execution_count": 12,
   "metadata": {},
   "outputs": [
    {
     "name": "stdout",
     "output_type": "stream",
     "text": [
      "heights   weights   BMI\n",
      "  1.83      86    25.68007\n",
      "  1.76      74    23.88946\n",
      "  1.69      59    20.65754\n",
      "  1.86      95    27.45982\n",
      "  1.77      80    25.53545\n",
      "  1.73      68    22.72044\n"
     ]
    }
   ],
   "source": [
    "#\n",
    "# 따라하며 배우는 파이썬과 데이터과학(생능출판사 2020)\n",
    "# LAB 10-2 여러 사람의 BMI를 빠르고 간편하게 계산하기, 256쪽\n",
    "#\n",
    "import numpy as np \n",
    " \n",
    "heights = [ 1.83, 1.76, 1.69, 1.86, 1.77, 1.73 ] \n",
    "weights = [ 86, 74, 59, 95, 80, 68 ] \n",
    " \n",
    "np_heights = np.array(heights) \n",
    "np_weights = np.array(weights) \n",
    " \n",
    "bmi = np_weights/(np_heights**2) \n",
    "# print('대상자들의 키:', np_heights)\n",
    "# print('대상자들의 몸무게:', np_weights)\n",
    "# print('대상자들의 BMI')\n",
    "# print(bmi)\n",
    "\n",
    "print(\"heights   weights   BMI\")\n",
    "for i in range(6):\n",
    "    print(f'  {heights[i]}      {weights[i]}    {bmi[i]:7.5f}')\n",
    "\n",
    "# + 비만 분류 추가하기"
   ]
  },
  {
   "cell_type": "code",
   "execution_count": 17,
   "metadata": {},
   "outputs": [
    {
     "name": "stdout",
     "output_type": "stream",
     "text": [
      "heights   weights     BMI     BIM > 25\n",
      "  1.83      86      25.68007    True\n",
      "  1.76      74      23.88946    False\n",
      "  1.69      59      20.65754    False\n",
      "  1.86      95      27.45982    True\n",
      "  1.77      80      25.53545    True\n",
      "  1.73      68      22.72044    False\n"
     ]
    }
   ],
   "source": [
    "import numpy as np \n",
    " \n",
    "heights = [ 1.83, 1.76, 1.69, 1.86, 1.77, 1.73 ] \n",
    "weights = [ 86, 74, 59, 95, 80, 68 ] \n",
    " \n",
    "np_heights = np.array(heights) \n",
    "np_weights = np.array(weights) \n",
    " \n",
    "bmi = np_weights/(np_heights**2) \n",
    "\n",
    "print(\"heights   weights     BMI     BIM > 25\")\n",
    "for i in range(6):\n",
    "    print(f'  {heights[i]}      {weights[i]}      {bmi[i]:7.5f}    {bmi[i] > 25}')\n",
    "\n",
    "# + 비만 분류 추가하기"
   ]
  },
  {
   "cell_type": "code",
   "execution_count": 21,
   "metadata": {},
   "outputs": [
    {
     "name": "stdout",
     "output_type": "stream",
     "text": [
      "heights   weights     BMI     BIM > 25    비만분류\n",
      "  1.83      86      25.68007    True       과체중\n",
      "  1.76      74      23.88946    False       정상\n",
      "  1.69      59      20.65754    False       정상\n",
      "  1.86      95      27.45982    True       과체중\n",
      "  1.77      80      25.53545    True       과체중\n",
      "  1.73      68      22.72044    False       정상\n"
     ]
    }
   ],
   "source": [
    "import numpy as np \n",
    " \n",
    "heights = [ 1.83, 1.76, 1.69, 1.86, 1.77, 1.73 ] \n",
    "weights = [ 86, 74, 59, 95, 80, 68 ] \n",
    " \n",
    "np_heights = np.array(heights) \n",
    "np_weights = np.array(weights) \n",
    " \n",
    "bmi = np_weights/(np_heights**2) \n",
    "\n",
    "bmi_class = []\n",
    "for i in bmi:\n",
    "    if i < 18.5:\n",
    "        bmi_class.append(\"저체중\")\n",
    "    elif i < 25:\n",
    "        bmi_class.append(\"정상\")\n",
    "    elif i < 30:\n",
    "        bmi_class.append(\"과체중\")\n",
    "    elif i < 40:\n",
    "        bmi_class.append(\"비만\")\n",
    "    else:\n",
    "        bmi_class.append(\"고도비만\")\n",
    "print(\"heights   weights     BMI     BIM > 25    비만분류\")\n",
    "for i in range(6):\n",
    "    print(f'  {heights[i]}      {weights[i]}      {bmi[i]:7.5f}    {bmi[i] > 25}       {bmi_class[i]}')\n",
    "\n",
    "# + 비만 분류 추가하기"
   ]
  },
  {
   "cell_type": "code",
   "execution_count": 33,
   "metadata": {},
   "outputs": [
    {
     "data": {
      "text/plain": [
       "array([6, 7])"
      ]
     },
     "execution_count": 33,
     "metadata": {},
     "output_type": "execute_result"
    }
   ],
   "source": [
    "a = np.arange(1, 17).reshape((4,4))\n",
    "a[1, 1:3]"
   ]
  },
  {
   "cell_type": "code",
   "execution_count": 28,
   "metadata": {},
   "outputs": [
    {
     "name": "stdout",
     "output_type": "stream",
     "text": [
      "['c' 'c' 'c']\n"
     ]
    }
   ],
   "source": [
    "import numpy as np\n",
    "x = np.array( [['a', 'b', 'c', 'd'],\n",
    "               ['c', 'c', 'g', 'h']])\n",
    "\n",
    "print(x [ x == 'c' ])"
   ]
  },
  {
   "cell_type": "code",
   "execution_count": 29,
   "metadata": {},
   "outputs": [
    {
     "name": "stdout",
     "output_type": "stream",
     "text": [
      "[[ 8 18 28]\n",
      " [ 9 18 27]]\n"
     ]
    }
   ],
   "source": [
    "mat_a = np.array( [[10, 20, 30], [10, 20, 30]])\n",
    "mat_b = np.array( [[2, 2, 2], [1, 2, 3]])\n",
    "\n",
    "print(mat_a - mat_b)"
   ]
  },
  {
   "cell_type": "code",
   "execution_count": 30,
   "metadata": {},
   "outputs": [
    {
     "name": "stdout",
     "output_type": "stream",
     "text": [
      "x shape : (2, 6)\n",
      "y shape : (2, 2)\n",
      "z shape : (1, 6)\n",
      "z values = : [[86. 74. 59. 95. 80. 68.]]\n",
      "BMI data\n",
      "[0.00024743 0.0003214  0.00048549 0.00020609 0.00027656 0.00037413]\n"
     ]
    }
   ],
   "source": [
    "import numpy as np \n",
    " \n",
    "x = np.array([[ 1.83, 1.76, 1.69, 1.86, 1.77, 1.73 ], \n",
    "              [ 86.0, 74.0, 59.0, 95.0, 80.0, 68.0 ]]) \n",
    "y = x[0:2, 1:3] \n",
    "z = x[0:2][1:3]\n",
    "\n",
    "print('x shape :', x.shape)\n",
    "print('y shape :', y.shape)\n",
    "print('z shape :', z.shape)\n",
    "print('z values = :', z)\n",
    "\n",
    "bmi = x[0] / x[1]**2\n",
    "print('BMI data')\n",
    "print(bmi)"
   ]
  },
  {
   "cell_type": "code",
   "execution_count": 31,
   "metadata": {},
   "outputs": [
    {
     "name": "stdout",
     "output_type": "stream",
     "text": [
      "몸무게가 80 이상인 선수 정보\n",
      "[[183.   86.2]\n",
      " [176.   80.1]]\n",
      "키가 180 이상인 선수 정보\n",
      "[[183.   86.2]\n",
      " [181.   78.5]]\n"
     ]
    }
   ],
   "source": [
    "#\n",
    "# 따라하며 배우는 파이썬과 데이터과학(생능출판사 2020)\n",
    "# LAB 10-5 2차원 배열에서 특정 조건을 만족하는 행만 추출하기, 265쪽\n",
    "#\n",
    "import numpy as np \n",
    "\n",
    "players = [[170, 76.4], \n",
    "           [183, 86.2], \n",
    "           [181, 78.5], \n",
    "           [176, 80.1]] \n",
    "\n",
    "np_players = np.array(players) \n",
    "\n",
    "print('몸무게가 80 이상인 선수 정보')\n",
    "print(np_players[ np_players[:, 1] >= 80.0 ])\n",
    "\n",
    "print('키가 180 이상인 선수 정보')\n",
    "print(np_players[ np_players[:, 0] >= 180.0 ])"
   ]
  },
  {
   "cell_type": "code",
   "execution_count": 34,
   "metadata": {},
   "outputs": [
    {
     "data": {
      "text/plain": [
       "array([ 0.        ,  0.1010101 ,  0.2020202 ,  0.3030303 ,  0.4040404 ,\n",
       "        0.50505051,  0.60606061,  0.70707071,  0.80808081,  0.90909091,\n",
       "        1.01010101,  1.11111111,  1.21212121,  1.31313131,  1.41414141,\n",
       "        1.51515152,  1.61616162,  1.71717172,  1.81818182,  1.91919192,\n",
       "        2.02020202,  2.12121212,  2.22222222,  2.32323232,  2.42424242,\n",
       "        2.52525253,  2.62626263,  2.72727273,  2.82828283,  2.92929293,\n",
       "        3.03030303,  3.13131313,  3.23232323,  3.33333333,  3.43434343,\n",
       "        3.53535354,  3.63636364,  3.73737374,  3.83838384,  3.93939394,\n",
       "        4.04040404,  4.14141414,  4.24242424,  4.34343434,  4.44444444,\n",
       "        4.54545455,  4.64646465,  4.74747475,  4.84848485,  4.94949495,\n",
       "        5.05050505,  5.15151515,  5.25252525,  5.35353535,  5.45454545,\n",
       "        5.55555556,  5.65656566,  5.75757576,  5.85858586,  5.95959596,\n",
       "        6.06060606,  6.16161616,  6.26262626,  6.36363636,  6.46464646,\n",
       "        6.56565657,  6.66666667,  6.76767677,  6.86868687,  6.96969697,\n",
       "        7.07070707,  7.17171717,  7.27272727,  7.37373737,  7.47474747,\n",
       "        7.57575758,  7.67676768,  7.77777778,  7.87878788,  7.97979798,\n",
       "        8.08080808,  8.18181818,  8.28282828,  8.38383838,  8.48484848,\n",
       "        8.58585859,  8.68686869,  8.78787879,  8.88888889,  8.98989899,\n",
       "        9.09090909,  9.19191919,  9.29292929,  9.39393939,  9.49494949,\n",
       "        9.5959596 ,  9.6969697 ,  9.7979798 ,  9.8989899 , 10.        ])"
      ]
     },
     "execution_count": 34,
     "metadata": {},
     "output_type": "execute_result"
    }
   ],
   "source": [
    "np.linspace(0, 10, 100)"
   ]
  },
  {
   "cell_type": "code",
   "execution_count": 35,
   "metadata": {},
   "outputs": [
    {
     "data": {
      "text/plain": [
       "array([1.00000000e+00, 3.59381366e+00, 1.29154967e+01, 4.64158883e+01,\n",
       "       1.66810054e+02, 5.99484250e+02, 2.15443469e+03, 7.74263683e+03,\n",
       "       2.78255940e+04, 1.00000000e+05])"
      ]
     },
     "execution_count": 35,
     "metadata": {},
     "output_type": "execute_result"
    }
   ],
   "source": [
    "np.logspace(0, 5, 10) "
   ]
  },
  {
   "cell_type": "code",
   "execution_count": 36,
   "metadata": {},
   "outputs": [
    {
     "data": {
      "text/plain": [
       "array([0. , 0.1, 0.2, 0.3, 0.4, 0.5, 0.6, 0.7, 0.8, 0.9, 1. , 1.1, 1.2,\n",
       "       1.3, 1.4, 1.5, 1.6, 1.7, 1.8, 1.9, 2. , 2.1, 2.2, 2.3, 2.4, 2.5,\n",
       "       2.6, 2.7, 2.8, 2.9, 3. , 3.1, 3.2, 3.3, 3.4, 3.5, 3.6, 3.7, 3.8,\n",
       "       3.9, 4. , 4.1, 4.2, 4.3, 4.4, 4.5, 4.6, 4.7, 4.8, 4.9, 5. , 5.1,\n",
       "       5.2, 5.3, 5.4, 5.5, 5.6, 5.7, 5.8, 5.9, 6. , 6.1, 6.2, 6.3, 6.4,\n",
       "       6.5, 6.6, 6.7, 6.8, 6.9, 7. , 7.1, 7.2, 7.3, 7.4, 7.5, 7.6, 7.7,\n",
       "       7.8, 7.9, 8. , 8.1, 8.2, 8.3, 8.4, 8.5, 8.6, 8.7, 8.8, 8.9, 9. ,\n",
       "       9.1, 9.2, 9.3, 9.4, 9.5, 9.6, 9.7, 9.8, 9.9])"
      ]
     },
     "execution_count": 36,
     "metadata": {},
     "output_type": "execute_result"
    }
   ],
   "source": [
    "np.arange(0, 10, 0.1)"
   ]
  },
  {
   "cell_type": "code",
   "execution_count": 37,
   "metadata": {},
   "outputs": [
    {
     "data": {
      "text/plain": [
       "array([ 0. ,  0.1,  0.2,  0.3,  0.4,  0.5,  0.6,  0.7,  0.8,  0.9,  1. ,\n",
       "        1.1,  1.2,  1.3,  1.4,  1.5,  1.6,  1.7,  1.8,  1.9,  2. ,  2.1,\n",
       "        2.2,  2.3,  2.4,  2.5,  2.6,  2.7,  2.8,  2.9,  3. ,  3.1,  3.2,\n",
       "        3.3,  3.4,  3.5,  3.6,  3.7,  3.8,  3.9,  4. ,  4.1,  4.2,  4.3,\n",
       "        4.4,  4.5,  4.6,  4.7,  4.8,  4.9,  5. ,  5.1,  5.2,  5.3,  5.4,\n",
       "        5.5,  5.6,  5.7,  5.8,  5.9,  6. ,  6.1,  6.2,  6.3,  6.4,  6.5,\n",
       "        6.6,  6.7,  6.8,  6.9,  7. ,  7.1,  7.2,  7.3,  7.4,  7.5,  7.6,\n",
       "        7.7,  7.8,  7.9,  8. ,  8.1,  8.2,  8.3,  8.4,  8.5,  8.6,  8.7,\n",
       "        8.8,  8.9,  9. ,  9.1,  9.2,  9.3,  9.4,  9.5,  9.6,  9.7,  9.8,\n",
       "        9.9, 10. ])"
      ]
     },
     "execution_count": 37,
     "metadata": {},
     "output_type": "execute_result"
    }
   ],
   "source": [
    "np.arange(0, 10.1, 0.1)"
   ]
  },
  {
   "cell_type": "code",
   "execution_count": 38,
   "metadata": {},
   "outputs": [
    {
     "data": {
      "text/plain": [
       "array([0.37454012, 0.95071431, 0.73199394, 0.59865848, 0.15601864])"
      ]
     },
     "execution_count": 38,
     "metadata": {},
     "output_type": "execute_result"
    }
   ],
   "source": [
    "np.random.seed(42)\n",
    "np.random.rand(5)"
   ]
  },
  {
   "cell_type": "code",
   "execution_count": 39,
   "metadata": {},
   "outputs": [
    {
     "data": {
      "text/plain": [
       "array([[0.15599452, 0.05808361, 0.86617615],\n",
       "       [0.60111501, 0.70807258, 0.02058449],\n",
       "       [0.96990985, 0.83244264, 0.21233911],\n",
       "       [0.18182497, 0.18340451, 0.30424224],\n",
       "       [0.52475643, 0.43194502, 0.29122914]])"
      ]
     },
     "execution_count": 39,
     "metadata": {},
     "output_type": "execute_result"
    }
   ],
   "source": [
    "np.random.rand(5, 3)"
   ]
  },
  {
   "cell_type": "code",
   "execution_count": 40,
   "metadata": {},
   "outputs": [
    {
     "data": {
      "text/plain": [
       "array([16.11852895, 11.39493861, 12.92144649, 13.66361843, 14.56069984])"
      ]
     },
     "execution_count": 40,
     "metadata": {},
     "output_type": "execute_result"
    }
   ],
   "source": [
    "a = 10\n",
    "b = 20\n",
    "(b - a) * np.random.rand(5) + a"
   ]
  },
  {
   "cell_type": "code",
   "execution_count": 41,
   "metadata": {},
   "outputs": [
    {
     "data": {
      "text/plain": [
       "array([6, 3, 4, 4, 1, 3, 5, 3, 5, 1])"
      ]
     },
     "execution_count": 41,
     "metadata": {},
     "output_type": "execute_result"
    }
   ],
   "source": [
    "np.random.randint(1, 7, size=10)"
   ]
  },
  {
   "cell_type": "code",
   "execution_count": 42,
   "metadata": {},
   "outputs": [
    {
     "data": {
      "text/plain": [
       "array([[2, 4, 1, 4],\n",
       "       [6, 2, 2, 1],\n",
       "       [2, 5, 2, 4]])"
      ]
     },
     "execution_count": 42,
     "metadata": {},
     "output_type": "execute_result"
    }
   ],
   "source": [
    "np.random.randint(1, 7, size=(3, 4))"
   ]
  },
  {
   "cell_type": "code",
   "execution_count": 43,
   "metadata": {},
   "outputs": [
    {
     "data": {
      "text/plain": [
       "array([ 0.77919263, -1.10109776,  1.13022819,  0.37311891, -0.38647295])"
      ]
     },
     "execution_count": 43,
     "metadata": {},
     "output_type": "execute_result"
    }
   ],
   "source": [
    "# 정규 분포 난수 생성\n",
    "np.random.randn(5)"
   ]
  },
  {
   "cell_type": "code",
   "execution_count": 44,
   "metadata": {},
   "outputs": [
    {
     "data": {
      "text/plain": [
       "array([[-1.15877024,  0.56611283],\n",
       "       [-0.70445345, -1.3779393 ],\n",
       "       [-0.35311665, -0.46146572],\n",
       "       [ 0.06665728, -0.17628566],\n",
       "       [ 1.20089277,  0.69839894]])"
      ]
     },
     "execution_count": 44,
     "metadata": {},
     "output_type": "execute_result"
    }
   ],
   "source": [
    "np.random.randn(5,2)"
   ]
  },
  {
   "cell_type": "code",
   "execution_count": 45,
   "metadata": {},
   "outputs": [
    {
     "data": {
      "text/plain": [
       "array([173.28371165, 165.9281342 , 186.88625726, ..., 193.07760221,\n",
       "       180.53364452, 171.67332637])"
      ]
     },
     "execution_count": 45,
     "metadata": {},
     "output_type": "execute_result"
    }
   ],
   "source": [
    "m = 175 \n",
    "sigma = 10 \n",
    "heights = m+sigma*np.random.randn(10000)\n",
    "heights"
   ]
  },
  {
   "cell_type": "code",
   "execution_count": 46,
   "metadata": {},
   "outputs": [
    {
     "data": {
      "text/plain": [
       "175.0828664559283"
      ]
     },
     "execution_count": 46,
     "metadata": {},
     "output_type": "execute_result"
    }
   ],
   "source": [
    "np.mean(heights)"
   ]
  },
  {
   "cell_type": "code",
   "execution_count": 47,
   "metadata": {},
   "outputs": [
    {
     "data": {
      "text/plain": [
       "175.140081788011"
      ]
     },
     "execution_count": 47,
     "metadata": {},
     "output_type": "execute_result"
    }
   ],
   "source": [
    "np.median(heights)"
   ]
  },
  {
   "cell_type": "code",
   "execution_count": 48,
   "metadata": {},
   "outputs": [
    {
     "name": "stdout",
     "output_type": "stream",
     "text": [
      "신장 평균값: 175.15183949404894\n",
      "신장 중앙값: 174.98504646002732\n",
      "체중 평균값: 69.91223189038428\n",
      "체중 중앙값: 70.75944837208777\n",
      "나이 평균값: 21.64\n",
      "나이 중앙값: 22.0\n"
     ]
    }
   ],
   "source": [
    "#\n",
    "# 따라하며 배우는 파이썬과 데이터과학(생능출판사 2020)\n",
    "# LAB 10-6 평균과 중앙값 계산하기, 273쪽\n",
    "#\n",
    "import numpy as np \n",
    " \n",
    "players = np.zeros( (100, 3) ) \n",
    "players[:, 0] = 10 * np.random.randn(100) + 175 \n",
    "players[:, 1] = 10 * np.random.randn(100) + 70\n",
    "players[:, 2] = np.floor(10 * np.random.randn(100)) + 22\n",
    "\n",
    "heights = players[:, 0] \n",
    "print('신장 평균값:', np.mean(heights))\n",
    "print('신장 중앙값:', np.median(heights))\n",
    "\n",
    "weights = players[:, 1] \n",
    "print('체중 평균값:', np.mean(weights))\n",
    "print('체중 중앙값:', np.median(weights))\n",
    "\n",
    "ages = players[:, 2] \n",
    "print('나이 평균값:', np.mean(ages))\n",
    "print('나이 중앙값:', np.median(ages))"
   ]
  },
  {
   "cell_type": "code",
   "execution_count": 59,
   "metadata": {},
   "outputs": [
    {
     "data": {
      "text/plain": [
       "array([[ 1.        ,  0.96764439,  0.03763255],\n",
       "       [ 0.96764439,  1.        , -0.21532645],\n",
       "       [ 0.03763255, -0.21532645,  1.        ]])"
      ]
     },
     "execution_count": 59,
     "metadata": {},
     "output_type": "execute_result"
    }
   ],
   "source": [
    "x = [i for i in range(100)]\n",
    "y = [i**2 for i in range(100)]\n",
    "z = [100*np.sin(3.14*i/100) for i in range(100)]\n",
    "np.corrcoef([x,y,z])"
   ]
  },
  {
   "cell_type": "code",
   "execution_count": 61,
   "metadata": {},
   "outputs": [
    {
     "name": "stdout",
     "output_type": "stream",
     "text": [
      "[[1.         0.96764439]\n",
      " [0.96764439 1.        ]]\n"
     ]
    },
    {
     "data": {
      "text/plain": [
       "[<matplotlib.lines.Line2D at 0x1ee881ab460>]"
      ]
     },
     "execution_count": 61,
     "metadata": {},
     "output_type": "execute_result"
    },
    {
     "data": {
      "image/png": "[encoded data removed]",
      "text/plain": [
       "<Figure size 432x288 with 1 Axes>"
      ]
     },
     "metadata": {
      "needs_background": "light"
     },
     "output_type": "display_data"
    }
   ],
   "source": [
    "import matplotlib.pyplot as plt\n",
    "result = np.corrcoef([x,y])\n",
    "print(result)\n",
    "plt.plot(x,y)"
   ]
  },
  {
   "cell_type": "code",
   "execution_count": 64,
   "metadata": {},
   "outputs": [
    {
     "data": {
      "image/png": "[encoded data removed]",
      "text/plain": [
       "<Figure size 432x288 with 1 Axes>"
      ]
     },
     "metadata": {
      "needs_background": "light"
     },
     "output_type": "display_data"
    }
   ],
   "source": [
    "plt.plot(x, z)\n",
    "plt.show()"
   ]
  },
  {
   "cell_type": "code",
   "execution_count": 67,
   "metadata": {},
   "outputs": [
    {
     "name": "stdout",
     "output_type": "stream",
     "text": [
      "[ 1  2  3  4  5  6  7  8  9 10 11 12 13 14 15 16 17 18 19 20]\n",
      "[20 19 18 17 16 15 14 13 12 11 10  9  8  7  6  5  4  3  2  1]\n",
      "210\n",
      "[[ 1  2  3  4]\n",
      " [ 5  6  7  8]\n",
      " [ 9 10 11 12]\n",
      " [13 14 15 16]\n",
      " [17 18 19 20]]\n"
     ]
    }
   ],
   "source": [
    "a = np.arange(1,21)\n",
    "print(a)\n",
    "print(a[::-1])\n",
    "print(a.sum())\n",
    "a = a.reshape(5,4)\n",
    "print(a)"
   ]
  },
  {
   "cell_type": "code",
   "execution_count": 68,
   "metadata": {},
   "outputs": [
    {
     "name": "stdout",
     "output_type": "stream",
     "text": [
      "[[ 0  1  2  3  4]\n",
      " [ 5  6  7  8  9]\n",
      " [10 11 12 13 14]\n",
      " [15 16 17 18 19]\n",
      " [20 21 22 23 24]]\n",
      "[[0 1 2 3 4]\n",
      " [5 6 7 8 9]]\n",
      "[[10 11 12 13 14]\n",
      " [15 16 17 18 19]\n",
      " [20 21 22 23 24]]\n"
     ]
    }
   ],
   "source": [
    "a = np.arange(25).reshape(5,5)\n",
    "print(a)\n",
    "print(a[:2])\n",
    "print(a[2:])"
   ]
  },
  {
   "cell_type": "code",
   "execution_count": null,
   "metadata": {},
   "outputs": [],
   "source": []
  }
 ],
 "metadata": {
  "kernelspec": {
   "display_name": "jh",
   "language": "python",
   "name": "jh"
  },
  "language_info": {
   "codemirror_mode": {
    "name": "ipython",
    "version": 3
   },
   "file_extension": ".py",
   "mimetype": "text/x-python",
   "name": "python",
   "nbconvert_exporter": "python",
   "pygments_lexer": "ipython3",
   "version": "3.8.13"
  },
  "orig_nbformat": 4
 },
 "nbformat": 4,
 "nbformat_minor": 2
}
