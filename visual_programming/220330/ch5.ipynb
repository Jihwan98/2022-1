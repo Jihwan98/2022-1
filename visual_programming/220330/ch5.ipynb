{
 "cells": [
  {
   "cell_type": "code",
   "execution_count": 5,
   "metadata": {},
   "outputs": [
    {
     "name": "stdout",
     "output_type": "stream",
     "text": [
      "i= 0, Hello World\n",
      "i= 1, Hello World\n",
      "i= 2, Hello World\n",
      "i= 3, Hello World\n",
      "i= 4, Hello World\n",
      "i= 5, Hello World\n",
      "i= 6, Hello World\n",
      "i= 7, Hello World\n",
      "i= 8, Hello World\n",
      "i= 9, Hello World\n"
     ]
    }
   ],
   "source": [
    "for i in range(10):\n",
    "    print(\"i=%2d, Hello World\" %i)"
   ]
  },
  {
   "cell_type": "code",
   "execution_count": 3,
   "metadata": {},
   "outputs": [
    {
     "name": "stdout",
     "output_type": "stream",
     "text": [
      "i= 0, Hello World\n",
      "i= 1, Hello World\n",
      "i= 2, Hello World\n",
      "i= 3, Hello World\n",
      "i= 4, Hello World\n",
      "i= 5, Hello World\n",
      "i= 6, Hello World\n",
      "i= 7, Hello World\n",
      "i= 8, Hello World\n",
      "i= 9, Hello World\n"
     ]
    }
   ],
   "source": [
    "for i in range(10):\n",
    "    print(\"i={:2d}, Hello World\".format(i))"
   ]
  },
  {
   "cell_type": "code",
   "execution_count": 8,
   "metadata": {},
   "outputs": [
    {
     "name": "stdout",
     "output_type": "stream",
     "text": [
      "i= 0, Hello World\n",
      "i= 1, Hello World\n",
      "i= 2, Hello World\n",
      "i= 3, Hello World\n",
      "i= 4, Hello World\n",
      "i= 5, Hello World\n",
      "i= 6, Hello World\n",
      "i= 7, Hello World\n",
      "i= 8, Hello World\n",
      "i= 9, Hello World\n"
     ]
    }
   ],
   "source": [
    "for i in range(10):\n",
    "    print(f\"i={i:2d}, Hello World\")"
   ]
  },
  {
   "cell_type": "code",
   "execution_count": 1,
   "metadata": {},
   "outputs": [
    {
     "name": "stdout",
     "output_type": "stream",
     "text": [
      "9 * 1 =  9\n",
      "9 * 2 = 18\n",
      "9 * 3 = 27\n",
      "9 * 4 = 36\n",
      "9 * 5 = 45\n",
      "9 * 6 = 54\n",
      "9 * 7 = 63\n",
      "9 * 8 = 72\n",
      "9 * 9 = 81\n"
     ]
    }
   ],
   "source": [
    "dan = int(input(\"원하는 단은:  \"))\n",
    "i = 1\n",
    "while i <= 9:\n",
    "    print(\"%d * %d = %2d\" % (dan, i, dan*i))\n",
    "    i = i + 1\n"
   ]
  },
  {
   "cell_type": "code",
   "execution_count": 3,
   "metadata": {},
   "outputs": [
    {
     "name": "stdout",
     "output_type": "stream",
     "text": [
      " lv Pythn Prgrmmng"
     ]
    }
   ],
   "source": [
    "st = 'I love Python Programming'  # 출력을 위한 문자열\n",
    "for ch in st: \n",
    "    if ch in ['a','e','i','o','u', 'A','E','I','O','U']: \n",
    "        continue      # 모음일 경우 아래 출력을 건너뛴다 \n",
    "    print(ch, end='')\n"
   ]
  },
  {
   "cell_type": "code",
   "execution_count": 4,
   "metadata": {},
   "outputs": [
    {
     "name": "stdout",
     "output_type": "stream",
     "text": [
      "  1     1         1\n",
      "  3     9        27\n",
      "  5    25       125\n",
      "  7    49       343\n",
      "  9    81       729\n",
      " 11   121      1331\n",
      " 13   169      2197\n",
      " 15   225      3375\n",
      " 17   289      4913\n",
      " 19   361      6859\n",
      " 21   441      9261\n",
      " 23   529     12167\n",
      " 25   625     15625\n",
      " 27   729     19683\n",
      " 29   841     24389\n",
      " 31   961     29791\n",
      " 33  1089     35937\n",
      " 35  1225     42875\n",
      " 37  1369     50653\n",
      " 39  1521     59319\n",
      " 41  1681     68921\n",
      " 43  1849     79507\n",
      " 45  2025     91125\n",
      " 47  2209    103823\n",
      " 49  2401    117649\n"
     ]
    }
   ],
   "source": [
    "for i in range(1, 51, 2):\n",
    "    print('{0:3d} {1:5d} {2:9d}'.format(i, i*i, i*i*i))"
   ]
  },
  {
   "cell_type": "code",
   "execution_count": null,
   "metadata": {},
   "outputs": [],
   "source": []
  }
 ],
 "metadata": {
  "interpreter": {
   "hash": "573638ae49551fcfe7f6e4028d99ee66259e02ec18060ba3ce06fdbb0c98767d"
  },
  "kernelspec": {
   "display_name": "Python 3.8.12 ('dicom')",
   "language": "python",
   "name": "python3"
  },
  "language_info": {
   "codemirror_mode": {
    "name": "ipython",
    "version": 3
   },
   "file_extension": ".py",
   "mimetype": "text/x-python",
   "name": "python",
   "nbconvert_exporter": "python",
   "pygments_lexer": "ipython3",
   "version": "3.8.12"
  },
  "orig_nbformat": 4
 },
 "nbformat": 4,
 "nbformat_minor": 2
}
