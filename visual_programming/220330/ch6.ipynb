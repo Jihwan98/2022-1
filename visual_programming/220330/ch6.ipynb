{
 "cells": [
  {
   "cell_type": "code",
   "execution_count": 1,
   "metadata": {},
   "outputs": [
    {
     "name": "stdout",
     "output_type": "stream",
     "text": [
      "200 + 100 = 300\n",
      "200 - 100 = 100\n",
      "200 * 100 = 20000\n",
      "200 / 100 = 2.0\n"
     ]
    }
   ],
   "source": [
    "def calc(n1, n2):\n",
    "    return n1 + n2, n1 - n2, n1 * n2, n1 / n2  # 덧셈, 뺄셈, 곱셈, 나눗셈 결과를 반환\n",
    "n1, n2 = 200, 100\n",
    "t1, t2, t3, t4 = calc(n1, n2)  # 네 개의 값을 반환받기 위해 4개의 변수를 사용함\n",
    "print(n1, '+', n2, '=', t1)\n",
    "print(n1, '-', n2, '=', t2)\n",
    "print(n1, '*', n2, '=', t3)\n",
    "print(n1, '/', n2, '=', t4)"
   ]
  },
  {
   "cell_type": "code",
   "execution_count": 2,
   "metadata": {},
   "outputs": [
    {
     "name": "stdout",
     "output_type": "stream",
     "text": [
      "counter = 200\n",
      "counter = 200\n"
     ]
    }
   ],
   "source": [
    "def print_counter():\n",
    "    global counter      # 함수 외부의 전역변수 counter를 사용하겠다는 선언\n",
    "    counter = 200\n",
    "    print('counter =', counter)  # 함수 내부의 counter 값\n",
    "\n",
    "counter = 100\n",
    "print_counter()\n",
    "print('counter =', counter)      # 함수 외부의 counter 값"
   ]
  },
  {
   "cell_type": "code",
   "execution_count": 5,
   "metadata": {},
   "outputs": [
    {
     "name": "stdout",
     "output_type": "stream",
     "text": [
      "[27, 90, 30, 87, 56]\n"
     ]
    }
   ],
   "source": [
    "def getMinMax(mylist, method = 'max'):\n",
    "   minValue = 999999999999999999999999999999999\n",
    "   maxValue = -minValue\n",
    "   if method == 'max' :\n",
    "       for value in mylist:\n",
    "           if value > maxValue:\n",
    "               maxValue = value;\n",
    "       return maxValue\n",
    "   elif method == 'min' :\n",
    "       for value in mylist:\n",
    "           if value < minValue:\n",
    "               minValue = value;\n",
    "       return minValue\n",
    "   else :\n",
    "       print('illegal method')\n",
    "list_data = [27, 90, 30, 87, 56]\n",
    "while(True) :\n",
    "   print(list_data)\n",
    "   method_input = input('최대값을 원하면 max, 최소값을 원하면 min을 입력하시오 (종료는 1): ')\n",
    "   if method_input == \"1\":\n",
    "       break\n",
    "   print(getMinMax(list_data, method_input))\n"
   ]
  },
  {
   "cell_type": "code",
   "execution_count": 6,
   "metadata": {},
   "outputs": [
    {
     "name": "stdout",
     "output_type": "stream",
     "text": [
      "4! =  24\n"
     ]
    }
   ],
   "source": [
    "def factorial(n):              # n!의 재귀적 구현\n",
    "    if n <= 1 :                     # 종료 조건이 반드시 필요하다            \n",
    "        return 1 \n",
    "    else :\n",
    "        return n * factorial(n-1)   # n * (n-1)! 정의에 따른 구현 \n",
    "print('4! = ', factorial(4))"
   ]
  },
  {
   "cell_type": "code",
   "execution_count": 8,
   "metadata": {},
   "outputs": [
    {
     "name": "stdout",
     "output_type": "stream",
     "text": [
      "4181\n"
     ]
    }
   ],
   "source": [
    "#\n",
    "# 따라하며 배우는 파이썬과 데이터과학(생능출판사 2020)\n",
    "# LAB 6-7 피보나치 함수 계산하기, 164쪽\n",
    "#\n",
    "def fibonacci(n):\n",
    "    if n < 0:  # 입력 오류 검사\n",
    "        print(\"잘못된 입력입니다.\")\n",
    "    elif n == 1:  # 재귀호출 중단 조건\n",
    "        return 0\n",
    "    elif n == 2:  # 재귀호출 중단 조건\n",
    "        return 1\n",
    "    else:\n",
    "        return fibonacci(n - 1) + fibonacci(n - 2)  # 재귀호출\n",
    "\n",
    "i = int(input(\"몇 번째 항: \"))\n",
    "print(fibonacci(i))"
   ]
  },
  {
   "cell_type": "code",
   "execution_count": 9,
   "metadata": {},
   "outputs": [
    {
     "name": "stdout",
     "output_type": "stream",
     "text": [
      " 1차항 :     0\n",
      " 2차항 :     1\n",
      " 3차항 :     1\n",
      " 4차항 :     2\n",
      " 5차항 :     3\n"
     ]
    }
   ],
   "source": [
    "def fibonacci(n): \n",
    "    if n<0:                                   # 입력 오류 검사\n",
    "        print(\"잘못된 입력입니다.\") \n",
    "    elif n==1:                                # 재귀호출 중단 조건\n",
    "        return 0 \n",
    "    elif n==2:                                # 재귀호출 중단 조건\n",
    "        return 1 \n",
    "    else: \n",
    "        return fibonacci(n-1) + fibonacci(n-2)  # 재귀호출\n",
    "n = int(input(\"몇 번째 항까지 출력 : \")) \n",
    "for i in range(1, n+1, 1):\n",
    "    print('{:2d}차항 : {:5d}'.format(i, fibonacci(i)))"
   ]
  },
  {
   "cell_type": "code",
   "execution_count": 10,
   "metadata": {},
   "outputs": [
    {
     "name": "stdout",
     "output_type": "stream",
     "text": [
      "2022-03-30 17:34:08.784116\n"
     ]
    }
   ],
   "source": [
    "import datetime              # 날짜와 시간을 다루는 모듈\n",
    "today= datetime.datetime.now()\n",
    "print(today)"
   ]
  },
  {
   "cell_type": "code",
   "execution_count": 11,
   "metadata": {},
   "outputs": [
    {
     "name": "stdout",
     "output_type": "stream",
     "text": [
      "day =  2022-03-30 17:39:04.355020\n",
      "today = 2022-03-30\n",
      "today.year= 2022\n",
      "today.month= 3\n",
      "today.day= 30\n"
     ]
    }
   ],
   "source": [
    "import datetime              # 날짜와 시간을 다루는 모듈\n",
    "day= datetime.datetime.now()\n",
    "print(\"day = \", day)\n",
    "today = datetime.date.today()\n",
    "print(\"today =\", today)\n",
    "print(\"today.year=\",today.year )\n",
    "print(\"today.month=\", today.month)\n",
    "print(\"today.day=\", today.day)"
   ]
  },
  {
   "cell_type": "code",
   "execution_count": 12,
   "metadata": {},
   "outputs": [
    {
     "name": "stdout",
     "output_type": "stream",
     "text": [
      "sum=  500000500000\n",
      "delay_time =    0.0986790657 [seconds]\n"
     ]
    }
   ],
   "source": [
    "import time\n",
    "time1 = time.time()\n",
    "sum= 0\n",
    "for i in range(1, 1000001, 1):\n",
    "    sum = sum+i\n",
    "print('sum= ', sum)\n",
    "time2 = time.time()\n",
    "print(\"delay_time = %15.10f [seconds]\"%(time2-time1))"
   ]
  },
  {
   "cell_type": "code",
   "execution_count": 13,
   "metadata": {},
   "outputs": [
    {
     "name": "stdout",
     "output_type": "stream",
     "text": [
      "This is printed immediately.\n",
      "sum=  0\n",
      "sum=  1\n",
      "sum=  3\n",
      "sum=  6\n",
      "sum=  10\n",
      "sum=  15\n",
      "sum=  21\n",
      "sum=  28\n",
      "sum=  36\n",
      "sum=  45\n",
      "sum=  55\n",
      "This is last print ending ....\n"
     ]
    }
   ],
   "source": [
    "# filename: delay_time_sleep.py\n",
    "import time\n",
    "print(\"This is printed immediately.\")\n",
    "sum= 0\n",
    "for i in range(0, 11,1):\n",
    "    sum = sum+i\n",
    "    print('sum= ', sum)\n",
    "    time.sleep(1) # time.sleep(2)\n",
    "print(\"This is last print ending ....\")"
   ]
  },
  {
   "cell_type": "code",
   "execution_count": null,
   "metadata": {},
   "outputs": [],
   "source": []
  }
 ],
 "metadata": {
  "interpreter": {
   "hash": "573638ae49551fcfe7f6e4028d99ee66259e02ec18060ba3ce06fdbb0c98767d"
  },
  "kernelspec": {
   "display_name": "Python 3.8.12 ('dicom')",
   "language": "python",
   "name": "python3"
  },
  "language_info": {
   "codemirror_mode": {
    "name": "ipython",
    "version": 3
   },
   "file_extension": ".py",
   "mimetype": "text/x-python",
   "name": "python",
   "nbconvert_exporter": "python",
   "pygments_lexer": "ipython3",
   "version": "3.8.12"
  },
  "orig_nbformat": 4
 },
 "nbformat": 4,
 "nbformat_minor": 2
}
