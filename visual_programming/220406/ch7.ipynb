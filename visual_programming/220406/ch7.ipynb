{
 "cells": [
  {
   "cell_type": "code",
   "execution_count": 1,
   "metadata": {},
   "outputs": [
    {
     "name": "stdout",
     "output_type": "stream",
     "text": [
      "현재 리스트 : [30, 10, 20]\n",
      "append(40) 후의 리스트 : [30, 10, 20, 40]\n",
      "pop()으로 추출한 값 : 40\n",
      "pop() 후의 리스트 : [30, 10, 20]\n",
      "sort() 후의 리스트 : [10, 20, 30]\n",
      "reverse() 후의 리스트 : [30, 20, 10]\n",
      "20값의 위치 : 1\n",
      "insert(2, 222) 후의 리스트 : [30, 20, 222, 10]\n",
      "remove(222) 후의 리스트 : [30, 20, 10]\n",
      "extend([77, 88, 77]) 후의 리스트 : [30, 20, 10, 77, 88, 77]\n",
      "77값의 개수 : 2\n"
     ]
    }
   ],
   "source": [
    "# 출제 예상 문제 2022.04.06\n",
    "myList = [30, 10, 20]\n",
    "print(\"현재 리스트 : %s\" % myList)\n",
    "myList.append(40)\n",
    "print(\"append(40) 후의 리스트 : %s\" % myList)\n",
    "print(\"pop()으로 추출한 값 : %s\" % myList.pop())\n",
    "print(\"pop() 후의 리스트 : %s\" % myList)\n",
    "myList.sort()\n",
    "print(\"sort() 후의 리스트 : %s\" % myList)\n",
    "myList.reverse()\n",
    "print(\"reverse() 후의 리스트 : %s\" % myList)\n",
    "print(\"20값의 위치 : %d\" % myList.index(20))\n",
    "myList.insert(2, 222)\n",
    "print(\"insert(2, 222) 후의 리스트 : %s\" % myList)\n",
    "myList.remove(222)\n",
    "print(\"remove(222) 후의 리스트 : %s\" % myList)\n",
    "myList.extend( [77, 88, 77] )\n",
    "print(\"extend([77, 88, 77]) 후의 리스트 : %s\" % myList)\n",
    "print(\"77값의 개수 : %d\" % myList.count(77))\n"
   ]
  },
  {
   "cell_type": "code",
   "execution_count": 2,
   "metadata": {},
   "outputs": [
    {
     "name": "stdout",
     "output_type": "stream",
     "text": [
      "273\n",
      "32\n",
      "103\n",
      "57\n",
      "52\n"
     ]
    }
   ],
   "source": [
    "# 리스트를 선언합니다\n",
    "array = [273, 32, 103, 57, 52]\n",
    "# 리스트에 반복문을 적용합니다\n",
    "for element in array:\n",
    "    print(element)"
   ]
  },
  {
   "cell_type": "code",
   "execution_count": 3,
   "metadata": {},
   "outputs": [
    {
     "name": "stdout",
     "output_type": "stream",
     "text": [
      "나는 빨간색을 가장 좋아합니다~~~\n",
      "나는 주황색을 가장 좋아합니다~~~\n",
      "나는 노란색을 가장 좋아합니다~~~\n",
      "나는 초록색을 가장 좋아합니다~~~\n",
      "나는 파랑색을 가장 좋아합니다~~~\n",
      "나는 남  색을 가장 좋아합니다~~~\n",
      "나는 보라색을 가장 좋아합니다~~~\n"
     ]
    }
   ],
   "source": [
    "colors = ['빨간색', '주황색', '노란색', '초록색', '파랑색', '남  색',  '보라색']\n",
    "for color in colors :\n",
    "        print('나는 %s을 가장 좋아합니다~~~' % color)"
   ]
  },
  {
   "cell_type": "code",
   "execution_count": 5,
   "metadata": {},
   "outputs": [
    {
     "name": "stdout",
     "output_type": "stream",
     "text": [
      "  1   2   3   4  \n",
      "  5   6   7   8  \n",
      "  9  10  11  12  \n"
     ]
    }
   ],
   "source": [
    "list1 = []\n",
    "list2 = []\n",
    "value=1 # 초기 값 \n",
    "for i in range(0, 3) :\n",
    "    for k in range(0, 4) :\n",
    "        list1.append(value)\n",
    "        value += 1\n",
    "    list2.append(list1) # list2에 list1을 채운다.\n",
    "    list1 = []  # list1 을 비움.  list1을 다시 채워야 하므로 …\n",
    "for i in range(0, 3) :\n",
    "    for k in range(0, 4) :\n",
    "        print(\"%3d\" % list2[i][k], end = \" \")\n",
    "    print( \" \")\n"
   ]
  },
  {
   "cell_type": "code",
   "execution_count": 6,
   "metadata": {},
   "outputs": [
    {
     "name": "stdout",
     "output_type": "stream",
     "text": [
      "   1    2    3    4 \n",
      "   5    6 \n",
      "   7    8    9 \n"
     ]
    }
   ],
   "source": [
    "s = [ [ 1, 2, 3, 4 ] ,\n",
    "    [ 5, 6], \n",
    "    [7, 8, 9 ] ]\n",
    "for i in range(len(s)):           # 세로 크기\n",
    "    for k in range(len(s[i])):   # 가로 크기, 열의 갯수\n",
    "        print(\"%4d\" %s[i][k], end=' ')\n",
    "    print()"
   ]
  },
  {
   "cell_type": "code",
   "execution_count": null,
   "metadata": {},
   "outputs": [],
   "source": []
  }
 ],
 "metadata": {
  "interpreter": {
   "hash": "573638ae49551fcfe7f6e4028d99ee66259e02ec18060ba3ce06fdbb0c98767d"
  },
  "kernelspec": {
   "display_name": "Python 3.8.12 ('dicom')",
   "language": "python",
   "name": "python3"
  },
  "language_info": {
   "codemirror_mode": {
    "name": "ipython",
    "version": 3
   },
   "file_extension": ".py",
   "mimetype": "text/x-python",
   "name": "python",
   "nbconvert_exporter": "python",
   "pygments_lexer": "ipython3",
   "version": "3.8.12"
  },
  "orig_nbformat": 4
 },
 "nbformat": 4,
 "nbformat_minor": 2
}
