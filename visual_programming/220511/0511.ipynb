{
 "cells": [
  {
   "cell_type": "code",
   "execution_count": 1,
   "metadata": {},
   "outputs": [
    {
     "name": "stdout",
     "output_type": "stream",
     "text": [
      "[2. 5.]\n"
     ]
    }
   ],
   "source": [
    "import numpy as np\n",
    "\n",
    "a = np.array([[4,3], [3,2]])\n",
    "b = np.array([23, 16])\n",
    "x = np.linalg.solve(a, b)\n",
    "print(x)"
   ]
  },
  {
   "cell_type": "code",
   "execution_count": 3,
   "metadata": {},
   "outputs": [
    {
     "data": {
      "text/plain": [
       "True"
      ]
     },
     "execution_count": 3,
     "metadata": {},
     "output_type": "execute_result"
    }
   ],
   "source": [
    "np.allclose(np.dot(a, x), b)"
   ]
  },
  {
   "cell_type": "code",
   "execution_count": 4,
   "metadata": {},
   "outputs": [
    {
     "name": "stdout",
     "output_type": "stream",
     "text": [
      "[2. 5.]\n",
      "4*2.0 + 3*5.0 = 23.0\n",
      "3*2.0 + 2*5.0 = 16.0\n"
     ]
    }
   ],
   "source": [
    "a = np.array([[4,3], [3,2]])\n",
    "b = np.array([23, 16])\n",
    "x = np.linalg.solve(a, b)\n",
    "print(x)\n",
    "print(f'4*{x[0]} + 3*{x[1]} = {4*x[0] + 3*x[1]}')\n",
    "print(f'3*{x[0]} + 2*{x[1]} = {3*x[0] + 2*x[1]}')"
   ]
  },
  {
   "cell_type": "code",
   "execution_count": 5,
   "metadata": {},
   "outputs": [
    {
     "name": "stdout",
     "output_type": "stream",
     "text": [
      "[-3.          3.33333333]\n",
      "2*-3.000000000000001+3*3.3333333333333335=3.9999999999999982\n",
      "5*-3.000000000000001+6*3.3333333333333335=4.9999999999999964\n"
     ]
    }
   ],
   "source": [
    "a = np.array([[2, 3], [5, 6]])\n",
    "b = np.array([4, 5])\n",
    "c = np.linalg.inv(a)\n",
    "d = np.dot(c, b)\n",
    "print(d)\n",
    "print('2*{}+3*{}={}'.format(d[0], d[1], 2*d[0]+3*d[1]))\n",
    "print('5*{}+6*{}={}'.format(d[0], d[1], 5*d[0]+6*d[1]))"
   ]
  },
  {
   "cell_type": "code",
   "execution_count": 9,
   "metadata": {},
   "outputs": [
    {
     "name": "stdout",
     "output_type": "stream",
     "text": [
      "[[ 2 -1  1]\n",
      " [ 3  9 -3]\n",
      " [ 1  2  3]]\n",
      "[ 3 12 -4]\n",
      "[ 2.44 -0.16 -2.04]\n",
      "2*(2.44)-1*(-0.16)+1(-2.04)=(3.0)\n",
      "3*(2.44)+9*(-0.16)-3(-2.04)=(12.0)\n",
      "1*(2.44)+2*(-0.16)+3(-2.04)=(-4.0)\n"
     ]
    }
   ],
   "source": [
    "mat1 = np.array([[2, -1, 1], [3, 9, -3], [1, 2, 3]])\n",
    "mat2 = np.array([3, 12, -4])\n",
    "print(mat1)\n",
    "print(mat2)\n",
    "c = np.linalg.solve(mat1, mat2)\n",
    "print(c)\n",
    "print('2*({})-1*({})+1({})=({})'.format(c[0], c[1], c[2], 2*c[0]-1*c[1]+1*c[2]))\n",
    "print('3*({})+9*({})-3({})=({})'.format(c[0], c[1], c[2], 3*c[0]+9*c[1]-3*c[2]))\n",
    "print('1*({})+2*({})+3({})=({})'.format(c[0], c[1], c[2], 1*c[0]+2*c[1]+3*c[2]))"
   ]
  },
  {
   "cell_type": "code",
   "execution_count": 11,
   "metadata": {},
   "outputs": [
    {
     "name": "stdout",
     "output_type": "stream",
     "text": [
      "[[ 2 -1  1]\n",
      " [ 3  9 -3]\n",
      " [ 1  2  3]]\n",
      "[ 3 12 -4]\n",
      "[ 2.44 -0.16 -2.04]\n",
      "2*(2.44)-1*(-0.1599999999999998)+1(-2.04)=(3.0)\n",
      "3*(2.44)+9*(-0.1599999999999998)-3(-2.04)=(12.000000000000004)\n",
      "1*(2.44)+2*(-0.1599999999999998)+3(-2.04)=(-4.0)\n"
     ]
    }
   ],
   "source": [
    "mat1 = np.array([[2, -1, 1], [3, 9, -3], [1, 2, 3]])\n",
    "mat2 = np.array([3, 12, -4])\n",
    "print(mat1)\n",
    "print(mat2)\n",
    "c = np.linalg.inv(mat1)\n",
    "d = np.dot(c, mat2)\n",
    "print(d)\n",
    "print('2*({})-1*({})+1({})=({})'.format(d[0], d[1], d[2], 2*d[0]-1*d[1]+1*d[2]))\n",
    "print('3*({})+9*({})-3({})=({})'.format(d[0], d[1], d[2], 3*d[0]+9*d[1]-3*d[2]))\n",
    "print('1*({})+2*({})+3({})=({})'.format(d[0], d[1], d[2], 1*d[0]+2*d[1]+3*d[2]))"
   ]
  },
  {
   "cell_type": "code",
   "execution_count": 12,
   "metadata": {},
   "outputs": [
    {
     "data": {
      "text/plain": [
       "array([[0., 1.],\n",
       "       [1., 1.],\n",
       "       [2., 1.],\n",
       "       [3., 1.]])"
      ]
     },
     "execution_count": 12,
     "metadata": {},
     "output_type": "execute_result"
    }
   ],
   "source": [
    "import matplotlib.pyplot as plt\n",
    "\n",
    "x = np.array([0, 1, 2, 3])\n",
    "y = np.array([-1, 0.2, 0.9, 2.1])\n",
    "\n",
    "A = np.vstack([x, np.ones(len(x))]).T\n",
    "A"
   ]
  },
  {
   "cell_type": "code",
   "execution_count": 14,
   "metadata": {},
   "outputs": [
    {
     "name": "stdout",
     "output_type": "stream",
     "text": [
      "0.9999999999999997 -0.949999999999999\n",
      "기울기 : 0.9999999999999997 절편 : -0.949999999999999\n"
     ]
    }
   ],
   "source": [
    "m, c = np.linalg.lstsq(A, y, rcond=None)[0]\n",
    "print(m, c)\n",
    "print(\"기울기 :\", m, \"절편 :\", c)"
   ]
  },
  {
   "cell_type": "code",
   "execution_count": 16,
   "metadata": {},
   "outputs": [
    {
     "data": {
      "image/png": "[encoded data removed]",
      "text/plain": [
       "<Figure size 432x288 with 1 Axes>"
      ]
     },
     "metadata": {
      "needs_background": "light"
     },
     "output_type": "display_data"
    }
   ],
   "source": [
    "plt.plot(x, y, 'o', label='Original data', markersize=10)\n",
    "plt.plot(x, m*x + c, 'r', label='Fitted line')\n",
    "plt.legend()\n",
    "plt.show()"
   ]
  },
  {
   "cell_type": "code",
   "execution_count": 17,
   "metadata": {},
   "outputs": [
    {
     "name": "stdout",
     "output_type": "stream",
     "text": [
      "[[0.24580423 1.        ]\n",
      " [0.59642861 1.        ]\n",
      " [0.35879163 1.        ]\n",
      " [0.37891011 1.        ]\n",
      " [0.02445137 1.        ]\n",
      " [0.23830957 1.        ]\n",
      " [0.38793433 1.        ]\n",
      " [0.68054104 1.        ]\n",
      " [0.83934083 1.        ]\n",
      " [0.76073689 1.        ]]\n",
      "기울기 : 1.9448642607472146 절편 : 0.26857823524544844\n"
     ]
    },
    {
     "data": {
      "image/png": "[encoded data removed]",
      "text/plain": [
       "<Figure size 432x288 with 1 Axes>"
      ]
     },
     "metadata": {
      "needs_background": "light"
     },
     "output_type": "display_data"
    }
   ],
   "source": [
    "np.random.seed(12345678)\n",
    "x = np.random.random(10)\n",
    "y = 1.6 * x + np.random.random(10)\n",
    "\n",
    "A = np.vstack([x, np.ones(len(x))]).T\n",
    "print(A)\n",
    "m, c = np.linalg.lstsq(A, y, rcond=None)[0]\n",
    "print(\"기울기 :\", m, \"절편 :\", c)\n",
    "\n",
    "plt.plot(x, y, 'o', label='Original data', markersize=10)\n",
    "plt.plot(x, m*x + c, 'r', label='Fitted line')\n",
    "plt.legend()\n",
    "plt.show()"
   ]
  },
  {
   "cell_type": "code",
   "execution_count": 18,
   "metadata": {},
   "outputs": [
    {
     "name": "stdout",
     "output_type": "stream",
     "text": [
      "[[0.24580423 1.        ]\n",
      " [0.59642861 1.        ]\n",
      " [0.35879163 1.        ]\n",
      " [0.37891011 1.        ]\n",
      " [0.02445137 1.        ]\n",
      " [0.23830957 1.        ]\n",
      " [0.38793433 1.        ]\n",
      " [0.68054104 1.        ]\n",
      " [0.83934083 1.        ]\n",
      " [0.76073689 1.        ]]\n",
      "lstsq model : 기울기 = 1.9448642607472146 절편 = 0.26857823524544844\n",
      "stats model : 기울기 = 1.9448642607472155 절편 = 0.26857823524544855\n"
     ]
    },
    {
     "data": {
      "image/png": "[encoded data removed]",
      "text/plain": [
       "<Figure size 432x288 with 1 Axes>"
      ]
     },
     "metadata": {
      "needs_background": "light"
     },
     "output_type": "display_data"
    }
   ],
   "source": [
    "np.random.seed(12345678)\n",
    "x = np.random.random(10)\n",
    "y = 1.6 * x + np.random.random(10)\n",
    "\n",
    "A = np.vstack([x, np.ones(len(x))]).T\n",
    "print(A)\n",
    "m, c = np.linalg.lstsq(A, y, rcond=None)[0]\n",
    "print(\"lstsq model : 기울기 =\", m, \"절편 =\", c)\n",
    "\n",
    "plt.plot(x, y, 'o', label='Original data', markersize=10)\n",
    "plt.plot(x, m*x + c, 'r', label='Fitted line')\n",
    "\n",
    "from scipy import stats\n",
    "slope, intercept, r_value, p_value, std_err = stats.linregress(x, y)\n",
    "print('stats model : 기울기 =', slope, \"절편 =\", intercept)\n",
    "plt.plot(x, intercept + slope*x, 'g>', markersize=10, label='stats fitted line')\n",
    "plt.legend()\n",
    "plt.show()"
   ]
  },
  {
   "cell_type": "code",
   "execution_count": 19,
   "metadata": {},
   "outputs": [
    {
     "name": "stdout",
     "output_type": "stream",
     "text": [
      "기울기 : [1.94486426]\n",
      "절편 : 0.2685782352454489\n",
      "결정계수 0.7354980392850925\n"
     ]
    },
    {
     "data": {
      "image/png": "[encoded data removed]",
      "text/plain": [
       "<Figure size 432x288 with 1 Axes>"
      ]
     },
     "metadata": {
      "needs_background": "light"
     },
     "output_type": "display_data"
    }
   ],
   "source": [
    "from sklearn import linear_model\n",
    "\n",
    "model = linear_model.LinearRegression()\n",
    "\n",
    "np.random.seed(12345678)\n",
    "x = np.random.random(10)\n",
    "X = x[:,np.newaxis]\n",
    "y = 1.6 * x + np.random.random(10)\n",
    "model.fit(X, y)\n",
    "\n",
    "plt.scatter(X, y, color='black')\n",
    "y_pred = model.predict(X)\n",
    "print('기울기 :', model.coef_)\n",
    "print('절편 :', model.intercept_)\n",
    "print('결정계수', model.score(X,y))\n",
    "\n",
    "plt.title('Linear Regression using sklearn linear_model')\n",
    "plt.plot(X, y_pred, color='red', linewidth=3)\n",
    "plt.show()"
   ]
  },
  {
   "cell_type": "code",
   "execution_count": 20,
   "metadata": {},
   "outputs": [
    {
     "data": {
      "text/plain": [
       "34"
      ]
     },
     "execution_count": 20,
     "metadata": {},
     "output_type": "execute_result"
    }
   ],
   "source": [
    "# x^3 - 2x^2 + 2 -> evaluate at x=4:\n",
    "np.polyval([1, -2, 0, 2], 4)"
   ]
  },
  {
   "cell_type": "code",
   "execution_count": 21,
   "metadata": {},
   "outputs": [
    {
     "data": {
      "text/plain": [
       "array([ 0.375     , -0.88690476,  1.05357143])"
      ]
     },
     "execution_count": 21,
     "metadata": {},
     "output_type": "execute_result"
    }
   ],
   "source": [
    "x = [1, 2, 3, 4, 5, 6, 7, 8]\n",
    "y = [0, 2, 1, 3, 7, 10, 11, 19]\n",
    "np.polyfit(x, y, 2)"
   ]
  },
  {
   "cell_type": "code",
   "execution_count": 23,
   "metadata": {},
   "outputs": [
    {
     "data": {
      "image/png": "[encoded data removed]",
      "text/plain": [
       "<Figure size 432x288 with 1 Axes>"
      ]
     },
     "metadata": {
      "needs_background": "light"
     },
     "output_type": "display_data"
    }
   ],
   "source": [
    "x = [1, 2, 3, 4, 5, 6, 7, 8]\n",
    "y = [0, 2, 1, 3, 7, 10, 11, 19]\n",
    "p = np.polyfit(x, y, 2)\n",
    "f = np.polyval(p, x)\n",
    "plt.plot(x, y, 'o', x, f, '-')\n",
    "plt.show()"
   ]
  },
  {
   "cell_type": "code",
   "execution_count": 41,
   "metadata": {},
   "outputs": [
    {
     "data": {
      "image/png": "[encoded data removed]",
      "text/plain": [
       "<Figure size 432x288 with 1 Axes>"
      ]
     },
     "metadata": {
      "needs_background": "light"
     },
     "output_type": "display_data"
    }
   ],
   "source": [
    "plt.rcParams['font.family'] = 'Malgun Gothic'\n",
    "plt.rcParams['axes.unicode_minus'] = False\n",
    "\n",
    "x = np.linspace(0, 4*np.pi, 20)\n",
    "y = np.sin(x)\n",
    "plt.plot(x, y, 'o', label='First')\n",
    "x1 = np.linspace(0, 4*np.pi)\n",
    "p = np.polyfit(x, y, 7)\n",
    "y1 = np.polyval(p, x1)\n",
    "plt.plot(x1, y1, '-', label='Second')\n",
    "plt.xlabel('x')\n",
    "plt.ylabel('y')\n",
    "plt.title(\"삼각함수에 대한 다항식 fitting\")\n",
    "plt.legend()\n",
    "plt.show()"
   ]
  },
  {
   "cell_type": "code",
   "execution_count": 42,
   "metadata": {},
   "outputs": [
    {
     "data": {
      "text/plain": [
       "array([0, 1, 2, 3, 4, 5, 6, 7, 8, 9])"
      ]
     },
     "execution_count": 42,
     "metadata": {},
     "output_type": "execute_result"
    }
   ],
   "source": [
    "a = np.array(range(10))\n",
    "a"
   ]
  },
  {
   "cell_type": "code",
   "execution_count": 45,
   "metadata": {},
   "outputs": [
    {
     "data": {
      "text/plain": [
       "array([0, 2, 6, 1, 4, 3, 9, 8, 5, 7])"
      ]
     },
     "execution_count": 45,
     "metadata": {},
     "output_type": "execute_result"
    }
   ],
   "source": [
    "np.random.shuffle(a)\n",
    "a"
   ]
  },
  {
   "cell_type": "code",
   "execution_count": 46,
   "metadata": {},
   "outputs": [
    {
     "data": {
      "text/plain": [
       "array([0., 1., 2., 3., 4., 5., 6., 7., 8., 9.])"
      ]
     },
     "execution_count": 46,
     "metadata": {},
     "output_type": "execute_result"
    }
   ],
   "source": [
    "b = np.array(range(10), float)\n",
    "b"
   ]
  },
  {
   "cell_type": "code",
   "execution_count": 47,
   "metadata": {},
   "outputs": [
    {
     "data": {
      "text/plain": [
       "array([7., 4., 5., 3., 0., 1., 9., 8., 2., 6.])"
      ]
     },
     "execution_count": 47,
     "metadata": {},
     "output_type": "execute_result"
    }
   ],
   "source": [
    "np.random.shuffle(b)\n",
    "b"
   ]
  },
  {
   "cell_type": "code",
   "execution_count": null,
   "metadata": {},
   "outputs": [],
   "source": []
  }
 ],
 "metadata": {
  "kernelspec": {
   "display_name": "jh",
   "language": "python",
   "name": "jh"
  },
  "language_info": {
   "codemirror_mode": {
    "name": "ipython",
    "version": 3
   },
   "file_extension": ".py",
   "mimetype": "text/x-python",
   "name": "python",
   "nbconvert_exporter": "python",
   "pygments_lexer": "ipython3",
   "version": "3.8.13"
  },
  "orig_nbformat": 4
 },
 "nbformat": 4,
 "nbformat_minor": 2
}
