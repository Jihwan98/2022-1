{
 "cells": [
  {
   "cell_type": "code",
   "execution_count": 1,
   "id": "1a38ee45",
   "metadata": {},
   "outputs": [
    {
     "name": "stdout",
     "output_type": "stream",
     "text": [
      "Hello World\n"
     ]
    }
   ],
   "source": [
    "print('Hello World')"
   ]
  },
  {
   "cell_type": "code",
   "execution_count": 2,
   "id": "3a060757",
   "metadata": {},
   "outputs": [
    {
     "name": "stdout",
     "output_type": "stream",
     "text": [
      "Hellow World Hellow World Hellow World Hellow World Hellow World \n"
     ]
    }
   ],
   "source": [
    "print('Hellow World ' * 5)"
   ]
  },
  {
   "cell_type": "code",
   "execution_count": 3,
   "id": "8e0e5e7e",
   "metadata": {},
   "outputs": [
    {
     "data": {
      "image/png": "[encoded data removed]",
      "text/plain": [
       "<Figure size 432x288 with 1 Axes>"
      ]
     },
     "metadata": {
      "needs_background": "light"
     },
     "output_type": "display_data"
    },
    {
     "data": {
      "text/plain": [
       "(None, None)"
      ]
     },
     "execution_count": 3,
     "metadata": {},
     "output_type": "execute_result"
    }
   ],
   "source": [
    "# ch01_draw.ipynb \n",
    "%matplotlib inline\n",
    "import matplotlib.pyplot as plt\n",
    "\n",
    "y = [1, 2, 3, 4, 5]\n",
    "plt.plot(y)\n",
    "plt.grid(), plt.show()"
   ]
  },
  {
   "cell_type": "code",
   "execution_count": 4,
   "id": "f25f33d6",
   "metadata": {},
   "outputs": [
    {
     "name": "stdout",
     "output_type": "stream",
     "text": [
      "Hello Python!!\n",
      "11\n",
      "area = 50.24\n"
     ]
    }
   ],
   "source": [
    "print('Hello Python!!')\n",
    "\n",
    "print(5 + 6)\n",
    "\n",
    "r = 4\n",
    "s = 3.14 * r * r\n",
    "print('area =', s)"
   ]
  },
  {
   "cell_type": "code",
   "execution_count": 5,
   "id": "9c262c93",
   "metadata": {},
   "outputs": [
    {
     "name": "stdout",
     "output_type": "stream",
     "text": [
      "5\n",
      "-1\n",
      "6\n",
      "0.6666666666666666\n",
      "23153542\n",
      "15241578780673678515622620750190521\n"
     ]
    }
   ],
   "source": [
    "print(2 + 3)\n",
    "print(2 - 3)\n",
    "print(2 * 3)\n",
    "print(2 / 3)\n",
    "print(2345 * 9876 - 5678)\n",
    "print(123456789123456789 * 123456789123456789)"
   ]
  },
  {
   "cell_type": "code",
   "execution_count": 6,
   "id": "6be4d681",
   "metadata": {},
   "outputs": [
    {
     "name": "stdout",
     "output_type": "stream",
     "text": [
      "Hello\n",
      "즐거운 파이썬 익히기\n",
      "반가워요 반가워요 반가워요 반가워요 반가워요 \n"
     ]
    }
   ],
   "source": [
    "print('Hello')\n",
    "print(\"즐거운 \" + \"파이썬 익히기\")\n",
    "print(\"반가워요 \" * 5) "
   ]
  },
  {
   "cell_type": "code",
   "execution_count": 7,
   "id": "a4951569",
   "metadata": {},
   "outputs": [],
   "source": [
    "# import turtle\n",
    "# t = turtle.Turtle()\n",
    "# t.shape('turtle')\n",
    "\n",
    "# t.forward(100)\n",
    "# t.left(120)\n",
    "# t.forward(100)\n",
    "# t.left(120)\n",
    "# t.forward(100)\n",
    "# t.left(120)\n",
    "\n",
    "# turtle.done()"
   ]
  },
  {
   "cell_type": "code",
   "execution_count": 8,
   "id": "bc8bd929",
   "metadata": {},
   "outputs": [
    {
     "name": "stdout",
     "output_type": "stream",
     "text": [
      "This is a multiline string\n",
      "with \"newline\" characters\n",
      "within the string\n"
     ]
    }
   ],
   "source": [
    "multiline_string = \"\"\"This is a multiline string\n",
    "with \"newline\" characters\n",
    "within the string\"\"\"\n",
    "print(multiline_string)"
   ]
  },
  {
   "cell_type": "code",
   "execution_count": 9,
   "id": "d41d6e70",
   "metadata": {},
   "outputs": [
    {
     "name": "stdout",
     "output_type": "stream",
     "text": [
      "안녕하세요? 여러분\n",
      "저는 파이썬을 무척 좋아합니다.\n",
      "9*8은 72 입니다.\n",
      "안녕히 계세요.\n"
     ]
    }
   ],
   "source": [
    "print(\"안녕하세요? 여러분\") \n",
    "print(\"저는 파이썬을 무척 좋아합니다.\")\n",
    "print(\"9*8은\", 9*8, \"입니다.\") \n",
    "print(\"안녕히 계세요.\")"
   ]
  },
  {
   "cell_type": "code",
   "execution_count": null,
   "id": "403706af",
   "metadata": {},
   "outputs": [],
   "source": []
  }
 ],
 "metadata": {
  "interpreter": {
   "hash": "8dcc9b413409f12615dd21623b5280692c290fe24a9a59e2cdfdf97bd682a824"
  },
  "kernelspec": {
   "display_name": "test",
   "language": "python",
   "name": "python3"
  },
  "language_info": {
   "codemirror_mode": {
    "name": "ipython",
    "version": 3
   },
   "file_extension": ".py",
   "mimetype": "text/x-python",
   "name": "python",
   "nbconvert_exporter": "python",
   "pygments_lexer": "ipython3",
   "version": "3.8.11"
  }
 },
 "nbformat": 4,
 "nbformat_minor": 5
}
