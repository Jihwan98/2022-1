{
 "cells": [
  {
   "cell_type": "code",
   "execution_count": 15,
   "metadata": {},
   "outputs": [
    {
     "name": "stdout",
     "output_type": "stream",
     "text": [
      "섭씨    화씨\n",
      "--------------------\n",
      "  -20    -4.0\n",
      "  -15     5.0\n",
      "  -10    14.0\n",
      "   -5    23.0\n",
      "    0    32.0\n",
      "    5    41.0\n",
      "   10    50.0\n",
      "   15    59.0\n",
      "   20    68.0\n",
      "   25    77.0\n",
      "   30    86.0\n",
      "섭씨    화씨\n",
      "--------------------\n",
      "  -20    -4.0\n",
      "  -15     5.0\n",
      "  -10    14.0\n",
      "   -5    23.0\n",
      "    0    32.0\n",
      "    5    41.0\n",
      "   10    50.0\n",
      "   15    59.0\n",
      "   20    68.0\n",
      "   25    77.0\n",
      "   30    86.0\n"
     ]
    }
   ],
   "source": [
    "\"\"\"\n",
    "[문제-1] 섭씨온도를 -20도부터 5도간격으로 30도까지 화씨온도로 변환하는 프로그램을 \n",
    "1) for 및 2) while 문을 이용하여 작성하시오. \n",
    "섭씨온도에대한 화씨온도를 format 서식지정자를 사용하여 출력하는 프로그램이다.  \n",
    "(F:화씨온도, C는 섭씨온도)  \n",
    "\n",
    "[실행결과]\n",
    "\n",
    "     섭씨       화씨\n",
    "\n",
    "----------------------------\n",
    "\n",
    "     -20      -4.0\n",
    "\n",
    "     -15       5.0\n",
    "\n",
    "     -10      14.0\n",
    "\n",
    "      -5      23.0\n",
    "\n",
    "       0      32.0\n",
    "\n",
    "       5      41.0\n",
    "\n",
    "      10      50.0\n",
    "\n",
    "      15      59.0\n",
    "\n",
    "      20      68.0\n",
    "\n",
    "      25      77.0\n",
    "\n",
    "      30      86.0\n",
    "      \n",
    "\"\"\"\n",
    "# 1) for 문\n",
    "print(\"섭씨    화씨\")\n",
    "print(\"-\" * 20)\n",
    "for c in range(-20, 31, 5):\n",
    "    f = (9/5) * c + 32\n",
    "    print(f\"  {c:3d}    {f:4.1f}\")\n",
    "\n",
    "# 2) while 문\n",
    "c = -20\n",
    "print(\"섭씨    화씨\")\n",
    "print(\"-\" * 20)\n",
    "while c < 31:\n",
    "    f = (9/5) * c + 32\n",
    "    print(f\"  {c:3d}    {f:4.1f}\")\n",
    "    c += 5"
   ]
  },
  {
   "cell_type": "code",
   "execution_count": 23,
   "metadata": {},
   "outputs": [
    {
     "name": "stdout",
     "output_type": "stream",
     "text": [
      "10 20 30 \n",
      "40 50 60 70 80 \n",
      "90 100 \n",
      "--------------------\n",
      "sum : 550\n"
     ]
    }
   ],
   "source": [
    "\"\"\"\n",
    "[문제-2] 행렬 s가 다음과 같이 주어진다. 실행결과와 같이 출력하는 프로그램을 작성하라.\n",
    "\n",
    "s = [[10, 20, 30],\n",
    "\n",
    "     [40, 50, 60, 70, 80],\n",
    "\n",
    "     [90, 100] ]\n",
    "\n",
    "[실행결과]\n",
    "\n",
    "  10  20  30\n",
    "\n",
    "  40  50  60  70  80\n",
    "\n",
    "  90 100\n",
    "\n",
    "-------------------------\n",
    "\n",
    "  sum :  550\n",
    "\n",
    "#----------이하 프로그램을 작성하라 ------------\n",
    "\n",
    "\"\"\"\n",
    "\n",
    "s = [[10, 20, 30],\n",
    "    [40, 50, 60, 70, 80],\n",
    "    [90, 100] ]\n",
    "sum = 0\n",
    "for i in range(len(s)):\n",
    "    for j in range(len(s[i])):\n",
    "        print(s[i][j], end=\" \")\n",
    "        sum += s[i][j]\n",
    "    print()\n",
    "print(\"-\"*20)\n",
    "print(\"sum :\", sum)"
   ]
  },
  {
   "cell_type": "code",
   "execution_count": 25,
   "metadata": {},
   "outputs": [
    {
     "name": "stdout",
     "output_type": "stream",
     "text": [
      "java : 20\n",
      "javascript : 8\n",
      "c : 7\n",
      "r : 4\n",
      "python : 28\n"
     ]
    }
   ],
   "source": [
    "\"\"\"\n",
    "[문제-3] 다음 딕셔너리(dictionary)는 다음과 같이 pgm_lang을 구성되어 있다(강의 때에 사용했던 딕셔너리 자료입니다) \n",
    "\n",
    "# make pgm_lang dictionary\n",
    "\n",
    "pgm_lang = {\"java\": 20,  \"javascript\": 8,  \"c\": 7,  \"r\": 4, \"python\":  28 } \n",
    "\n",
    "\n",
    "\n",
    "1) 딕셔너리 pgm_lang 을 다음과 같이 화면에 출력하기 위한 프로그램을 작성하라. \n",
    "\n",
    "[실행결과]\n",
    "\n",
    "java : 20\n",
    "\n",
    "javascript : 8\n",
    "\n",
    "c : 7\n",
    "\n",
    "r : 4\n",
    "\n",
    "python : 28\n",
    "\n",
    "\"\"\"\n",
    "pgm_lang = {\"java\": 20,  \"javascript\": 8,  \"c\": 7,  \"r\": 4, \"python\":  28 }\n",
    "for k, v in pgm_lang.items():\n",
    "    print(f\"{k} : {v}\")"
   ]
  },
  {
   "cell_type": "code",
   "execution_count": 30,
   "metadata": {},
   "outputs": [
    {
     "name": "stdout",
     "output_type": "stream",
     "text": [
      "c : 7\n",
      "java : 20\n",
      "javascript : 8\n",
      "python : 28\n",
      "r : 4\n"
     ]
    }
   ],
   "source": [
    "sorted_lang = sorted(pgm_lang.items(), key=lambda x:x[0])\n",
    "\n",
    "for k, v in sorted_lang:\n",
    "    print(f\"{k} : {v}\")"
   ]
  },
  {
   "cell_type": "code",
   "execution_count": 31,
   "metadata": {},
   "outputs": [
    {
     "name": "stdout",
     "output_type": "stream",
     "text": [
      "r : 4\n",
      "python : 28\n",
      "javascript : 8\n",
      "java : 20\n",
      "c : 7\n"
     ]
    }
   ],
   "source": [
    "sorted_lang = sorted(pgm_lang.items(), key=lambda x:x[0], reverse=True)\n",
    "\n",
    "for k, v in sorted_lang:\n",
    "    print(f\"{k} : {v}\")"
   ]
  },
  {
   "cell_type": "code",
   "execution_count": 36,
   "metadata": {},
   "outputs": [
    {
     "name": "stdout",
     "output_type": "stream",
     "text": [
      "순서    성적    순위(rank)\n",
      " 1       91      3\n",
      " 2       75      5\n",
      " 3       65      8\n",
      " 4       98      1\n",
      " 5       74      6\n",
      " 6       55     10\n",
      " 7       59      9\n",
      " 8       69      7\n",
      " 9       84      4\n",
      "10       97      2\n"
     ]
    }
   ],
   "source": [
    "\"\"\"\n",
    "[문제-4] 무작위 반복횟수를 입력받아 50부터 100까지의 숫자를 발생시켜 \n",
    "생성된 리스트의 순서와 생성리스트, 내림차순 순위로 정렬된 출력결과를 \n",
    "다음과 같이 출력하는 프로그램을 작성하시오. \n",
    "\n",
    "[출력 결과]\n",
    "\n",
    "순서   성적    순위(rank) \n",
    "\n",
    "-----------------------\n",
    "\n",
    "  1     93       2\n",
    "\n",
    "  2     77       8\n",
    "\n",
    "  3     83       5\n",
    "\n",
    "  4     83       5\n",
    "\n",
    "  5     60      10\n",
    "\n",
    "  6     64       9\n",
    "\n",
    "  7     78       7\n",
    "\n",
    "  8     90       3\n",
    "\n",
    "  9     96       1\n",
    "\n",
    " 10     89       4\n",
    " \n",
    "\"\"\"\n",
    "\n",
    "import random\n",
    "\n",
    "num = int(input(\"무작위 반복횟수 : \"))\n",
    "\n",
    "scores = []\n",
    "ranks = []\n",
    "for i in range(num):\n",
    "    scores.append(random.randint(50, 100))\n",
    "\n",
    "for i in range(len(scores)):\n",
    "    rank = 1\n",
    "    for j in range(len(scores)):\n",
    "        if scores[i] < scores[j]:\n",
    "            rank += 1\n",
    "    ranks.append(rank)\n",
    "\n",
    "print(\"순서    성적    순위(rank)\")\n",
    "for i in range(len(scores)):\n",
    "    print(f\"{i+1:2d}      {scores[i]:3d}     {ranks[i]:2d}\")"
   ]
  },
  {
   "cell_type": "code",
   "execution_count": 37,
   "metadata": {},
   "outputs": [],
   "source": [
    "\"\"\"\n",
    "[문제-5] 1) 1부터 10까지의 10개의 난수를 발생시킨 데이터를 \n",
    "d:/data/sample.txt에 저장하는 프로그램을 작성하시오. \n",
    "\"\"\"\n",
    "\n",
    "import random\n",
    "\n",
    "# file_path = 'd:/data/sample.txt'\n",
    "file_path = 'sample.txt'\n",
    "f = open(file_path, 'w')\n",
    "for i in range(10):\n",
    "    f.write(str(random.randrange(1, 11)) + \"\\n\")\n",
    "f.close()"
   ]
  },
  {
   "cell_type": "code",
   "execution_count": 39,
   "metadata": {},
   "outputs": [
    {
     "name": "stdout",
     "output_type": "stream",
     "text": [
      " 1번째 data= 9\n",
      " 2번째 data= 9\n",
      " 3번째 data= 1\n",
      " 4번째 data= 8\n",
      " 5번째 data= 8\n",
      " 6번째 data= 5\n",
      " 7번째 data= 8\n",
      " 8번째 data= 5\n",
      " 9번째 data= 7\n",
      "10번째 data= 5\n",
      "-------------------------\n",
      "data의 합계= 65, 평균= 6.5\n"
     ]
    }
   ],
   "source": [
    "\"\"\"\n",
    "2) d:/data/sample.txt 에 저장된 데이터를 읽어들인 후, \n",
    "\n",
    "순서대로 각각의 데이터를 출력한 후, 총점과 평균을 계산하는 프로그램을 작성하라.\n",
    "출력 예를 참고하여 프로그램을 작성하라. \n",
    "\n",
    "# 2번 문제_실행결과\n",
    "\n",
    " 1번째 data=  2\n",
    "\n",
    " 2번째 data= 10\n",
    "\n",
    " 3번째 data=  4\n",
    "\n",
    " 4번째 data=  8\n",
    "\n",
    " 5번째 data=  4\n",
    "\n",
    " 6번째 data=  9\n",
    "\n",
    " 7번째 data=  1\n",
    "\n",
    " 8번째 data=  7\n",
    "\n",
    " 9번째 data=  3\n",
    "\n",
    "10번째 data=  3\n",
    "\n",
    "------------------------------\n",
    "\n",
    "data의 합계= 51, 평균= 5.1\n",
    "\n",
    "\"\"\"\n",
    "\n",
    "# file_path = 'd:/data/sample.txt'\n",
    "file_path = 'sample.txt'\n",
    "\n",
    "f = open(file_path, 'r')\n",
    "count, sum = 0, 0\n",
    "while True:\n",
    "    inStr = f.readline()\n",
    "    if inStr == \"\":\n",
    "        break\n",
    "    count += 1\n",
    "    sum += int(inStr)\n",
    "    print(f\"{count:2d}번째 data={int(inStr):2d}\")\n",
    "print(\"-\"*25)\n",
    "print(f\"data의 합계= {sum}, 평균= {sum/count:.1f}\")\n"
   ]
  },
  {
   "cell_type": "code",
   "execution_count": null,
   "metadata": {},
   "outputs": [],
   "source": []
  }
 ],
 "metadata": {
  "interpreter": {
   "hash": "573638ae49551fcfe7f6e4028d99ee66259e02ec18060ba3ce06fdbb0c98767d"
  },
  "kernelspec": {
   "display_name": "Python 3.8.12 ('dicom')",
   "language": "python",
   "name": "python3"
  },
  "language_info": {
   "codemirror_mode": {
    "name": "ipython",
    "version": 3
   },
   "file_extension": ".py",
   "mimetype": "text/x-python",
   "name": "python",
   "nbconvert_exporter": "python",
   "pygments_lexer": "ipython3",
   "version": "3.8.12"
  },
  "orig_nbformat": 4
 },
 "nbformat": 4,
 "nbformat_minor": 2
}
